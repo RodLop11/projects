{
 "cells": [
  {
   "cell_type": "markdown",
   "metadata": {},
   "source": [
    "\n",
    "# Descripción del proyecto\n",
    "\n",
    "Trabajas como analista para el operador de telecomunicaciones Megaline. La empresa ofrece a sus clientes dos tarifas de prepago, Surf y Ultimate. El departamento comercial quiere saber cuál de los planes genera más ingresos para poder ajustar el presupuesto de publicidad.\n",
    "\n",
    "Vas a realizar un análisis preliminar de las tarifas basado en una selección de clientes relativamente pequeña. Tendrás los datos de 500 clientes de Megaline: quiénes son los clientes, de dónde son, qué tarifa usan, así como la cantidad de llamadas que hicieron y los mensajes de texto que enviaron en 2018. Tu trabajo es analizar el comportamiento de los clientes y determinar qué tarifa de prepago genera más ingresos."
   ]
  },
  {
   "cell_type": "markdown",
   "metadata": {},
   "source": [
    "El proposito de proyecto es explorar los datos de distintas fuentes para determinar, cual plan de prepago ofrece mejores regalías a la empresa, para asi poder enfocar mejor las campañas de marketing."
   ]
  },
  {
   "cell_type": "markdown",
   "metadata": {},
   "source": [
    "## Inicialización"
   ]
  },
  {
   "cell_type": "code",
   "execution_count": 1,
   "metadata": {},
   "outputs": [],
   "source": [
    "# Cargar todas las librerías\n",
    "import pandas as pd\n",
    "import matplotlib.pyplot as plt\n",
    "import numpy as np\n",
    "from IPython.display import display\n",
    "from scipy import stats as st\n",
    "import math\n",
    "from scipy.stats import levene"
   ]
  },
  {
   "cell_type": "markdown",
   "metadata": {},
   "source": [
    "## Cargar los datos"
   ]
  },
  {
   "cell_type": "code",
   "execution_count": 2,
   "metadata": {},
   "outputs": [],
   "source": [
    "# Carga los archivos de datos en diferentes DataFrames\n",
    "try:\n",
    "    data_int = pd.read_csv(\"megaline_internet.csv\")\n",
    "    data_plans = pd.read_csv(\"megaline_plans.csv\")\n",
    "    data_calls = pd.read_csv(\"megaline_calls.csv\")\n",
    "    data_msg = pd.read_csv(\"megaline_messages.csv\")\n",
    "    data = pd.read_csv(\"megaline_users.csv\")\n",
    "except:\n",
    "    data_int = pd.read_csv(\"/datasets/megaline_internet.csv\")\n",
    "    data_plans = pd.read_csv(\"/datasets/megaline_plans.csv\")\n",
    "    data_calls = pd.read_csv(\"/datasets/megaline_calls.csv\")\n",
    "    data_msg = pd.read_csv(\"/datasets/megaline_messages.csv\")\n",
    "    data = pd.read_csv(\"/datasets/megaline_users.csv\")"
   ]
  },
  {
   "cell_type": "markdown",
   "metadata": {},
   "source": [
    "## Preparar los datos"
   ]
  },
  {
   "cell_type": "code",
   "execution_count": 3,
   "metadata": {},
   "outputs": [
    {
     "data": {
      "text/html": [
       "<div>\n",
       "<style scoped>\n",
       "    .dataframe tbody tr th:only-of-type {\n",
       "        vertical-align: middle;\n",
       "    }\n",
       "\n",
       "    .dataframe tbody tr th {\n",
       "        vertical-align: top;\n",
       "    }\n",
       "\n",
       "    .dataframe thead th {\n",
       "        text-align: right;\n",
       "    }\n",
       "</style>\n",
       "<table border=\"1\" class=\"dataframe\">\n",
       "  <thead>\n",
       "    <tr style=\"text-align: right;\">\n",
       "      <th></th>\n",
       "      <th>id</th>\n",
       "      <th>user_id</th>\n",
       "      <th>session_date</th>\n",
       "      <th>mb_used</th>\n",
       "    </tr>\n",
       "  </thead>\n",
       "  <tbody>\n",
       "    <tr>\n",
       "      <th>0</th>\n",
       "      <td>1000_13</td>\n",
       "      <td>1000</td>\n",
       "      <td>2018-12-29</td>\n",
       "      <td>89.86</td>\n",
       "    </tr>\n",
       "    <tr>\n",
       "      <th>1</th>\n",
       "      <td>1000_204</td>\n",
       "      <td>1000</td>\n",
       "      <td>2018-12-31</td>\n",
       "      <td>0.00</td>\n",
       "    </tr>\n",
       "    <tr>\n",
       "      <th>2</th>\n",
       "      <td>1000_379</td>\n",
       "      <td>1000</td>\n",
       "      <td>2018-12-28</td>\n",
       "      <td>660.40</td>\n",
       "    </tr>\n",
       "    <tr>\n",
       "      <th>3</th>\n",
       "      <td>1000_413</td>\n",
       "      <td>1000</td>\n",
       "      <td>2018-12-26</td>\n",
       "      <td>270.99</td>\n",
       "    </tr>\n",
       "    <tr>\n",
       "      <th>4</th>\n",
       "      <td>1000_442</td>\n",
       "      <td>1000</td>\n",
       "      <td>2018-12-27</td>\n",
       "      <td>880.22</td>\n",
       "    </tr>\n",
       "  </tbody>\n",
       "</table>\n",
       "</div>"
      ],
      "text/plain": [
       "         id  user_id session_date  mb_used\n",
       "0   1000_13     1000   2018-12-29    89.86\n",
       "1  1000_204     1000   2018-12-31     0.00\n",
       "2  1000_379     1000   2018-12-28   660.40\n",
       "3  1000_413     1000   2018-12-26   270.99\n",
       "4  1000_442     1000   2018-12-27   880.22"
      ]
     },
     "execution_count": 3,
     "metadata": {},
     "output_type": "execute_result"
    }
   ],
   "source": [
    "data_int.head()"
   ]
  },
  {
   "cell_type": "code",
   "execution_count": 4,
   "metadata": {},
   "outputs": [
    {
     "data": {
      "text/html": [
       "<div>\n",
       "<style scoped>\n",
       "    .dataframe tbody tr th:only-of-type {\n",
       "        vertical-align: middle;\n",
       "    }\n",
       "\n",
       "    .dataframe tbody tr th {\n",
       "        vertical-align: top;\n",
       "    }\n",
       "\n",
       "    .dataframe thead th {\n",
       "        text-align: right;\n",
       "    }\n",
       "</style>\n",
       "<table border=\"1\" class=\"dataframe\">\n",
       "  <thead>\n",
       "    <tr style=\"text-align: right;\">\n",
       "      <th></th>\n",
       "      <th>messages_included</th>\n",
       "      <th>mb_per_month_included</th>\n",
       "      <th>minutes_included</th>\n",
       "      <th>usd_monthly_pay</th>\n",
       "      <th>usd_per_gb</th>\n",
       "      <th>usd_per_message</th>\n",
       "      <th>usd_per_minute</th>\n",
       "      <th>plan_name</th>\n",
       "    </tr>\n",
       "  </thead>\n",
       "  <tbody>\n",
       "    <tr>\n",
       "      <th>0</th>\n",
       "      <td>50</td>\n",
       "      <td>15360</td>\n",
       "      <td>500</td>\n",
       "      <td>20</td>\n",
       "      <td>10</td>\n",
       "      <td>0.03</td>\n",
       "      <td>0.03</td>\n",
       "      <td>surf</td>\n",
       "    </tr>\n",
       "    <tr>\n",
       "      <th>1</th>\n",
       "      <td>1000</td>\n",
       "      <td>30720</td>\n",
       "      <td>3000</td>\n",
       "      <td>70</td>\n",
       "      <td>7</td>\n",
       "      <td>0.01</td>\n",
       "      <td>0.01</td>\n",
       "      <td>ultimate</td>\n",
       "    </tr>\n",
       "  </tbody>\n",
       "</table>\n",
       "</div>"
      ],
      "text/plain": [
       "   messages_included  mb_per_month_included  minutes_included  \\\n",
       "0                 50                  15360               500   \n",
       "1               1000                  30720              3000   \n",
       "\n",
       "   usd_monthly_pay  usd_per_gb  usd_per_message  usd_per_minute plan_name  \n",
       "0               20          10             0.03            0.03      surf  \n",
       "1               70           7             0.01            0.01  ultimate  "
      ]
     },
     "execution_count": 4,
     "metadata": {},
     "output_type": "execute_result"
    }
   ],
   "source": [
    "data_plans.head()"
   ]
  },
  {
   "cell_type": "code",
   "execution_count": 5,
   "metadata": {},
   "outputs": [
    {
     "data": {
      "text/html": [
       "<div>\n",
       "<style scoped>\n",
       "    .dataframe tbody tr th:only-of-type {\n",
       "        vertical-align: middle;\n",
       "    }\n",
       "\n",
       "    .dataframe tbody tr th {\n",
       "        vertical-align: top;\n",
       "    }\n",
       "\n",
       "    .dataframe thead th {\n",
       "        text-align: right;\n",
       "    }\n",
       "</style>\n",
       "<table border=\"1\" class=\"dataframe\">\n",
       "  <thead>\n",
       "    <tr style=\"text-align: right;\">\n",
       "      <th></th>\n",
       "      <th>id</th>\n",
       "      <th>user_id</th>\n",
       "      <th>call_date</th>\n",
       "      <th>duration</th>\n",
       "    </tr>\n",
       "  </thead>\n",
       "  <tbody>\n",
       "    <tr>\n",
       "      <th>0</th>\n",
       "      <td>1000_93</td>\n",
       "      <td>1000</td>\n",
       "      <td>2018-12-27</td>\n",
       "      <td>8.52</td>\n",
       "    </tr>\n",
       "    <tr>\n",
       "      <th>1</th>\n",
       "      <td>1000_145</td>\n",
       "      <td>1000</td>\n",
       "      <td>2018-12-27</td>\n",
       "      <td>13.66</td>\n",
       "    </tr>\n",
       "    <tr>\n",
       "      <th>2</th>\n",
       "      <td>1000_247</td>\n",
       "      <td>1000</td>\n",
       "      <td>2018-12-27</td>\n",
       "      <td>14.48</td>\n",
       "    </tr>\n",
       "    <tr>\n",
       "      <th>3</th>\n",
       "      <td>1000_309</td>\n",
       "      <td>1000</td>\n",
       "      <td>2018-12-28</td>\n",
       "      <td>5.76</td>\n",
       "    </tr>\n",
       "    <tr>\n",
       "      <th>4</th>\n",
       "      <td>1000_380</td>\n",
       "      <td>1000</td>\n",
       "      <td>2018-12-30</td>\n",
       "      <td>4.22</td>\n",
       "    </tr>\n",
       "  </tbody>\n",
       "</table>\n",
       "</div>"
      ],
      "text/plain": [
       "         id  user_id   call_date  duration\n",
       "0   1000_93     1000  2018-12-27      8.52\n",
       "1  1000_145     1000  2018-12-27     13.66\n",
       "2  1000_247     1000  2018-12-27     14.48\n",
       "3  1000_309     1000  2018-12-28      5.76\n",
       "4  1000_380     1000  2018-12-30      4.22"
      ]
     },
     "execution_count": 5,
     "metadata": {},
     "output_type": "execute_result"
    }
   ],
   "source": [
    "data_calls.head()"
   ]
  },
  {
   "cell_type": "code",
   "execution_count": 6,
   "metadata": {},
   "outputs": [
    {
     "data": {
      "text/html": [
       "<div>\n",
       "<style scoped>\n",
       "    .dataframe tbody tr th:only-of-type {\n",
       "        vertical-align: middle;\n",
       "    }\n",
       "\n",
       "    .dataframe tbody tr th {\n",
       "        vertical-align: top;\n",
       "    }\n",
       "\n",
       "    .dataframe thead th {\n",
       "        text-align: right;\n",
       "    }\n",
       "</style>\n",
       "<table border=\"1\" class=\"dataframe\">\n",
       "  <thead>\n",
       "    <tr style=\"text-align: right;\">\n",
       "      <th></th>\n",
       "      <th>id</th>\n",
       "      <th>user_id</th>\n",
       "      <th>message_date</th>\n",
       "    </tr>\n",
       "  </thead>\n",
       "  <tbody>\n",
       "    <tr>\n",
       "      <th>0</th>\n",
       "      <td>1000_125</td>\n",
       "      <td>1000</td>\n",
       "      <td>2018-12-27</td>\n",
       "    </tr>\n",
       "    <tr>\n",
       "      <th>1</th>\n",
       "      <td>1000_160</td>\n",
       "      <td>1000</td>\n",
       "      <td>2018-12-31</td>\n",
       "    </tr>\n",
       "    <tr>\n",
       "      <th>2</th>\n",
       "      <td>1000_223</td>\n",
       "      <td>1000</td>\n",
       "      <td>2018-12-31</td>\n",
       "    </tr>\n",
       "    <tr>\n",
       "      <th>3</th>\n",
       "      <td>1000_251</td>\n",
       "      <td>1000</td>\n",
       "      <td>2018-12-27</td>\n",
       "    </tr>\n",
       "    <tr>\n",
       "      <th>4</th>\n",
       "      <td>1000_255</td>\n",
       "      <td>1000</td>\n",
       "      <td>2018-12-26</td>\n",
       "    </tr>\n",
       "  </tbody>\n",
       "</table>\n",
       "</div>"
      ],
      "text/plain": [
       "         id  user_id message_date\n",
       "0  1000_125     1000   2018-12-27\n",
       "1  1000_160     1000   2018-12-31\n",
       "2  1000_223     1000   2018-12-31\n",
       "3  1000_251     1000   2018-12-27\n",
       "4  1000_255     1000   2018-12-26"
      ]
     },
     "execution_count": 6,
     "metadata": {},
     "output_type": "execute_result"
    }
   ],
   "source": [
    "data_msg.head()"
   ]
  },
  {
   "cell_type": "code",
   "execution_count": 7,
   "metadata": {},
   "outputs": [
    {
     "data": {
      "text/html": [
       "<div>\n",
       "<style scoped>\n",
       "    .dataframe tbody tr th:only-of-type {\n",
       "        vertical-align: middle;\n",
       "    }\n",
       "\n",
       "    .dataframe tbody tr th {\n",
       "        vertical-align: top;\n",
       "    }\n",
       "\n",
       "    .dataframe thead th {\n",
       "        text-align: right;\n",
       "    }\n",
       "</style>\n",
       "<table border=\"1\" class=\"dataframe\">\n",
       "  <thead>\n",
       "    <tr style=\"text-align: right;\">\n",
       "      <th></th>\n",
       "      <th>user_id</th>\n",
       "      <th>first_name</th>\n",
       "      <th>last_name</th>\n",
       "      <th>age</th>\n",
       "      <th>city</th>\n",
       "      <th>reg_date</th>\n",
       "      <th>plan</th>\n",
       "      <th>churn_date</th>\n",
       "    </tr>\n",
       "  </thead>\n",
       "  <tbody>\n",
       "    <tr>\n",
       "      <th>0</th>\n",
       "      <td>1000</td>\n",
       "      <td>Anamaria</td>\n",
       "      <td>Bauer</td>\n",
       "      <td>45</td>\n",
       "      <td>Atlanta-Sandy Springs-Roswell, GA MSA</td>\n",
       "      <td>2018-12-24</td>\n",
       "      <td>ultimate</td>\n",
       "      <td>NaN</td>\n",
       "    </tr>\n",
       "    <tr>\n",
       "      <th>1</th>\n",
       "      <td>1001</td>\n",
       "      <td>Mickey</td>\n",
       "      <td>Wilkerson</td>\n",
       "      <td>28</td>\n",
       "      <td>Seattle-Tacoma-Bellevue, WA MSA</td>\n",
       "      <td>2018-08-13</td>\n",
       "      <td>surf</td>\n",
       "      <td>NaN</td>\n",
       "    </tr>\n",
       "    <tr>\n",
       "      <th>2</th>\n",
       "      <td>1002</td>\n",
       "      <td>Carlee</td>\n",
       "      <td>Hoffman</td>\n",
       "      <td>36</td>\n",
       "      <td>Las Vegas-Henderson-Paradise, NV MSA</td>\n",
       "      <td>2018-10-21</td>\n",
       "      <td>surf</td>\n",
       "      <td>NaN</td>\n",
       "    </tr>\n",
       "    <tr>\n",
       "      <th>3</th>\n",
       "      <td>1003</td>\n",
       "      <td>Reynaldo</td>\n",
       "      <td>Jenkins</td>\n",
       "      <td>52</td>\n",
       "      <td>Tulsa, OK MSA</td>\n",
       "      <td>2018-01-28</td>\n",
       "      <td>surf</td>\n",
       "      <td>NaN</td>\n",
       "    </tr>\n",
       "    <tr>\n",
       "      <th>4</th>\n",
       "      <td>1004</td>\n",
       "      <td>Leonila</td>\n",
       "      <td>Thompson</td>\n",
       "      <td>40</td>\n",
       "      <td>Seattle-Tacoma-Bellevue, WA MSA</td>\n",
       "      <td>2018-05-23</td>\n",
       "      <td>surf</td>\n",
       "      <td>NaN</td>\n",
       "    </tr>\n",
       "  </tbody>\n",
       "</table>\n",
       "</div>"
      ],
      "text/plain": [
       "   user_id first_name  last_name  age                                   city  \\\n",
       "0     1000   Anamaria      Bauer   45  Atlanta-Sandy Springs-Roswell, GA MSA   \n",
       "1     1001     Mickey  Wilkerson   28        Seattle-Tacoma-Bellevue, WA MSA   \n",
       "2     1002     Carlee    Hoffman   36   Las Vegas-Henderson-Paradise, NV MSA   \n",
       "3     1003   Reynaldo    Jenkins   52                          Tulsa, OK MSA   \n",
       "4     1004    Leonila   Thompson   40        Seattle-Tacoma-Bellevue, WA MSA   \n",
       "\n",
       "     reg_date      plan churn_date  \n",
       "0  2018-12-24  ultimate        NaN  \n",
       "1  2018-08-13      surf        NaN  \n",
       "2  2018-10-21      surf        NaN  \n",
       "3  2018-01-28      surf        NaN  \n",
       "4  2018-05-23      surf        NaN  "
      ]
     },
     "execution_count": 7,
     "metadata": {},
     "output_type": "execute_result"
    }
   ],
   "source": [
    "data.head()"
   ]
  },
  {
   "cell_type": "markdown",
   "metadata": {},
   "source": [
    "## Planes"
   ]
  },
  {
   "cell_type": "code",
   "execution_count": 8,
   "metadata": {},
   "outputs": [
    {
     "name": "stdout",
     "output_type": "stream",
     "text": [
      "<class 'pandas.core.frame.DataFrame'>\n",
      "RangeIndex: 2 entries, 0 to 1\n",
      "Data columns (total 8 columns):\n",
      " #   Column                 Non-Null Count  Dtype  \n",
      "---  ------                 --------------  -----  \n",
      " 0   messages_included      2 non-null      int64  \n",
      " 1   mb_per_month_included  2 non-null      int64  \n",
      " 2   minutes_included       2 non-null      int64  \n",
      " 3   usd_monthly_pay        2 non-null      int64  \n",
      " 4   usd_per_gb             2 non-null      int64  \n",
      " 5   usd_per_message        2 non-null      float64\n",
      " 6   usd_per_minute         2 non-null      float64\n",
      " 7   plan_name              2 non-null      object \n",
      "dtypes: float64(2), int64(5), object(1)\n",
      "memory usage: 256.0+ bytes\n",
      "\n",
      "Número de filas del conjunto de datos:  2\n",
      "Número de columnas del conjunto de datos:  8\n"
     ]
    }
   ],
   "source": [
    "# Imprime la información general/resumen sobre el DataFrame de los planes\n",
    "data_plans.info()\n",
    "print()\n",
    "print(f\"Número de filas del conjunto de datos: \",data_plans.shape[0])\n",
    "print(f\"Número de columnas del conjunto de datos: \",data_plans.shape[1])"
   ]
  },
  {
   "cell_type": "code",
   "execution_count": 9,
   "metadata": {},
   "outputs": [
    {
     "data": {
      "text/html": [
       "<div>\n",
       "<style scoped>\n",
       "    .dataframe tbody tr th:only-of-type {\n",
       "        vertical-align: middle;\n",
       "    }\n",
       "\n",
       "    .dataframe tbody tr th {\n",
       "        vertical-align: top;\n",
       "    }\n",
       "\n",
       "    .dataframe thead th {\n",
       "        text-align: right;\n",
       "    }\n",
       "</style>\n",
       "<table border=\"1\" class=\"dataframe\">\n",
       "  <thead>\n",
       "    <tr style=\"text-align: right;\">\n",
       "      <th></th>\n",
       "      <th>messages_included</th>\n",
       "      <th>mb_per_month_included</th>\n",
       "      <th>minutes_included</th>\n",
       "      <th>usd_monthly_pay</th>\n",
       "      <th>usd_per_gb</th>\n",
       "      <th>usd_per_message</th>\n",
       "      <th>usd_per_minute</th>\n",
       "      <th>plan_name</th>\n",
       "    </tr>\n",
       "  </thead>\n",
       "  <tbody>\n",
       "    <tr>\n",
       "      <th>0</th>\n",
       "      <td>50</td>\n",
       "      <td>15360</td>\n",
       "      <td>500</td>\n",
       "      <td>20</td>\n",
       "      <td>10</td>\n",
       "      <td>0.03</td>\n",
       "      <td>0.03</td>\n",
       "      <td>surf</td>\n",
       "    </tr>\n",
       "    <tr>\n",
       "      <th>1</th>\n",
       "      <td>1000</td>\n",
       "      <td>30720</td>\n",
       "      <td>3000</td>\n",
       "      <td>70</td>\n",
       "      <td>7</td>\n",
       "      <td>0.01</td>\n",
       "      <td>0.01</td>\n",
       "      <td>ultimate</td>\n",
       "    </tr>\n",
       "  </tbody>\n",
       "</table>\n",
       "</div>"
      ],
      "text/plain": [
       "   messages_included  mb_per_month_included  minutes_included  \\\n",
       "0                 50                  15360               500   \n",
       "1               1000                  30720              3000   \n",
       "\n",
       "   usd_monthly_pay  usd_per_gb  usd_per_message  usd_per_minute plan_name  \n",
       "0               20          10             0.03            0.03      surf  \n",
       "1               70           7             0.01            0.01  ultimate  "
      ]
     },
     "execution_count": 9,
     "metadata": {},
     "output_type": "execute_result"
    }
   ],
   "source": [
    "# Imprime una muestra de los datos para los planes\n",
    "data_plans.head()"
   ]
  },
  {
   "cell_type": "markdown",
   "metadata": {},
   "source": [
    "[Describe lo que ves y busca en la información general y en la muestra impresa de los datos el precio de arriba de los datos. ¿Hay algún problema (tipos de datos no adecuados, datos ausentes, etc.) que pudieran necesitar investigación y cambios adicionales? ¿Cómo pueden corregirse?]\n",
    "\n",
    "La columna `mb_per_mont_included` tiene los valores mal, se requiere corregir. "
   ]
  },
  {
   "cell_type": "markdown",
   "metadata": {},
   "source": [
    " "
   ]
  },
  {
   "cell_type": "markdown",
   "metadata": {},
   "source": [
    "## Corregir los datos"
   ]
  },
  {
   "cell_type": "markdown",
   "metadata": {},
   "source": [
    "## Enriquecer los datos"
   ]
  },
  {
   "cell_type": "markdown",
   "metadata": {},
   "source": [
    "## Usuarios"
   ]
  },
  {
   "cell_type": "code",
   "execution_count": 10,
   "metadata": {
    "scrolled": true
   },
   "outputs": [
    {
     "name": "stdout",
     "output_type": "stream",
     "text": [
      "<class 'pandas.core.frame.DataFrame'>\n",
      "RangeIndex: 500 entries, 0 to 499\n",
      "Data columns (total 8 columns):\n",
      " #   Column      Non-Null Count  Dtype \n",
      "---  ------      --------------  ----- \n",
      " 0   user_id     500 non-null    int64 \n",
      " 1   first_name  500 non-null    object\n",
      " 2   last_name   500 non-null    object\n",
      " 3   age         500 non-null    int64 \n",
      " 4   city        500 non-null    object\n",
      " 5   reg_date    500 non-null    object\n",
      " 6   plan        500 non-null    object\n",
      " 7   churn_date  34 non-null     object\n",
      "dtypes: int64(2), object(6)\n",
      "memory usage: 31.4+ KB\n",
      "\n",
      "Número de filas del conjunto de datos:  500\n",
      "Número de columnas del conjunto de datos:  8\n"
     ]
    }
   ],
   "source": [
    "# Imprime la información general/resumen sobre el DataFrame de los usuarios\n",
    "data.info()\n",
    "print()\n",
    "print(f\"Número de filas del conjunto de datos: \",data.shape[0])\n",
    "print(f\"Número de columnas del conjunto de datos: \",data.shape[1])"
   ]
  },
  {
   "cell_type": "markdown",
   "metadata": {},
   "source": [
    "No se encuentran valores ausentes.\n"
   ]
  },
  {
   "cell_type": "code",
   "execution_count": 11,
   "metadata": {
    "scrolled": true
   },
   "outputs": [
    {
     "data": {
      "text/html": [
       "<div>\n",
       "<style scoped>\n",
       "    .dataframe tbody tr th:only-of-type {\n",
       "        vertical-align: middle;\n",
       "    }\n",
       "\n",
       "    .dataframe tbody tr th {\n",
       "        vertical-align: top;\n",
       "    }\n",
       "\n",
       "    .dataframe thead th {\n",
       "        text-align: right;\n",
       "    }\n",
       "</style>\n",
       "<table border=\"1\" class=\"dataframe\">\n",
       "  <thead>\n",
       "    <tr style=\"text-align: right;\">\n",
       "      <th></th>\n",
       "      <th>user_id</th>\n",
       "      <th>first_name</th>\n",
       "      <th>last_name</th>\n",
       "      <th>age</th>\n",
       "      <th>city</th>\n",
       "      <th>reg_date</th>\n",
       "      <th>plan</th>\n",
       "      <th>churn_date</th>\n",
       "    </tr>\n",
       "  </thead>\n",
       "  <tbody>\n",
       "    <tr>\n",
       "      <th>0</th>\n",
       "      <td>1000</td>\n",
       "      <td>Anamaria</td>\n",
       "      <td>Bauer</td>\n",
       "      <td>45</td>\n",
       "      <td>Atlanta-Sandy Springs-Roswell, GA MSA</td>\n",
       "      <td>2018-12-24</td>\n",
       "      <td>ultimate</td>\n",
       "      <td>NaN</td>\n",
       "    </tr>\n",
       "    <tr>\n",
       "      <th>1</th>\n",
       "      <td>1001</td>\n",
       "      <td>Mickey</td>\n",
       "      <td>Wilkerson</td>\n",
       "      <td>28</td>\n",
       "      <td>Seattle-Tacoma-Bellevue, WA MSA</td>\n",
       "      <td>2018-08-13</td>\n",
       "      <td>surf</td>\n",
       "      <td>NaN</td>\n",
       "    </tr>\n",
       "    <tr>\n",
       "      <th>2</th>\n",
       "      <td>1002</td>\n",
       "      <td>Carlee</td>\n",
       "      <td>Hoffman</td>\n",
       "      <td>36</td>\n",
       "      <td>Las Vegas-Henderson-Paradise, NV MSA</td>\n",
       "      <td>2018-10-21</td>\n",
       "      <td>surf</td>\n",
       "      <td>NaN</td>\n",
       "    </tr>\n",
       "    <tr>\n",
       "      <th>3</th>\n",
       "      <td>1003</td>\n",
       "      <td>Reynaldo</td>\n",
       "      <td>Jenkins</td>\n",
       "      <td>52</td>\n",
       "      <td>Tulsa, OK MSA</td>\n",
       "      <td>2018-01-28</td>\n",
       "      <td>surf</td>\n",
       "      <td>NaN</td>\n",
       "    </tr>\n",
       "    <tr>\n",
       "      <th>4</th>\n",
       "      <td>1004</td>\n",
       "      <td>Leonila</td>\n",
       "      <td>Thompson</td>\n",
       "      <td>40</td>\n",
       "      <td>Seattle-Tacoma-Bellevue, WA MSA</td>\n",
       "      <td>2018-05-23</td>\n",
       "      <td>surf</td>\n",
       "      <td>NaN</td>\n",
       "    </tr>\n",
       "    <tr>\n",
       "      <th>5</th>\n",
       "      <td>1005</td>\n",
       "      <td>Livia</td>\n",
       "      <td>Shields</td>\n",
       "      <td>31</td>\n",
       "      <td>Dallas-Fort Worth-Arlington, TX MSA</td>\n",
       "      <td>2018-11-29</td>\n",
       "      <td>surf</td>\n",
       "      <td>NaN</td>\n",
       "    </tr>\n",
       "    <tr>\n",
       "      <th>6</th>\n",
       "      <td>1006</td>\n",
       "      <td>Jesusa</td>\n",
       "      <td>Bradford</td>\n",
       "      <td>73</td>\n",
       "      <td>San Francisco-Oakland-Berkeley, CA MSA</td>\n",
       "      <td>2018-11-27</td>\n",
       "      <td>ultimate</td>\n",
       "      <td>2018-12-18</td>\n",
       "    </tr>\n",
       "    <tr>\n",
       "      <th>7</th>\n",
       "      <td>1007</td>\n",
       "      <td>Eusebio</td>\n",
       "      <td>Welch</td>\n",
       "      <td>42</td>\n",
       "      <td>Grand Rapids-Kentwood, MI MSA</td>\n",
       "      <td>2018-07-11</td>\n",
       "      <td>surf</td>\n",
       "      <td>NaN</td>\n",
       "    </tr>\n",
       "    <tr>\n",
       "      <th>8</th>\n",
       "      <td>1008</td>\n",
       "      <td>Emely</td>\n",
       "      <td>Hoffman</td>\n",
       "      <td>53</td>\n",
       "      <td>Orlando-Kissimmee-Sanford, FL MSA</td>\n",
       "      <td>2018-08-03</td>\n",
       "      <td>ultimate</td>\n",
       "      <td>NaN</td>\n",
       "    </tr>\n",
       "    <tr>\n",
       "      <th>9</th>\n",
       "      <td>1009</td>\n",
       "      <td>Gerry</td>\n",
       "      <td>Little</td>\n",
       "      <td>19</td>\n",
       "      <td>San Jose-Sunnyvale-Santa Clara, CA MSA</td>\n",
       "      <td>2018-04-22</td>\n",
       "      <td>surf</td>\n",
       "      <td>NaN</td>\n",
       "    </tr>\n",
       "  </tbody>\n",
       "</table>\n",
       "</div>"
      ],
      "text/plain": [
       "   user_id first_name  last_name  age                                    city  \\\n",
       "0     1000   Anamaria      Bauer   45   Atlanta-Sandy Springs-Roswell, GA MSA   \n",
       "1     1001     Mickey  Wilkerson   28         Seattle-Tacoma-Bellevue, WA MSA   \n",
       "2     1002     Carlee    Hoffman   36    Las Vegas-Henderson-Paradise, NV MSA   \n",
       "3     1003   Reynaldo    Jenkins   52                           Tulsa, OK MSA   \n",
       "4     1004    Leonila   Thompson   40         Seattle-Tacoma-Bellevue, WA MSA   \n",
       "5     1005      Livia    Shields   31     Dallas-Fort Worth-Arlington, TX MSA   \n",
       "6     1006     Jesusa   Bradford   73  San Francisco-Oakland-Berkeley, CA MSA   \n",
       "7     1007    Eusebio      Welch   42           Grand Rapids-Kentwood, MI MSA   \n",
       "8     1008      Emely    Hoffman   53       Orlando-Kissimmee-Sanford, FL MSA   \n",
       "9     1009      Gerry     Little   19  San Jose-Sunnyvale-Santa Clara, CA MSA   \n",
       "\n",
       "     reg_date      plan  churn_date  \n",
       "0  2018-12-24  ultimate         NaN  \n",
       "1  2018-08-13      surf         NaN  \n",
       "2  2018-10-21      surf         NaN  \n",
       "3  2018-01-28      surf         NaN  \n",
       "4  2018-05-23      surf         NaN  \n",
       "5  2018-11-29      surf         NaN  \n",
       "6  2018-11-27  ultimate  2018-12-18  \n",
       "7  2018-07-11      surf         NaN  \n",
       "8  2018-08-03  ultimate         NaN  \n",
       "9  2018-04-22      surf         NaN  "
      ]
     },
     "execution_count": 11,
     "metadata": {},
     "output_type": "execute_result"
    }
   ],
   "source": [
    "# Imprime una muestra de los datos para los usuarios\n",
    "data.head(10)"
   ]
  },
  {
   "cell_type": "code",
   "execution_count": 12,
   "metadata": {
    "scrolled": false
   },
   "outputs": [
    {
     "data": {
      "text/plain": [
       "array([1000, 1001, 1002, 1003, 1004, 1005, 1006, 1007, 1008, 1009, 1010,\n",
       "       1011, 1012, 1013, 1014, 1015, 1016, 1017, 1018, 1019, 1020, 1021,\n",
       "       1022, 1023, 1024, 1025, 1026, 1027, 1028, 1029, 1030, 1031, 1032,\n",
       "       1033, 1034, 1035, 1036, 1037, 1038, 1039, 1040, 1041, 1042, 1043,\n",
       "       1044, 1045, 1046, 1047, 1048, 1049, 1050, 1051, 1052, 1053, 1054,\n",
       "       1055, 1056, 1057, 1058, 1059, 1060, 1061, 1062, 1063, 1064, 1065,\n",
       "       1066, 1067, 1068, 1069, 1070, 1071, 1072, 1073, 1074, 1075, 1076,\n",
       "       1077, 1078, 1079, 1080, 1081, 1082, 1083, 1084, 1085, 1086, 1087,\n",
       "       1088, 1089, 1090, 1091, 1092, 1093, 1094, 1095, 1096, 1097, 1098,\n",
       "       1099, 1100, 1101, 1102, 1103, 1104, 1105, 1106, 1107, 1108, 1109,\n",
       "       1110, 1111, 1112, 1113, 1114, 1115, 1116, 1117, 1118, 1119, 1120,\n",
       "       1121, 1122, 1123, 1124, 1125, 1126, 1127, 1128, 1129, 1130, 1131,\n",
       "       1132, 1133, 1134, 1135, 1136, 1137, 1138, 1139, 1140, 1141, 1142,\n",
       "       1143, 1144, 1145, 1146, 1147, 1148, 1149, 1150, 1151, 1152, 1153,\n",
       "       1154, 1155, 1156, 1157, 1158, 1159, 1160, 1161, 1162, 1163, 1164,\n",
       "       1165, 1166, 1167, 1168, 1169, 1170, 1171, 1172, 1173, 1174, 1175,\n",
       "       1176, 1177, 1178, 1179, 1180, 1181, 1182, 1183, 1184, 1185, 1186,\n",
       "       1187, 1188, 1189, 1190, 1191, 1192, 1193, 1194, 1195, 1196, 1197,\n",
       "       1198, 1199, 1200, 1201, 1202, 1203, 1204, 1205, 1206, 1207, 1208,\n",
       "       1209, 1210, 1211, 1212, 1213, 1214, 1215, 1216, 1217, 1218, 1219,\n",
       "       1220, 1221, 1222, 1223, 1224, 1225, 1226, 1227, 1228, 1229, 1230,\n",
       "       1231, 1232, 1233, 1234, 1235, 1236, 1237, 1238, 1239, 1240, 1241,\n",
       "       1242, 1243, 1244, 1245, 1246, 1247, 1248, 1249, 1250, 1251, 1252,\n",
       "       1253, 1254, 1255, 1256, 1257, 1258, 1259, 1260, 1261, 1262, 1263,\n",
       "       1264, 1265, 1266, 1267, 1268, 1269, 1270, 1271, 1272, 1273, 1274,\n",
       "       1275, 1276, 1277, 1278, 1279, 1280, 1281, 1282, 1283, 1284, 1285,\n",
       "       1286, 1287, 1288, 1289, 1290, 1291, 1292, 1293, 1294, 1295, 1296,\n",
       "       1297, 1298, 1299, 1300, 1301, 1302, 1303, 1304, 1305, 1306, 1307,\n",
       "       1308, 1309, 1310, 1311, 1312, 1313, 1314, 1315, 1316, 1317, 1318,\n",
       "       1319, 1320, 1321, 1322, 1323, 1324, 1325, 1326, 1327, 1328, 1329,\n",
       "       1330, 1331, 1332, 1333, 1334, 1335, 1336, 1337, 1338, 1339, 1340,\n",
       "       1341, 1342, 1343, 1344, 1345, 1346, 1347, 1348, 1349, 1350, 1351,\n",
       "       1352, 1353, 1354, 1355, 1356, 1357, 1358, 1359, 1360, 1361, 1362,\n",
       "       1363, 1364, 1365, 1366, 1367, 1368, 1369, 1370, 1371, 1372, 1373,\n",
       "       1374, 1375, 1376, 1377, 1378, 1379, 1380, 1381, 1382, 1383, 1384,\n",
       "       1385, 1386, 1387, 1388, 1389, 1390, 1391, 1392, 1393, 1394, 1395,\n",
       "       1396, 1397, 1398, 1399, 1400, 1401, 1402, 1403, 1404, 1405, 1406,\n",
       "       1407, 1408, 1409, 1410, 1411, 1412, 1413, 1414, 1415, 1416, 1417,\n",
       "       1418, 1419, 1420, 1421, 1422, 1423, 1424, 1425, 1426, 1427, 1428,\n",
       "       1429, 1430, 1431, 1432, 1433, 1434, 1435, 1436, 1437, 1438, 1439,\n",
       "       1440, 1441, 1442, 1443, 1444, 1445, 1446, 1447, 1448, 1449, 1450,\n",
       "       1451, 1452, 1453, 1454, 1455, 1456, 1457, 1458, 1459, 1460, 1461,\n",
       "       1462, 1463, 1464, 1465, 1466, 1467, 1468, 1469, 1470, 1471, 1472,\n",
       "       1473, 1474, 1475, 1476, 1477, 1478, 1479, 1480, 1481, 1482, 1483,\n",
       "       1484, 1485, 1486, 1487, 1488, 1489, 1490, 1491, 1492, 1493, 1494,\n",
       "       1495, 1496, 1497, 1498, 1499])"
      ]
     },
     "execution_count": 12,
     "metadata": {},
     "output_type": "execute_result"
    }
   ],
   "source": [
    "data[\"user_id\"].unique()"
   ]
  },
  {
   "cell_type": "markdown",
   "metadata": {},
   "source": [
    "No se encuentran valores repetidos o mal escritos en la columna `user_id`."
   ]
  },
  {
   "cell_type": "code",
   "execution_count": 13,
   "metadata": {
    "scrolled": false
   },
   "outputs": [
    {
     "data": {
      "text/plain": [
       "['Albany-Schenectady-Troy, NY MSA',\n",
       " 'Albuquerque, NM MSA',\n",
       " 'Atlanta-Sandy Springs-Roswell, GA MSA',\n",
       " 'Austin-Round Rock-Georgetown, TX MSA',\n",
       " 'Bakersfield, CA MSA',\n",
       " 'Baltimore-Columbia-Towson, MD MSA',\n",
       " 'Baton Rouge, LA MSA',\n",
       " 'Birmingham-Hoover, AL MSA',\n",
       " 'Boston-Cambridge-Newton, MA-NH MSA',\n",
       " 'Bridgeport-Stamford-Norwalk, CT MSA',\n",
       " 'Buffalo-Cheektowaga, NY MSA',\n",
       " 'Cape Coral-Fort Myers, FL MSA',\n",
       " 'Charleston-North Charleston, SC MSA',\n",
       " 'Charlotte-Concord-Gastonia, NC-SC MSA',\n",
       " 'Chicago-Naperville-Elgin, IL-IN-WI MSA',\n",
       " 'Cincinnati, OH-KY-IN MSA',\n",
       " 'Cleveland-Elyria, OH MSA',\n",
       " 'Colorado Springs, CO MSA',\n",
       " 'Columbia, SC MSA',\n",
       " 'Columbus, OH MSA',\n",
       " 'Dallas-Fort Worth-Arlington, TX MSA',\n",
       " 'Dayton-Kettering, OH MSA',\n",
       " 'Denver-Aurora-Lakewood, CO MSA',\n",
       " 'Detroit-Warren-Dearborn, MI MSA',\n",
       " 'El Paso, TX MSA',\n",
       " 'Fresno, CA MSA',\n",
       " 'Grand Rapids-Kentwood, MI MSA',\n",
       " 'Greensboro-High Point, NC MSA',\n",
       " 'Houston-The Woodlands-Sugar Land, TX MSA',\n",
       " 'Indianapolis-Carmel-Anderson, IN MSA',\n",
       " 'Jacksonville, FL MSA',\n",
       " 'Kansas City, MO-KS MSA',\n",
       " 'Knoxville, TN MSA',\n",
       " 'Las Vegas-Henderson-Paradise, NV MSA',\n",
       " 'Los Angeles-Long Beach-Anaheim, CA MSA',\n",
       " 'Louisville/Jefferson County, KY-IN MSA',\n",
       " 'Memphis, TN-MS-AR MSA',\n",
       " 'Miami-Fort Lauderdale-West Palm Beach, FL MSA',\n",
       " 'Milwaukee-Waukesha, WI MSA',\n",
       " 'Minneapolis-St. Paul-Bloomington, MN-WI MSA',\n",
       " 'Nashville-Davidson–Murfreesboro–Franklin, TN MSA',\n",
       " 'New Haven-Milford, CT MSA',\n",
       " 'New Orleans-Metairie, LA MSA',\n",
       " 'New York-Newark-Jersey City, NY-NJ-PA MSA',\n",
       " 'North Port-Sarasota-Bradenton, FL MSA',\n",
       " 'Oklahoma City, OK MSA',\n",
       " 'Omaha-Council Bluffs, NE-IA MSA',\n",
       " 'Orlando-Kissimmee-Sanford, FL MSA',\n",
       " 'Oxnard-Thousand Oaks-Ventura, CA MSA',\n",
       " 'Philadelphia-Camden-Wilmington, PA-NJ-DE-MD MSA',\n",
       " 'Phoenix-Mesa-Chandler, AZ MSA',\n",
       " 'Pittsburgh, PA MSA',\n",
       " 'Portland-Vancouver-Hillsboro, OR-WA MSA',\n",
       " 'Providence-Warwick, RI-MA MSA',\n",
       " 'Raleigh-Cary, NC MSA',\n",
       " 'Richmond, VA MSA',\n",
       " 'Riverside-San Bernardino-Ontario, CA MSA',\n",
       " 'Rochester, NY MSA',\n",
       " 'Sacramento–Roseville–Folsom, CA MSA',\n",
       " 'Salt Lake City, UT MSA',\n",
       " 'San Antonio-New Braunfels, TX MSA',\n",
       " 'San Diego-Chula Vista-Carlsbad, CA MSA',\n",
       " 'San Francisco-Oakland-Berkeley, CA MSA',\n",
       " 'San Jose-Sunnyvale-Santa Clara, CA MSA',\n",
       " 'Seattle-Tacoma-Bellevue, WA MSA',\n",
       " 'St. Louis, MO-IL MSA',\n",
       " 'Stockton, CA MSA',\n",
       " 'Tampa-St. Petersburg-Clearwater, FL MSA',\n",
       " 'Tucson, AZ MSA',\n",
       " 'Tulsa, OK MSA',\n",
       " 'Urban Honolulu, HI MSA',\n",
       " 'Virginia Beach-Norfolk-Newport News, VA-NC MSA',\n",
       " 'Washington-Arlington-Alexandria, DC-VA-MD-WV MSA']"
      ]
     },
     "execution_count": 13,
     "metadata": {},
     "output_type": "execute_result"
    }
   ],
   "source": [
    "sorted(data[\"city\"].unique())"
   ]
  },
  {
   "cell_type": "markdown",
   "metadata": {},
   "source": [
    "No se encuentra valores repetidos o mal escritos en la columna `city`, pe."
   ]
  },
  {
   "cell_type": "code",
   "execution_count": 14,
   "metadata": {},
   "outputs": [
    {
     "data": {
      "text/plain": [
       "0"
      ]
     },
     "execution_count": 14,
     "metadata": {},
     "output_type": "execute_result"
    }
   ],
   "source": [
    "data.duplicated().sum()"
   ]
  },
  {
   "cell_type": "markdown",
   "metadata": {},
   "source": [
    "No hay duplicados obvios en el dataset."
   ]
  },
  {
   "cell_type": "markdown",
   "metadata": {},
   "source": [
    "Los datos de las columnas `reg_date` y `churn_date` son de tipo object. Debido a que se presentan como fechas, habrá que cambiar el tipo de dato de objet a datetime. \n",
    "\n",
    "Se presentan datos ausentes en la columna `churn_date`, esto no nos afecta porque solo denota que los usuarios siguen registrados."
   ]
  },
  {
   "cell_type": "markdown",
   "metadata": {},
   "source": [
    " "
   ]
  },
  {
   "cell_type": "markdown",
   "metadata": {},
   "source": [
    "### Corregir datos"
   ]
  },
  {
   "cell_type": "markdown",
   "metadata": {},
   "source": [
    "[Corrige los problemas obvios con los datos basándote en las observaciones iniciales.]"
   ]
  },
  {
   "cell_type": "code",
   "execution_count": 15,
   "metadata": {},
   "outputs": [],
   "source": [
    "data[\"reg_date\"] = pd.to_datetime(data[\"reg_date\"], format= \"%Y-%m-%d\")\n",
    "data[\"churn_date\"] = pd.to_datetime(data[\"churn_date\"], format= \"%Y-%m-%d\")"
   ]
  },
  {
   "cell_type": "code",
   "execution_count": 16,
   "metadata": {},
   "outputs": [
    {
     "data": {
      "text/html": [
       "<div>\n",
       "<style scoped>\n",
       "    .dataframe tbody tr th:only-of-type {\n",
       "        vertical-align: middle;\n",
       "    }\n",
       "\n",
       "    .dataframe tbody tr th {\n",
       "        vertical-align: top;\n",
       "    }\n",
       "\n",
       "    .dataframe thead th {\n",
       "        text-align: right;\n",
       "    }\n",
       "</style>\n",
       "<table border=\"1\" class=\"dataframe\">\n",
       "  <thead>\n",
       "    <tr style=\"text-align: right;\">\n",
       "      <th></th>\n",
       "      <th>user_id</th>\n",
       "      <th>first_name</th>\n",
       "      <th>last_name</th>\n",
       "      <th>age</th>\n",
       "      <th>city</th>\n",
       "      <th>reg_date</th>\n",
       "      <th>plan</th>\n",
       "      <th>churn_date</th>\n",
       "    </tr>\n",
       "  </thead>\n",
       "  <tbody>\n",
       "    <tr>\n",
       "      <th>0</th>\n",
       "      <td>1000</td>\n",
       "      <td>Anamaria</td>\n",
       "      <td>Bauer</td>\n",
       "      <td>45</td>\n",
       "      <td>Atlanta-Sandy Springs-Roswell, GA MSA</td>\n",
       "      <td>2018-12-24</td>\n",
       "      <td>ultimate</td>\n",
       "      <td>NaT</td>\n",
       "    </tr>\n",
       "    <tr>\n",
       "      <th>1</th>\n",
       "      <td>1001</td>\n",
       "      <td>Mickey</td>\n",
       "      <td>Wilkerson</td>\n",
       "      <td>28</td>\n",
       "      <td>Seattle-Tacoma-Bellevue, WA MSA</td>\n",
       "      <td>2018-08-13</td>\n",
       "      <td>surf</td>\n",
       "      <td>NaT</td>\n",
       "    </tr>\n",
       "    <tr>\n",
       "      <th>2</th>\n",
       "      <td>1002</td>\n",
       "      <td>Carlee</td>\n",
       "      <td>Hoffman</td>\n",
       "      <td>36</td>\n",
       "      <td>Las Vegas-Henderson-Paradise, NV MSA</td>\n",
       "      <td>2018-10-21</td>\n",
       "      <td>surf</td>\n",
       "      <td>NaT</td>\n",
       "    </tr>\n",
       "    <tr>\n",
       "      <th>3</th>\n",
       "      <td>1003</td>\n",
       "      <td>Reynaldo</td>\n",
       "      <td>Jenkins</td>\n",
       "      <td>52</td>\n",
       "      <td>Tulsa, OK MSA</td>\n",
       "      <td>2018-01-28</td>\n",
       "      <td>surf</td>\n",
       "      <td>NaT</td>\n",
       "    </tr>\n",
       "    <tr>\n",
       "      <th>4</th>\n",
       "      <td>1004</td>\n",
       "      <td>Leonila</td>\n",
       "      <td>Thompson</td>\n",
       "      <td>40</td>\n",
       "      <td>Seattle-Tacoma-Bellevue, WA MSA</td>\n",
       "      <td>2018-05-23</td>\n",
       "      <td>surf</td>\n",
       "      <td>NaT</td>\n",
       "    </tr>\n",
       "    <tr>\n",
       "      <th>5</th>\n",
       "      <td>1005</td>\n",
       "      <td>Livia</td>\n",
       "      <td>Shields</td>\n",
       "      <td>31</td>\n",
       "      <td>Dallas-Fort Worth-Arlington, TX MSA</td>\n",
       "      <td>2018-11-29</td>\n",
       "      <td>surf</td>\n",
       "      <td>NaT</td>\n",
       "    </tr>\n",
       "    <tr>\n",
       "      <th>6</th>\n",
       "      <td>1006</td>\n",
       "      <td>Jesusa</td>\n",
       "      <td>Bradford</td>\n",
       "      <td>73</td>\n",
       "      <td>San Francisco-Oakland-Berkeley, CA MSA</td>\n",
       "      <td>2018-11-27</td>\n",
       "      <td>ultimate</td>\n",
       "      <td>2018-12-18</td>\n",
       "    </tr>\n",
       "    <tr>\n",
       "      <th>7</th>\n",
       "      <td>1007</td>\n",
       "      <td>Eusebio</td>\n",
       "      <td>Welch</td>\n",
       "      <td>42</td>\n",
       "      <td>Grand Rapids-Kentwood, MI MSA</td>\n",
       "      <td>2018-07-11</td>\n",
       "      <td>surf</td>\n",
       "      <td>NaT</td>\n",
       "    </tr>\n",
       "    <tr>\n",
       "      <th>8</th>\n",
       "      <td>1008</td>\n",
       "      <td>Emely</td>\n",
       "      <td>Hoffman</td>\n",
       "      <td>53</td>\n",
       "      <td>Orlando-Kissimmee-Sanford, FL MSA</td>\n",
       "      <td>2018-08-03</td>\n",
       "      <td>ultimate</td>\n",
       "      <td>NaT</td>\n",
       "    </tr>\n",
       "    <tr>\n",
       "      <th>9</th>\n",
       "      <td>1009</td>\n",
       "      <td>Gerry</td>\n",
       "      <td>Little</td>\n",
       "      <td>19</td>\n",
       "      <td>San Jose-Sunnyvale-Santa Clara, CA MSA</td>\n",
       "      <td>2018-04-22</td>\n",
       "      <td>surf</td>\n",
       "      <td>NaT</td>\n",
       "    </tr>\n",
       "  </tbody>\n",
       "</table>\n",
       "</div>"
      ],
      "text/plain": [
       "   user_id first_name  last_name  age                                    city  \\\n",
       "0     1000   Anamaria      Bauer   45   Atlanta-Sandy Springs-Roswell, GA MSA   \n",
       "1     1001     Mickey  Wilkerson   28         Seattle-Tacoma-Bellevue, WA MSA   \n",
       "2     1002     Carlee    Hoffman   36    Las Vegas-Henderson-Paradise, NV MSA   \n",
       "3     1003   Reynaldo    Jenkins   52                           Tulsa, OK MSA   \n",
       "4     1004    Leonila   Thompson   40         Seattle-Tacoma-Bellevue, WA MSA   \n",
       "5     1005      Livia    Shields   31     Dallas-Fort Worth-Arlington, TX MSA   \n",
       "6     1006     Jesusa   Bradford   73  San Francisco-Oakland-Berkeley, CA MSA   \n",
       "7     1007    Eusebio      Welch   42           Grand Rapids-Kentwood, MI MSA   \n",
       "8     1008      Emely    Hoffman   53       Orlando-Kissimmee-Sanford, FL MSA   \n",
       "9     1009      Gerry     Little   19  San Jose-Sunnyvale-Santa Clara, CA MSA   \n",
       "\n",
       "    reg_date      plan churn_date  \n",
       "0 2018-12-24  ultimate        NaT  \n",
       "1 2018-08-13      surf        NaT  \n",
       "2 2018-10-21      surf        NaT  \n",
       "3 2018-01-28      surf        NaT  \n",
       "4 2018-05-23      surf        NaT  \n",
       "5 2018-11-29      surf        NaT  \n",
       "6 2018-11-27  ultimate 2018-12-18  \n",
       "7 2018-07-11      surf        NaT  \n",
       "8 2018-08-03  ultimate        NaT  \n",
       "9 2018-04-22      surf        NaT  "
      ]
     },
     "execution_count": 16,
     "metadata": {},
     "output_type": "execute_result"
    }
   ],
   "source": [
    "data.head(10)"
   ]
  },
  {
   "cell_type": "markdown",
   "metadata": {},
   "source": [
    "### Enriquecer datos"
   ]
  },
  {
   "cell_type": "code",
   "execution_count": 17,
   "metadata": {},
   "outputs": [],
   "source": [
    "data[\"reg_month\"] = pd.DatetimeIndex(data[\"reg_date\"]).month"
   ]
  },
  {
   "cell_type": "code",
   "execution_count": 18,
   "metadata": {
    "scrolled": true
   },
   "outputs": [
    {
     "data": {
      "text/html": [
       "<div>\n",
       "<style scoped>\n",
       "    .dataframe tbody tr th:only-of-type {\n",
       "        vertical-align: middle;\n",
       "    }\n",
       "\n",
       "    .dataframe tbody tr th {\n",
       "        vertical-align: top;\n",
       "    }\n",
       "\n",
       "    .dataframe thead th {\n",
       "        text-align: right;\n",
       "    }\n",
       "</style>\n",
       "<table border=\"1\" class=\"dataframe\">\n",
       "  <thead>\n",
       "    <tr style=\"text-align: right;\">\n",
       "      <th></th>\n",
       "      <th>user_id</th>\n",
       "      <th>first_name</th>\n",
       "      <th>last_name</th>\n",
       "      <th>age</th>\n",
       "      <th>city</th>\n",
       "      <th>reg_date</th>\n",
       "      <th>plan</th>\n",
       "      <th>churn_date</th>\n",
       "      <th>reg_month</th>\n",
       "    </tr>\n",
       "  </thead>\n",
       "  <tbody>\n",
       "    <tr>\n",
       "      <th>0</th>\n",
       "      <td>1000</td>\n",
       "      <td>Anamaria</td>\n",
       "      <td>Bauer</td>\n",
       "      <td>45</td>\n",
       "      <td>Atlanta-Sandy Springs-Roswell, GA MSA</td>\n",
       "      <td>2018-12-24</td>\n",
       "      <td>ultimate</td>\n",
       "      <td>NaT</td>\n",
       "      <td>12</td>\n",
       "    </tr>\n",
       "    <tr>\n",
       "      <th>1</th>\n",
       "      <td>1001</td>\n",
       "      <td>Mickey</td>\n",
       "      <td>Wilkerson</td>\n",
       "      <td>28</td>\n",
       "      <td>Seattle-Tacoma-Bellevue, WA MSA</td>\n",
       "      <td>2018-08-13</td>\n",
       "      <td>surf</td>\n",
       "      <td>NaT</td>\n",
       "      <td>8</td>\n",
       "    </tr>\n",
       "    <tr>\n",
       "      <th>2</th>\n",
       "      <td>1002</td>\n",
       "      <td>Carlee</td>\n",
       "      <td>Hoffman</td>\n",
       "      <td>36</td>\n",
       "      <td>Las Vegas-Henderson-Paradise, NV MSA</td>\n",
       "      <td>2018-10-21</td>\n",
       "      <td>surf</td>\n",
       "      <td>NaT</td>\n",
       "      <td>10</td>\n",
       "    </tr>\n",
       "    <tr>\n",
       "      <th>3</th>\n",
       "      <td>1003</td>\n",
       "      <td>Reynaldo</td>\n",
       "      <td>Jenkins</td>\n",
       "      <td>52</td>\n",
       "      <td>Tulsa, OK MSA</td>\n",
       "      <td>2018-01-28</td>\n",
       "      <td>surf</td>\n",
       "      <td>NaT</td>\n",
       "      <td>1</td>\n",
       "    </tr>\n",
       "    <tr>\n",
       "      <th>4</th>\n",
       "      <td>1004</td>\n",
       "      <td>Leonila</td>\n",
       "      <td>Thompson</td>\n",
       "      <td>40</td>\n",
       "      <td>Seattle-Tacoma-Bellevue, WA MSA</td>\n",
       "      <td>2018-05-23</td>\n",
       "      <td>surf</td>\n",
       "      <td>NaT</td>\n",
       "      <td>5</td>\n",
       "    </tr>\n",
       "  </tbody>\n",
       "</table>\n",
       "</div>"
      ],
      "text/plain": [
       "   user_id first_name  last_name  age                                   city  \\\n",
       "0     1000   Anamaria      Bauer   45  Atlanta-Sandy Springs-Roswell, GA MSA   \n",
       "1     1001     Mickey  Wilkerson   28        Seattle-Tacoma-Bellevue, WA MSA   \n",
       "2     1002     Carlee    Hoffman   36   Las Vegas-Henderson-Paradise, NV MSA   \n",
       "3     1003   Reynaldo    Jenkins   52                          Tulsa, OK MSA   \n",
       "4     1004    Leonila   Thompson   40        Seattle-Tacoma-Bellevue, WA MSA   \n",
       "\n",
       "    reg_date      plan churn_date  reg_month  \n",
       "0 2018-12-24  ultimate        NaT         12  \n",
       "1 2018-08-13      surf        NaT          8  \n",
       "2 2018-10-21      surf        NaT         10  \n",
       "3 2018-01-28      surf        NaT          1  \n",
       "4 2018-05-23      surf        NaT          5  "
      ]
     },
     "execution_count": 18,
     "metadata": {},
     "output_type": "execute_result"
    }
   ],
   "source": [
    "data.head()"
   ]
  },
  {
   "cell_type": "markdown",
   "metadata": {},
   "source": [
    "## Llamadas"
   ]
  },
  {
   "cell_type": "code",
   "execution_count": 19,
   "metadata": {
    "scrolled": true
   },
   "outputs": [
    {
     "name": "stdout",
     "output_type": "stream",
     "text": [
      "<class 'pandas.core.frame.DataFrame'>\n",
      "RangeIndex: 137735 entries, 0 to 137734\n",
      "Data columns (total 4 columns):\n",
      " #   Column     Non-Null Count   Dtype  \n",
      "---  ------     --------------   -----  \n",
      " 0   id         137735 non-null  object \n",
      " 1   user_id    137735 non-null  int64  \n",
      " 2   call_date  137735 non-null  object \n",
      " 3   duration   137735 non-null  float64\n",
      "dtypes: float64(1), int64(1), object(2)\n",
      "memory usage: 4.2+ MB\n",
      "\n",
      "Número de filas del conjunto de datos:  137735\n",
      "Número de columnas del conjunto de datos:  4\n"
     ]
    }
   ],
   "source": [
    "# Imprime la información/resumen general sobre el DataFrame de las llamadas\n",
    "data_calls.info()\n",
    "print()\n",
    "print(f\"Número de filas del conjunto de datos: \",data_calls.shape[0])\n",
    "print(f\"Número de columnas del conjunto de datos: \",data_calls.shape[1])"
   ]
  },
  {
   "cell_type": "markdown",
   "metadata": {},
   "source": [
    "No se visualizan valores ausentes."
   ]
  },
  {
   "cell_type": "code",
   "execution_count": 20,
   "metadata": {
    "scrolled": false
   },
   "outputs": [
    {
     "data": {
      "text/html": [
       "<div>\n",
       "<style scoped>\n",
       "    .dataframe tbody tr th:only-of-type {\n",
       "        vertical-align: middle;\n",
       "    }\n",
       "\n",
       "    .dataframe tbody tr th {\n",
       "        vertical-align: top;\n",
       "    }\n",
       "\n",
       "    .dataframe thead th {\n",
       "        text-align: right;\n",
       "    }\n",
       "</style>\n",
       "<table border=\"1\" class=\"dataframe\">\n",
       "  <thead>\n",
       "    <tr style=\"text-align: right;\">\n",
       "      <th></th>\n",
       "      <th>id</th>\n",
       "      <th>user_id</th>\n",
       "      <th>call_date</th>\n",
       "      <th>duration</th>\n",
       "    </tr>\n",
       "  </thead>\n",
       "  <tbody>\n",
       "    <tr>\n",
       "      <th>0</th>\n",
       "      <td>1000_93</td>\n",
       "      <td>1000</td>\n",
       "      <td>2018-12-27</td>\n",
       "      <td>8.52</td>\n",
       "    </tr>\n",
       "    <tr>\n",
       "      <th>1</th>\n",
       "      <td>1000_145</td>\n",
       "      <td>1000</td>\n",
       "      <td>2018-12-27</td>\n",
       "      <td>13.66</td>\n",
       "    </tr>\n",
       "    <tr>\n",
       "      <th>2</th>\n",
       "      <td>1000_247</td>\n",
       "      <td>1000</td>\n",
       "      <td>2018-12-27</td>\n",
       "      <td>14.48</td>\n",
       "    </tr>\n",
       "    <tr>\n",
       "      <th>3</th>\n",
       "      <td>1000_309</td>\n",
       "      <td>1000</td>\n",
       "      <td>2018-12-28</td>\n",
       "      <td>5.76</td>\n",
       "    </tr>\n",
       "    <tr>\n",
       "      <th>4</th>\n",
       "      <td>1000_380</td>\n",
       "      <td>1000</td>\n",
       "      <td>2018-12-30</td>\n",
       "      <td>4.22</td>\n",
       "    </tr>\n",
       "    <tr>\n",
       "      <th>5</th>\n",
       "      <td>1000_388</td>\n",
       "      <td>1000</td>\n",
       "      <td>2018-12-31</td>\n",
       "      <td>2.20</td>\n",
       "    </tr>\n",
       "    <tr>\n",
       "      <th>6</th>\n",
       "      <td>1000_510</td>\n",
       "      <td>1000</td>\n",
       "      <td>2018-12-27</td>\n",
       "      <td>5.75</td>\n",
       "    </tr>\n",
       "    <tr>\n",
       "      <th>7</th>\n",
       "      <td>1000_521</td>\n",
       "      <td>1000</td>\n",
       "      <td>2018-12-28</td>\n",
       "      <td>14.18</td>\n",
       "    </tr>\n",
       "    <tr>\n",
       "      <th>8</th>\n",
       "      <td>1000_530</td>\n",
       "      <td>1000</td>\n",
       "      <td>2018-12-28</td>\n",
       "      <td>5.77</td>\n",
       "    </tr>\n",
       "    <tr>\n",
       "      <th>9</th>\n",
       "      <td>1000_544</td>\n",
       "      <td>1000</td>\n",
       "      <td>2018-12-26</td>\n",
       "      <td>4.40</td>\n",
       "    </tr>\n",
       "  </tbody>\n",
       "</table>\n",
       "</div>"
      ],
      "text/plain": [
       "         id  user_id   call_date  duration\n",
       "0   1000_93     1000  2018-12-27      8.52\n",
       "1  1000_145     1000  2018-12-27     13.66\n",
       "2  1000_247     1000  2018-12-27     14.48\n",
       "3  1000_309     1000  2018-12-28      5.76\n",
       "4  1000_380     1000  2018-12-30      4.22\n",
       "5  1000_388     1000  2018-12-31      2.20\n",
       "6  1000_510     1000  2018-12-27      5.75\n",
       "7  1000_521     1000  2018-12-28     14.18\n",
       "8  1000_530     1000  2018-12-28      5.77\n",
       "9  1000_544     1000  2018-12-26      4.40"
      ]
     },
     "execution_count": 20,
     "metadata": {},
     "output_type": "execute_result"
    }
   ],
   "source": [
    "# Imprime una muestra de datos para llamadas\n",
    "data_calls.head(10)"
   ]
  },
  {
   "cell_type": "code",
   "execution_count": 21,
   "metadata": {
    "scrolled": false
   },
   "outputs": [
    {
     "data": {
      "text/plain": [
       "array([1000, 1001, 1002, 1003, 1004, 1005, 1006, 1007, 1008, 1009, 1010,\n",
       "       1011, 1012, 1013, 1014, 1015, 1016, 1017, 1018, 1019, 1020, 1021,\n",
       "       1022, 1023, 1024, 1026, 1027, 1028, 1029, 1030, 1031, 1032, 1033,\n",
       "       1034, 1035, 1036, 1037, 1038, 1039, 1040, 1041, 1042, 1043, 1044,\n",
       "       1045, 1046, 1047, 1048, 1049, 1050, 1051, 1052, 1053, 1054, 1055,\n",
       "       1056, 1057, 1058, 1059, 1060, 1061, 1062, 1063, 1064, 1065, 1066,\n",
       "       1067, 1068, 1069, 1070, 1071, 1072, 1073, 1074, 1075, 1076, 1077,\n",
       "       1078, 1079, 1081, 1082, 1083, 1084, 1085, 1086, 1087, 1088, 1090,\n",
       "       1091, 1092, 1093, 1094, 1095, 1096, 1097, 1098, 1099, 1100, 1101,\n",
       "       1102, 1103, 1104, 1105, 1106, 1107, 1109, 1110, 1111, 1112, 1113,\n",
       "       1114, 1115, 1116, 1117, 1118, 1119, 1120, 1122, 1123, 1124, 1125,\n",
       "       1126, 1127, 1128, 1130, 1132, 1133, 1134, 1135, 1136, 1138, 1139,\n",
       "       1140, 1141, 1142, 1144, 1145, 1146, 1147, 1148, 1149, 1150, 1151,\n",
       "       1152, 1153, 1154, 1155, 1156, 1157, 1158, 1159, 1160, 1161, 1162,\n",
       "       1163, 1164, 1165, 1166, 1167, 1168, 1169, 1170, 1171, 1172, 1173,\n",
       "       1174, 1175, 1176, 1177, 1178, 1179, 1180, 1181, 1182, 1183, 1184,\n",
       "       1185, 1186, 1187, 1188, 1189, 1190, 1191, 1192, 1193, 1195, 1196,\n",
       "       1197, 1198, 1199, 1200, 1201, 1202, 1203, 1205, 1206, 1207, 1208,\n",
       "       1209, 1210, 1211, 1212, 1213, 1214, 1215, 1216, 1217, 1218, 1219,\n",
       "       1220, 1221, 1222, 1223, 1224, 1225, 1226, 1227, 1228, 1229, 1230,\n",
       "       1231, 1232, 1233, 1234, 1235, 1236, 1237, 1238, 1239, 1240, 1241,\n",
       "       1242, 1243, 1244, 1245, 1246, 1247, 1248, 1249, 1250, 1251, 1252,\n",
       "       1253, 1254, 1255, 1256, 1257, 1258, 1259, 1260, 1261, 1262, 1263,\n",
       "       1264, 1265, 1266, 1267, 1268, 1270, 1271, 1272, 1273, 1274, 1276,\n",
       "       1277, 1278, 1279, 1280, 1281, 1282, 1283, 1284, 1285, 1286, 1287,\n",
       "       1288, 1289, 1290, 1291, 1292, 1293, 1294, 1295, 1296, 1297, 1298,\n",
       "       1299, 1300, 1301, 1302, 1303, 1304, 1305, 1306, 1308, 1309, 1310,\n",
       "       1311, 1312, 1313, 1314, 1315, 1316, 1317, 1318, 1320, 1321, 1322,\n",
       "       1323, 1324, 1325, 1326, 1327, 1328, 1329, 1330, 1331, 1332, 1333,\n",
       "       1334, 1335, 1336, 1337, 1338, 1339, 1340, 1341, 1342, 1343, 1344,\n",
       "       1345, 1346, 1347, 1348, 1350, 1351, 1352, 1353, 1354, 1355, 1356,\n",
       "       1357, 1358, 1359, 1360, 1361, 1362, 1363, 1364, 1365, 1366, 1367,\n",
       "       1368, 1369, 1370, 1371, 1372, 1373, 1374, 1375, 1376, 1377, 1379,\n",
       "       1380, 1381, 1382, 1383, 1384, 1385, 1386, 1387, 1388, 1389, 1390,\n",
       "       1391, 1392, 1393, 1394, 1395, 1396, 1397, 1398, 1399, 1400, 1401,\n",
       "       1402, 1403, 1404, 1405, 1406, 1407, 1408, 1409, 1410, 1411, 1412,\n",
       "       1413, 1414, 1415, 1416, 1417, 1418, 1419, 1420, 1421, 1422, 1423,\n",
       "       1424, 1425, 1426, 1427, 1428, 1429, 1430, 1431, 1432, 1433, 1434,\n",
       "       1435, 1436, 1437, 1438, 1439, 1440, 1441, 1442, 1443, 1444, 1445,\n",
       "       1446, 1447, 1448, 1449, 1450, 1451, 1452, 1453, 1454, 1455, 1456,\n",
       "       1457, 1458, 1459, 1460, 1461, 1462, 1464, 1465, 1466, 1467, 1468,\n",
       "       1469, 1470, 1471, 1472, 1474, 1475, 1476, 1477, 1478, 1479, 1480,\n",
       "       1481, 1482, 1483, 1484, 1485, 1486, 1487, 1488, 1489, 1490, 1491,\n",
       "       1492, 1493, 1494, 1495, 1496, 1497, 1498, 1499])"
      ]
     },
     "execution_count": 21,
     "metadata": {},
     "output_type": "execute_result"
    }
   ],
   "source": [
    "data_calls[\"user_id\"].unique()"
   ]
  },
  {
   "cell_type": "markdown",
   "metadata": {},
   "source": [
    "No se encuentran valores mal escritos en la columna `user_id`"
   ]
  },
  {
   "cell_type": "code",
   "execution_count": 22,
   "metadata": {
    "scrolled": true
   },
   "outputs": [
    {
     "data": {
      "text/plain": [
       "0.00     0.194823\n",
       "8.37     0.000741\n",
       "4.02     0.000741\n",
       "3.91     0.000733\n",
       "7.61     0.000726\n",
       "           ...   \n",
       "32.53    0.000007\n",
       "24.74    0.000007\n",
       "29.31    0.000007\n",
       "29.30    0.000007\n",
       "23.29    0.000007\n",
       "Name: duration, Length: 2802, dtype: float64"
      ]
     },
     "execution_count": 22,
     "metadata": {},
     "output_type": "execute_result"
    }
   ],
   "source": [
    "data_calls[\"duration\"].value_counts(normalize= True) #ver los valores de la columna duration"
   ]
  },
  {
   "cell_type": "markdown",
   "metadata": {},
   "source": [
    "Se puede apreciar que casi un 20% de los valores esta en 0. La empresa esto lo considera como una llamada perdida. Debido a que estas llamadas no se cobran, porque no fueron concretadas, se eliminarán del analisis debido a que no tienen un impacto directo en el resultado."
   ]
  },
  {
   "cell_type": "code",
   "execution_count": 23,
   "metadata": {
    "scrolled": true
   },
   "outputs": [
    {
     "data": {
      "text/plain": [
       "0"
      ]
     },
     "execution_count": 23,
     "metadata": {},
     "output_type": "execute_result"
    }
   ],
   "source": [
    "data_calls.duplicated().sum()"
   ]
  },
  {
   "cell_type": "markdown",
   "metadata": {},
   "source": [
    "No se encuentran valores obvios duplicados."
   ]
  },
  {
   "cell_type": "markdown",
   "metadata": {},
   "source": [
    "Se puede visualizar en la columna `duration` de tipo float y minutos con decimlaes. Debido a que la empresa redondea los segundos a minutos, aunque haya pasado solo un segundo redondea al siguiente minuto, se rendondearan los minutos al siguiente entero. De igual manera, cambiaremos la columna a tipo int.\n",
    "\n",
    "En la columna `call_date` se requiere cambiar el tipo de formato a datetime.\n",
    "\n",
    "Se agregara una columna nueva llamada `month`, la cual guardará los valores del mes en el que se hicieron las llamadas."
   ]
  },
  {
   "cell_type": "markdown",
   "metadata": {},
   "source": [
    " "
   ]
  },
  {
   "cell_type": "markdown",
   "metadata": {},
   "source": [
    "### Corregir datos"
   ]
  },
  {
   "cell_type": "code",
   "execution_count": 24,
   "metadata": {
    "scrolled": true
   },
   "outputs": [],
   "source": [
    "data_calls[\"duration\"] = np.ceil(data_calls[\"duration\"]) #Se redondea hacia arriba la columna duration\n",
    "data_calls[\"duration\"] = data_calls[\"duration\"].astype(\"int\") #Se cambia la columna a tipo int."
   ]
  },
  {
   "cell_type": "code",
   "execution_count": 25,
   "metadata": {},
   "outputs": [],
   "source": [
    "data_calls = data_calls.query('duration != 0')"
   ]
  },
  {
   "cell_type": "code",
   "execution_count": 26,
   "metadata": {},
   "outputs": [
    {
     "data": {
      "text/html": [
       "<div>\n",
       "<style scoped>\n",
       "    .dataframe tbody tr th:only-of-type {\n",
       "        vertical-align: middle;\n",
       "    }\n",
       "\n",
       "    .dataframe tbody tr th {\n",
       "        vertical-align: top;\n",
       "    }\n",
       "\n",
       "    .dataframe thead th {\n",
       "        text-align: right;\n",
       "    }\n",
       "</style>\n",
       "<table border=\"1\" class=\"dataframe\">\n",
       "  <thead>\n",
       "    <tr style=\"text-align: right;\">\n",
       "      <th></th>\n",
       "      <th>id</th>\n",
       "      <th>user_id</th>\n",
       "      <th>call_date</th>\n",
       "      <th>duration</th>\n",
       "    </tr>\n",
       "  </thead>\n",
       "  <tbody>\n",
       "    <tr>\n",
       "      <th>0</th>\n",
       "      <td>1000_93</td>\n",
       "      <td>1000</td>\n",
       "      <td>2018-12-27</td>\n",
       "      <td>9</td>\n",
       "    </tr>\n",
       "    <tr>\n",
       "      <th>1</th>\n",
       "      <td>1000_145</td>\n",
       "      <td>1000</td>\n",
       "      <td>2018-12-27</td>\n",
       "      <td>14</td>\n",
       "    </tr>\n",
       "    <tr>\n",
       "      <th>2</th>\n",
       "      <td>1000_247</td>\n",
       "      <td>1000</td>\n",
       "      <td>2018-12-27</td>\n",
       "      <td>15</td>\n",
       "    </tr>\n",
       "    <tr>\n",
       "      <th>3</th>\n",
       "      <td>1000_309</td>\n",
       "      <td>1000</td>\n",
       "      <td>2018-12-28</td>\n",
       "      <td>6</td>\n",
       "    </tr>\n",
       "    <tr>\n",
       "      <th>4</th>\n",
       "      <td>1000_380</td>\n",
       "      <td>1000</td>\n",
       "      <td>2018-12-30</td>\n",
       "      <td>5</td>\n",
       "    </tr>\n",
       "    <tr>\n",
       "      <th>...</th>\n",
       "      <td>...</td>\n",
       "      <td>...</td>\n",
       "      <td>...</td>\n",
       "      <td>...</td>\n",
       "    </tr>\n",
       "    <tr>\n",
       "      <th>137730</th>\n",
       "      <td>1499_199</td>\n",
       "      <td>1499</td>\n",
       "      <td>2018-11-21</td>\n",
       "      <td>9</td>\n",
       "    </tr>\n",
       "    <tr>\n",
       "      <th>137731</th>\n",
       "      <td>1499_200</td>\n",
       "      <td>1499</td>\n",
       "      <td>2018-10-20</td>\n",
       "      <td>11</td>\n",
       "    </tr>\n",
       "    <tr>\n",
       "      <th>137732</th>\n",
       "      <td>1499_201</td>\n",
       "      <td>1499</td>\n",
       "      <td>2018-09-21</td>\n",
       "      <td>9</td>\n",
       "    </tr>\n",
       "    <tr>\n",
       "      <th>137733</th>\n",
       "      <td>1499_202</td>\n",
       "      <td>1499</td>\n",
       "      <td>2018-10-10</td>\n",
       "      <td>1</td>\n",
       "    </tr>\n",
       "    <tr>\n",
       "      <th>137734</th>\n",
       "      <td>1499_203</td>\n",
       "      <td>1499</td>\n",
       "      <td>2018-12-29</td>\n",
       "      <td>14</td>\n",
       "    </tr>\n",
       "  </tbody>\n",
       "</table>\n",
       "<p>110901 rows × 4 columns</p>\n",
       "</div>"
      ],
      "text/plain": [
       "              id  user_id   call_date  duration\n",
       "0        1000_93     1000  2018-12-27         9\n",
       "1       1000_145     1000  2018-12-27        14\n",
       "2       1000_247     1000  2018-12-27        15\n",
       "3       1000_309     1000  2018-12-28         6\n",
       "4       1000_380     1000  2018-12-30         5\n",
       "...          ...      ...         ...       ...\n",
       "137730  1499_199     1499  2018-11-21         9\n",
       "137731  1499_200     1499  2018-10-20        11\n",
       "137732  1499_201     1499  2018-09-21         9\n",
       "137733  1499_202     1499  2018-10-10         1\n",
       "137734  1499_203     1499  2018-12-29        14\n",
       "\n",
       "[110901 rows x 4 columns]"
      ]
     },
     "execution_count": 26,
     "metadata": {},
     "output_type": "execute_result"
    }
   ],
   "source": [
    "data_calls"
   ]
  },
  {
   "cell_type": "code",
   "execution_count": 27,
   "metadata": {
    "scrolled": true
   },
   "outputs": [
    {
     "data": {
      "text/html": [
       "<div>\n",
       "<style scoped>\n",
       "    .dataframe tbody tr th:only-of-type {\n",
       "        vertical-align: middle;\n",
       "    }\n",
       "\n",
       "    .dataframe tbody tr th {\n",
       "        vertical-align: top;\n",
       "    }\n",
       "\n",
       "    .dataframe thead th {\n",
       "        text-align: right;\n",
       "    }\n",
       "</style>\n",
       "<table border=\"1\" class=\"dataframe\">\n",
       "  <thead>\n",
       "    <tr style=\"text-align: right;\">\n",
       "      <th></th>\n",
       "      <th>id</th>\n",
       "      <th>user_id</th>\n",
       "      <th>call_date</th>\n",
       "      <th>duration</th>\n",
       "    </tr>\n",
       "  </thead>\n",
       "  <tbody>\n",
       "  </tbody>\n",
       "</table>\n",
       "</div>"
      ],
      "text/plain": [
       "Empty DataFrame\n",
       "Columns: [id, user_id, call_date, duration]\n",
       "Index: []"
      ]
     },
     "execution_count": 27,
     "metadata": {},
     "output_type": "execute_result"
    }
   ],
   "source": [
    "data_calls.query('duration == 0') # Se buscan valores en duration iguales a 0"
   ]
  },
  {
   "cell_type": "markdown",
   "metadata": {},
   "source": [
    "Se comprueba que no hay valores iguales a 0 en la columna `duration`"
   ]
  },
  {
   "cell_type": "code",
   "execution_count": 28,
   "metadata": {},
   "outputs": [],
   "source": [
    "data_calls[\"call_date\"] = pd.to_datetime(data_calls[\"call_date\"], format= \"%Y-%m-%d\")"
   ]
  },
  {
   "cell_type": "code",
   "execution_count": 29,
   "metadata": {
    "scrolled": true
   },
   "outputs": [
    {
     "name": "stdout",
     "output_type": "stream",
     "text": [
      "<class 'pandas.core.frame.DataFrame'>\n",
      "Int64Index: 110901 entries, 0 to 137734\n",
      "Data columns (total 4 columns):\n",
      " #   Column     Non-Null Count   Dtype         \n",
      "---  ------     --------------   -----         \n",
      " 0   id         110901 non-null  object        \n",
      " 1   user_id    110901 non-null  int64         \n",
      " 2   call_date  110901 non-null  datetime64[ns]\n",
      " 3   duration   110901 non-null  int64         \n",
      "dtypes: datetime64[ns](1), int64(2), object(1)\n",
      "memory usage: 4.2+ MB\n"
     ]
    }
   ],
   "source": [
    "data_calls.info()"
   ]
  },
  {
   "cell_type": "markdown",
   "metadata": {},
   "source": [
    "Se comprueba el cambio del tipo de valores de la columna `call_date`."
   ]
  },
  {
   "cell_type": "markdown",
   "metadata": {},
   "source": [
    "### Enriquecer datos"
   ]
  },
  {
   "cell_type": "code",
   "execution_count": 30,
   "metadata": {},
   "outputs": [],
   "source": [
    "data_calls[\"month\"] = pd.DatetimeIndex(data_calls[\"call_date\"]).month"
   ]
  },
  {
   "cell_type": "code",
   "execution_count": 31,
   "metadata": {
    "scrolled": true
   },
   "outputs": [
    {
     "data": {
      "text/html": [
       "<div>\n",
       "<style scoped>\n",
       "    .dataframe tbody tr th:only-of-type {\n",
       "        vertical-align: middle;\n",
       "    }\n",
       "\n",
       "    .dataframe tbody tr th {\n",
       "        vertical-align: top;\n",
       "    }\n",
       "\n",
       "    .dataframe thead th {\n",
       "        text-align: right;\n",
       "    }\n",
       "</style>\n",
       "<table border=\"1\" class=\"dataframe\">\n",
       "  <thead>\n",
       "    <tr style=\"text-align: right;\">\n",
       "      <th></th>\n",
       "      <th>id</th>\n",
       "      <th>user_id</th>\n",
       "      <th>call_date</th>\n",
       "      <th>duration</th>\n",
       "      <th>month</th>\n",
       "    </tr>\n",
       "  </thead>\n",
       "  <tbody>\n",
       "    <tr>\n",
       "      <th>0</th>\n",
       "      <td>1000_93</td>\n",
       "      <td>1000</td>\n",
       "      <td>2018-12-27</td>\n",
       "      <td>9</td>\n",
       "      <td>12</td>\n",
       "    </tr>\n",
       "    <tr>\n",
       "      <th>1</th>\n",
       "      <td>1000_145</td>\n",
       "      <td>1000</td>\n",
       "      <td>2018-12-27</td>\n",
       "      <td>14</td>\n",
       "      <td>12</td>\n",
       "    </tr>\n",
       "    <tr>\n",
       "      <th>2</th>\n",
       "      <td>1000_247</td>\n",
       "      <td>1000</td>\n",
       "      <td>2018-12-27</td>\n",
       "      <td>15</td>\n",
       "      <td>12</td>\n",
       "    </tr>\n",
       "    <tr>\n",
       "      <th>3</th>\n",
       "      <td>1000_309</td>\n",
       "      <td>1000</td>\n",
       "      <td>2018-12-28</td>\n",
       "      <td>6</td>\n",
       "      <td>12</td>\n",
       "    </tr>\n",
       "    <tr>\n",
       "      <th>4</th>\n",
       "      <td>1000_380</td>\n",
       "      <td>1000</td>\n",
       "      <td>2018-12-30</td>\n",
       "      <td>5</td>\n",
       "      <td>12</td>\n",
       "    </tr>\n",
       "  </tbody>\n",
       "</table>\n",
       "</div>"
      ],
      "text/plain": [
       "         id  user_id  call_date  duration  month\n",
       "0   1000_93     1000 2018-12-27         9     12\n",
       "1  1000_145     1000 2018-12-27        14     12\n",
       "2  1000_247     1000 2018-12-27        15     12\n",
       "3  1000_309     1000 2018-12-28         6     12\n",
       "4  1000_380     1000 2018-12-30         5     12"
      ]
     },
     "execution_count": 31,
     "metadata": {},
     "output_type": "execute_result"
    }
   ],
   "source": [
    "data_calls.head()"
   ]
  },
  {
   "cell_type": "markdown",
   "metadata": {},
   "source": [
    "Se observa que se agregó la columna nueva."
   ]
  },
  {
   "cell_type": "markdown",
   "metadata": {},
   "source": [
    "## Mensajes"
   ]
  },
  {
   "cell_type": "code",
   "execution_count": 32,
   "metadata": {
    "scrolled": true
   },
   "outputs": [
    {
     "name": "stdout",
     "output_type": "stream",
     "text": [
      "<class 'pandas.core.frame.DataFrame'>\n",
      "RangeIndex: 76051 entries, 0 to 76050\n",
      "Data columns (total 3 columns):\n",
      " #   Column        Non-Null Count  Dtype \n",
      "---  ------        --------------  ----- \n",
      " 0   id            76051 non-null  object\n",
      " 1   user_id       76051 non-null  int64 \n",
      " 2   message_date  76051 non-null  object\n",
      "dtypes: int64(1), object(2)\n",
      "memory usage: 1.7+ MB\n",
      "\n",
      "Número de filas del conjunto de datos:  76051\n",
      "Número de columnas del conjunto de datos:  3\n"
     ]
    }
   ],
   "source": [
    "# Imprime la información/resumen general sobre el DataFrame de los mensajes\n",
    "data_msg.info()\n",
    "print()\n",
    "print(f\"Número de filas del conjunto de datos: \",data_msg.shape[0])\n",
    "print(f\"Número de columnas del conjunto de datos: \",data_msg.shape[1])"
   ]
  },
  {
   "cell_type": "markdown",
   "metadata": {},
   "source": [
    "No se encuentra valores ausentes en el dataset."
   ]
  },
  {
   "cell_type": "code",
   "execution_count": 33,
   "metadata": {
    "scrolled": true
   },
   "outputs": [
    {
     "data": {
      "text/html": [
       "<div>\n",
       "<style scoped>\n",
       "    .dataframe tbody tr th:only-of-type {\n",
       "        vertical-align: middle;\n",
       "    }\n",
       "\n",
       "    .dataframe tbody tr th {\n",
       "        vertical-align: top;\n",
       "    }\n",
       "\n",
       "    .dataframe thead th {\n",
       "        text-align: right;\n",
       "    }\n",
       "</style>\n",
       "<table border=\"1\" class=\"dataframe\">\n",
       "  <thead>\n",
       "    <tr style=\"text-align: right;\">\n",
       "      <th></th>\n",
       "      <th>id</th>\n",
       "      <th>user_id</th>\n",
       "      <th>message_date</th>\n",
       "    </tr>\n",
       "  </thead>\n",
       "  <tbody>\n",
       "    <tr>\n",
       "      <th>0</th>\n",
       "      <td>1000_125</td>\n",
       "      <td>1000</td>\n",
       "      <td>2018-12-27</td>\n",
       "    </tr>\n",
       "    <tr>\n",
       "      <th>1</th>\n",
       "      <td>1000_160</td>\n",
       "      <td>1000</td>\n",
       "      <td>2018-12-31</td>\n",
       "    </tr>\n",
       "    <tr>\n",
       "      <th>2</th>\n",
       "      <td>1000_223</td>\n",
       "      <td>1000</td>\n",
       "      <td>2018-12-31</td>\n",
       "    </tr>\n",
       "    <tr>\n",
       "      <th>3</th>\n",
       "      <td>1000_251</td>\n",
       "      <td>1000</td>\n",
       "      <td>2018-12-27</td>\n",
       "    </tr>\n",
       "    <tr>\n",
       "      <th>4</th>\n",
       "      <td>1000_255</td>\n",
       "      <td>1000</td>\n",
       "      <td>2018-12-26</td>\n",
       "    </tr>\n",
       "    <tr>\n",
       "      <th>5</th>\n",
       "      <td>1000_346</td>\n",
       "      <td>1000</td>\n",
       "      <td>2018-12-29</td>\n",
       "    </tr>\n",
       "    <tr>\n",
       "      <th>6</th>\n",
       "      <td>1000_386</td>\n",
       "      <td>1000</td>\n",
       "      <td>2018-12-30</td>\n",
       "    </tr>\n",
       "    <tr>\n",
       "      <th>7</th>\n",
       "      <td>1000_413</td>\n",
       "      <td>1000</td>\n",
       "      <td>2018-12-31</td>\n",
       "    </tr>\n",
       "    <tr>\n",
       "      <th>8</th>\n",
       "      <td>1000_502</td>\n",
       "      <td>1000</td>\n",
       "      <td>2018-12-27</td>\n",
       "    </tr>\n",
       "    <tr>\n",
       "      <th>9</th>\n",
       "      <td>1000_525</td>\n",
       "      <td>1000</td>\n",
       "      <td>2018-12-28</td>\n",
       "    </tr>\n",
       "  </tbody>\n",
       "</table>\n",
       "</div>"
      ],
      "text/plain": [
       "         id  user_id message_date\n",
       "0  1000_125     1000   2018-12-27\n",
       "1  1000_160     1000   2018-12-31\n",
       "2  1000_223     1000   2018-12-31\n",
       "3  1000_251     1000   2018-12-27\n",
       "4  1000_255     1000   2018-12-26\n",
       "5  1000_346     1000   2018-12-29\n",
       "6  1000_386     1000   2018-12-30\n",
       "7  1000_413     1000   2018-12-31\n",
       "8  1000_502     1000   2018-12-27\n",
       "9  1000_525     1000   2018-12-28"
      ]
     },
     "execution_count": 33,
     "metadata": {},
     "output_type": "execute_result"
    }
   ],
   "source": [
    "# Imprime una muestra de datos para los mensajes\n",
    "data_msg.head(10)"
   ]
  },
  {
   "cell_type": "code",
   "execution_count": 34,
   "metadata": {
    "scrolled": true
   },
   "outputs": [
    {
     "data": {
      "text/plain": [
       "array([1000, 1001, 1002, 1003, 1004, 1005, 1006, 1007, 1008, 1011, 1013,\n",
       "       1014, 1015, 1016, 1017, 1018, 1019, 1020, 1023, 1026, 1027, 1028,\n",
       "       1029, 1030, 1031, 1032, 1033, 1034, 1035, 1036, 1037, 1038, 1039,\n",
       "       1043, 1044, 1045, 1046, 1047, 1051, 1052, 1053, 1054, 1055, 1056,\n",
       "       1057, 1058, 1059, 1060, 1061, 1062, 1064, 1065, 1066, 1067, 1069,\n",
       "       1070, 1072, 1075, 1076, 1077, 1078, 1079, 1080, 1081, 1082, 1083,\n",
       "       1084, 1086, 1087, 1088, 1089, 1090, 1091, 1092, 1093, 1094, 1095,\n",
       "       1096, 1098, 1099, 1100, 1101, 1102, 1103, 1104, 1105, 1107, 1110,\n",
       "       1111, 1112, 1113, 1114, 1115, 1116, 1118, 1119, 1120, 1121, 1122,\n",
       "       1123, 1124, 1125, 1126, 1127, 1128, 1130, 1131, 1132, 1133, 1134,\n",
       "       1136, 1137, 1138, 1139, 1140, 1141, 1142, 1144, 1145, 1146, 1147,\n",
       "       1148, 1151, 1154, 1155, 1159, 1160, 1161, 1162, 1163, 1164, 1165,\n",
       "       1167, 1168, 1169, 1170, 1172, 1173, 1174, 1175, 1176, 1177, 1178,\n",
       "       1179, 1180, 1181, 1182, 1183, 1184, 1186, 1187, 1188, 1189, 1190,\n",
       "       1191, 1192, 1193, 1194, 1195, 1196, 1197, 1198, 1199, 1200, 1201,\n",
       "       1203, 1204, 1205, 1206, 1207, 1209, 1211, 1212, 1213, 1214, 1215,\n",
       "       1218, 1219, 1220, 1221, 1222, 1223, 1224, 1227, 1228, 1229, 1230,\n",
       "       1231, 1232, 1234, 1235, 1236, 1237, 1240, 1241, 1242, 1243, 1244,\n",
       "       1245, 1246, 1247, 1248, 1249, 1250, 1251, 1252, 1253, 1254, 1255,\n",
       "       1256, 1257, 1258, 1259, 1260, 1261, 1262, 1263, 1264, 1266, 1267,\n",
       "       1268, 1270, 1271, 1272, 1273, 1274, 1276, 1278, 1279, 1280, 1281,\n",
       "       1283, 1285, 1286, 1287, 1289, 1290, 1291, 1293, 1294, 1295, 1296,\n",
       "       1298, 1299, 1301, 1302, 1303, 1304, 1305, 1308, 1309, 1312, 1313,\n",
       "       1314, 1315, 1316, 1318, 1320, 1323, 1324, 1326, 1327, 1328, 1329,\n",
       "       1330, 1331, 1332, 1333, 1334, 1335, 1336, 1337, 1339, 1340, 1341,\n",
       "       1342, 1343, 1344, 1345, 1346, 1347, 1348, 1349, 1350, 1351, 1352,\n",
       "       1354, 1355, 1356, 1357, 1358, 1361, 1362, 1363, 1364, 1365, 1366,\n",
       "       1369, 1370, 1371, 1372, 1373, 1374, 1375, 1376, 1377, 1379, 1380,\n",
       "       1381, 1382, 1383, 1384, 1385, 1386, 1387, 1388, 1391, 1392, 1393,\n",
       "       1394, 1395, 1396, 1398, 1399, 1401, 1404, 1405, 1407, 1408, 1409,\n",
       "       1410, 1412, 1413, 1414, 1416, 1417, 1419, 1420, 1421, 1422, 1423,\n",
       "       1424, 1425, 1428, 1429, 1430, 1431, 1432, 1433, 1434, 1435, 1438,\n",
       "       1439, 1440, 1441, 1442, 1443, 1444, 1445, 1446, 1447, 1448, 1450,\n",
       "       1451, 1452, 1453, 1454, 1455, 1456, 1457, 1458, 1460, 1462, 1464,\n",
       "       1465, 1466, 1467, 1468, 1469, 1470, 1471, 1472, 1474, 1475, 1476,\n",
       "       1477, 1478, 1479, 1480, 1481, 1482, 1483, 1484, 1485, 1486, 1487,\n",
       "       1489, 1491, 1492, 1494, 1496, 1497])"
      ]
     },
     "execution_count": 34,
     "metadata": {},
     "output_type": "execute_result"
    }
   ],
   "source": [
    "data_msg[\"user_id\"].unique()"
   ]
  },
  {
   "cell_type": "markdown",
   "metadata": {},
   "source": [
    "No aparecen valores mal escritos o repetidos en la columna."
   ]
  },
  {
   "cell_type": "code",
   "execution_count": 35,
   "metadata": {
    "scrolled": true
   },
   "outputs": [
    {
     "data": {
      "text/plain": [
       "0"
      ]
     },
     "execution_count": 35,
     "metadata": {},
     "output_type": "execute_result"
    }
   ],
   "source": [
    "data_msg.duplicated().sum()"
   ]
  },
  {
   "cell_type": "markdown",
   "metadata": {},
   "source": [
    "No hay valores obvios duplicados."
   ]
  },
  {
   "cell_type": "markdown",
   "metadata": {},
   "source": [
    "La columna `message_date` es de tipo object, como los valores representan fechas se cambiará a tipo datetime.\n",
    "De igual manera, se creara una columna donde ira el valor del mes en el que fue enviado el mensaje."
   ]
  },
  {
   "cell_type": "markdown",
   "metadata": {},
   "source": [
    " "
   ]
  },
  {
   "cell_type": "markdown",
   "metadata": {},
   "source": [
    "### Corregir datos"
   ]
  },
  {
   "cell_type": "code",
   "execution_count": 36,
   "metadata": {},
   "outputs": [],
   "source": [
    "data_msg[\"message_date\"] = pd.to_datetime(data_msg[\"message_date\"], format= \"%Y-%m-%d\")"
   ]
  },
  {
   "cell_type": "code",
   "execution_count": 37,
   "metadata": {
    "scrolled": true
   },
   "outputs": [
    {
     "name": "stdout",
     "output_type": "stream",
     "text": [
      "<class 'pandas.core.frame.DataFrame'>\n",
      "RangeIndex: 76051 entries, 0 to 76050\n",
      "Data columns (total 3 columns):\n",
      " #   Column        Non-Null Count  Dtype         \n",
      "---  ------        --------------  -----         \n",
      " 0   id            76051 non-null  object        \n",
      " 1   user_id       76051 non-null  int64         \n",
      " 2   message_date  76051 non-null  datetime64[ns]\n",
      "dtypes: datetime64[ns](1), int64(1), object(1)\n",
      "memory usage: 1.7+ MB\n"
     ]
    }
   ],
   "source": [
    "data_msg.info()"
   ]
  },
  {
   "cell_type": "markdown",
   "metadata": {},
   "source": [
    "Se comprueba el cambio del tipo de valor en la columna `message_date`"
   ]
  },
  {
   "cell_type": "markdown",
   "metadata": {},
   "source": [
    "### Enriquecer datos"
   ]
  },
  {
   "cell_type": "code",
   "execution_count": 38,
   "metadata": {},
   "outputs": [],
   "source": [
    "data_msg[\"month\"] = pd.DatetimeIndex(data_msg[\"message_date\"]).month"
   ]
  },
  {
   "cell_type": "code",
   "execution_count": 39,
   "metadata": {
    "scrolled": true
   },
   "outputs": [
    {
     "data": {
      "text/html": [
       "<div>\n",
       "<style scoped>\n",
       "    .dataframe tbody tr th:only-of-type {\n",
       "        vertical-align: middle;\n",
       "    }\n",
       "\n",
       "    .dataframe tbody tr th {\n",
       "        vertical-align: top;\n",
       "    }\n",
       "\n",
       "    .dataframe thead th {\n",
       "        text-align: right;\n",
       "    }\n",
       "</style>\n",
       "<table border=\"1\" class=\"dataframe\">\n",
       "  <thead>\n",
       "    <tr style=\"text-align: right;\">\n",
       "      <th></th>\n",
       "      <th>id</th>\n",
       "      <th>user_id</th>\n",
       "      <th>message_date</th>\n",
       "      <th>month</th>\n",
       "    </tr>\n",
       "  </thead>\n",
       "  <tbody>\n",
       "    <tr>\n",
       "      <th>0</th>\n",
       "      <td>1000_125</td>\n",
       "      <td>1000</td>\n",
       "      <td>2018-12-27</td>\n",
       "      <td>12</td>\n",
       "    </tr>\n",
       "    <tr>\n",
       "      <th>1</th>\n",
       "      <td>1000_160</td>\n",
       "      <td>1000</td>\n",
       "      <td>2018-12-31</td>\n",
       "      <td>12</td>\n",
       "    </tr>\n",
       "    <tr>\n",
       "      <th>2</th>\n",
       "      <td>1000_223</td>\n",
       "      <td>1000</td>\n",
       "      <td>2018-12-31</td>\n",
       "      <td>12</td>\n",
       "    </tr>\n",
       "    <tr>\n",
       "      <th>3</th>\n",
       "      <td>1000_251</td>\n",
       "      <td>1000</td>\n",
       "      <td>2018-12-27</td>\n",
       "      <td>12</td>\n",
       "    </tr>\n",
       "    <tr>\n",
       "      <th>4</th>\n",
       "      <td>1000_255</td>\n",
       "      <td>1000</td>\n",
       "      <td>2018-12-26</td>\n",
       "      <td>12</td>\n",
       "    </tr>\n",
       "  </tbody>\n",
       "</table>\n",
       "</div>"
      ],
      "text/plain": [
       "         id  user_id message_date  month\n",
       "0  1000_125     1000   2018-12-27     12\n",
       "1  1000_160     1000   2018-12-31     12\n",
       "2  1000_223     1000   2018-12-31     12\n",
       "3  1000_251     1000   2018-12-27     12\n",
       "4  1000_255     1000   2018-12-26     12"
      ]
     },
     "execution_count": 39,
     "metadata": {},
     "output_type": "execute_result"
    }
   ],
   "source": [
    "data_msg.head()"
   ]
  },
  {
   "cell_type": "markdown",
   "metadata": {},
   "source": [
    "Se visualiza la nueva columna `month`"
   ]
  },
  {
   "cell_type": "markdown",
   "metadata": {},
   "source": [
    "## Internet"
   ]
  },
  {
   "cell_type": "code",
   "execution_count": 40,
   "metadata": {
    "scrolled": true
   },
   "outputs": [
    {
     "name": "stdout",
     "output_type": "stream",
     "text": [
      "<class 'pandas.core.frame.DataFrame'>\n",
      "RangeIndex: 104825 entries, 0 to 104824\n",
      "Data columns (total 4 columns):\n",
      " #   Column        Non-Null Count   Dtype  \n",
      "---  ------        --------------   -----  \n",
      " 0   id            104825 non-null  object \n",
      " 1   user_id       104825 non-null  int64  \n",
      " 2   session_date  104825 non-null  object \n",
      " 3   mb_used       104825 non-null  float64\n",
      "dtypes: float64(1), int64(1), object(2)\n",
      "memory usage: 3.2+ MB\n",
      "\n",
      "Número de filas del conjunto de datos:  104825\n",
      "Número de columnas del conjunto de datos:  4\n"
     ]
    }
   ],
   "source": [
    "# Imprime la información/resumen general sobre el DataFrame de los mensajes\n",
    "data_int.info()\n",
    "print()\n",
    "print(f\"Número de filas del conjunto de datos: \",data_int.shape[0])\n",
    "print(f\"Número de columnas del conjunto de datos: \",data_int.shape[1])"
   ]
  },
  {
   "cell_type": "markdown",
   "metadata": {},
   "source": [
    "No se encuentra valores ausentes en el dataset."
   ]
  },
  {
   "cell_type": "code",
   "execution_count": 41,
   "metadata": {
    "scrolled": true
   },
   "outputs": [
    {
     "data": {
      "text/html": [
       "<div>\n",
       "<style scoped>\n",
       "    .dataframe tbody tr th:only-of-type {\n",
       "        vertical-align: middle;\n",
       "    }\n",
       "\n",
       "    .dataframe tbody tr th {\n",
       "        vertical-align: top;\n",
       "    }\n",
       "\n",
       "    .dataframe thead th {\n",
       "        text-align: right;\n",
       "    }\n",
       "</style>\n",
       "<table border=\"1\" class=\"dataframe\">\n",
       "  <thead>\n",
       "    <tr style=\"text-align: right;\">\n",
       "      <th></th>\n",
       "      <th>id</th>\n",
       "      <th>user_id</th>\n",
       "      <th>session_date</th>\n",
       "      <th>mb_used</th>\n",
       "    </tr>\n",
       "  </thead>\n",
       "  <tbody>\n",
       "    <tr>\n",
       "      <th>0</th>\n",
       "      <td>1000_13</td>\n",
       "      <td>1000</td>\n",
       "      <td>2018-12-29</td>\n",
       "      <td>89.86</td>\n",
       "    </tr>\n",
       "    <tr>\n",
       "      <th>1</th>\n",
       "      <td>1000_204</td>\n",
       "      <td>1000</td>\n",
       "      <td>2018-12-31</td>\n",
       "      <td>0.00</td>\n",
       "    </tr>\n",
       "    <tr>\n",
       "      <th>2</th>\n",
       "      <td>1000_379</td>\n",
       "      <td>1000</td>\n",
       "      <td>2018-12-28</td>\n",
       "      <td>660.40</td>\n",
       "    </tr>\n",
       "    <tr>\n",
       "      <th>3</th>\n",
       "      <td>1000_413</td>\n",
       "      <td>1000</td>\n",
       "      <td>2018-12-26</td>\n",
       "      <td>270.99</td>\n",
       "    </tr>\n",
       "    <tr>\n",
       "      <th>4</th>\n",
       "      <td>1000_442</td>\n",
       "      <td>1000</td>\n",
       "      <td>2018-12-27</td>\n",
       "      <td>880.22</td>\n",
       "    </tr>\n",
       "    <tr>\n",
       "      <th>5</th>\n",
       "      <td>1001_0</td>\n",
       "      <td>1001</td>\n",
       "      <td>2018-08-24</td>\n",
       "      <td>284.68</td>\n",
       "    </tr>\n",
       "    <tr>\n",
       "      <th>6</th>\n",
       "      <td>1001_3</td>\n",
       "      <td>1001</td>\n",
       "      <td>2018-12-09</td>\n",
       "      <td>656.04</td>\n",
       "    </tr>\n",
       "    <tr>\n",
       "      <th>7</th>\n",
       "      <td>1001_4</td>\n",
       "      <td>1001</td>\n",
       "      <td>2018-11-04</td>\n",
       "      <td>16.97</td>\n",
       "    </tr>\n",
       "    <tr>\n",
       "      <th>8</th>\n",
       "      <td>1001_10</td>\n",
       "      <td>1001</td>\n",
       "      <td>2018-11-27</td>\n",
       "      <td>135.18</td>\n",
       "    </tr>\n",
       "    <tr>\n",
       "      <th>9</th>\n",
       "      <td>1001_15</td>\n",
       "      <td>1001</td>\n",
       "      <td>2018-12-13</td>\n",
       "      <td>761.92</td>\n",
       "    </tr>\n",
       "  </tbody>\n",
       "</table>\n",
       "</div>"
      ],
      "text/plain": [
       "         id  user_id session_date  mb_used\n",
       "0   1000_13     1000   2018-12-29    89.86\n",
       "1  1000_204     1000   2018-12-31     0.00\n",
       "2  1000_379     1000   2018-12-28   660.40\n",
       "3  1000_413     1000   2018-12-26   270.99\n",
       "4  1000_442     1000   2018-12-27   880.22\n",
       "5    1001_0     1001   2018-08-24   284.68\n",
       "6    1001_3     1001   2018-12-09   656.04\n",
       "7    1001_4     1001   2018-11-04    16.97\n",
       "8   1001_10     1001   2018-11-27   135.18\n",
       "9   1001_15     1001   2018-12-13   761.92"
      ]
     },
     "execution_count": 41,
     "metadata": {},
     "output_type": "execute_result"
    }
   ],
   "source": [
    "# Imprime una muestra de datos para el tráfico de internet\n",
    "data_int.head(10)"
   ]
  },
  {
   "cell_type": "code",
   "execution_count": 42,
   "metadata": {
    "scrolled": false
   },
   "outputs": [
    {
     "data": {
      "text/plain": [
       "array([1000, 1001, 1002, 1003, 1004, 1005, 1006, 1007, 1008, 1009, 1010,\n",
       "       1011, 1012, 1013, 1014, 1015, 1016, 1017, 1018, 1019, 1020, 1021,\n",
       "       1022, 1023, 1024, 1026, 1027, 1028, 1029, 1030, 1031, 1032, 1033,\n",
       "       1034, 1035, 1036, 1037, 1038, 1039, 1040, 1041, 1042, 1043, 1044,\n",
       "       1045, 1046, 1047, 1048, 1049, 1050, 1051, 1052, 1053, 1054, 1055,\n",
       "       1056, 1057, 1058, 1059, 1060, 1061, 1062, 1063, 1064, 1065, 1066,\n",
       "       1067, 1068, 1069, 1070, 1071, 1072, 1073, 1074, 1075, 1076, 1077,\n",
       "       1078, 1079, 1080, 1081, 1082, 1083, 1084, 1085, 1086, 1087, 1088,\n",
       "       1089, 1090, 1091, 1092, 1093, 1094, 1095, 1096, 1097, 1098, 1099,\n",
       "       1100, 1101, 1102, 1103, 1104, 1105, 1106, 1107, 1108, 1109, 1110,\n",
       "       1111, 1112, 1113, 1114, 1115, 1116, 1117, 1118, 1119, 1120, 1121,\n",
       "       1122, 1123, 1124, 1125, 1126, 1127, 1128, 1130, 1131, 1132, 1133,\n",
       "       1134, 1135, 1136, 1137, 1138, 1139, 1140, 1141, 1142, 1144, 1145,\n",
       "       1146, 1147, 1148, 1149, 1150, 1151, 1152, 1153, 1154, 1155, 1156,\n",
       "       1157, 1158, 1159, 1160, 1161, 1162, 1163, 1164, 1165, 1166, 1167,\n",
       "       1168, 1169, 1170, 1171, 1172, 1173, 1174, 1175, 1176, 1177, 1178,\n",
       "       1179, 1180, 1181, 1182, 1183, 1184, 1185, 1186, 1187, 1188, 1189,\n",
       "       1190, 1191, 1192, 1193, 1194, 1195, 1196, 1197, 1198, 1199, 1200,\n",
       "       1201, 1202, 1203, 1204, 1205, 1206, 1207, 1208, 1209, 1210, 1211,\n",
       "       1212, 1213, 1214, 1215, 1216, 1217, 1218, 1219, 1220, 1221, 1222,\n",
       "       1223, 1224, 1225, 1226, 1227, 1228, 1229, 1230, 1231, 1232, 1233,\n",
       "       1234, 1235, 1236, 1237, 1238, 1239, 1240, 1241, 1242, 1243, 1244,\n",
       "       1245, 1246, 1247, 1248, 1249, 1250, 1251, 1252, 1253, 1254, 1255,\n",
       "       1256, 1257, 1258, 1259, 1260, 1261, 1262, 1263, 1264, 1265, 1266,\n",
       "       1267, 1268, 1270, 1271, 1272, 1273, 1274, 1276, 1277, 1278, 1279,\n",
       "       1280, 1281, 1282, 1283, 1284, 1285, 1286, 1287, 1288, 1289, 1290,\n",
       "       1291, 1292, 1293, 1294, 1295, 1296, 1297, 1298, 1299, 1300, 1301,\n",
       "       1302, 1303, 1304, 1305, 1306, 1308, 1309, 1310, 1311, 1312, 1313,\n",
       "       1314, 1315, 1316, 1317, 1318, 1320, 1321, 1322, 1323, 1324, 1325,\n",
       "       1326, 1327, 1328, 1329, 1330, 1331, 1332, 1333, 1334, 1335, 1336,\n",
       "       1337, 1338, 1339, 1340, 1341, 1342, 1343, 1344, 1345, 1346, 1347,\n",
       "       1348, 1349, 1350, 1351, 1352, 1353, 1354, 1355, 1356, 1357, 1358,\n",
       "       1359, 1360, 1361, 1362, 1363, 1364, 1365, 1366, 1367, 1368, 1369,\n",
       "       1370, 1371, 1372, 1373, 1374, 1375, 1376, 1377, 1379, 1380, 1381,\n",
       "       1382, 1383, 1384, 1385, 1386, 1387, 1388, 1389, 1390, 1391, 1392,\n",
       "       1393, 1394, 1395, 1396, 1397, 1398, 1399, 1400, 1401, 1402, 1403,\n",
       "       1404, 1405, 1406, 1407, 1408, 1409, 1410, 1411, 1412, 1413, 1414,\n",
       "       1415, 1416, 1417, 1418, 1419, 1420, 1421, 1422, 1423, 1424, 1425,\n",
       "       1426, 1427, 1428, 1429, 1430, 1431, 1432, 1433, 1434, 1435, 1436,\n",
       "       1437, 1438, 1439, 1440, 1441, 1442, 1443, 1444, 1445, 1446, 1447,\n",
       "       1448, 1449, 1450, 1451, 1452, 1453, 1454, 1455, 1456, 1457, 1458,\n",
       "       1459, 1460, 1461, 1462, 1464, 1465, 1466, 1467, 1468, 1469, 1471,\n",
       "       1472, 1474, 1475, 1476, 1477, 1478, 1479, 1480, 1481, 1482, 1483,\n",
       "       1484, 1485, 1486, 1487, 1488, 1489, 1490, 1491, 1492, 1493, 1494,\n",
       "       1495, 1496, 1497, 1498, 1499])"
      ]
     },
     "execution_count": 42,
     "metadata": {},
     "output_type": "execute_result"
    }
   ],
   "source": [
    "data_int[\"user_id\"].unique()"
   ]
  },
  {
   "cell_type": "markdown",
   "metadata": {},
   "source": [
    "No se encuentran valores mal escritos."
   ]
  },
  {
   "cell_type": "markdown",
   "metadata": {},
   "source": [
    "La columna `session_date` el tipo de datos en object, pero tiene valores de fechas. Por consiguiente se corregira al tipo de data datetime.\n",
    "\n",
    "Se agregará la columna `month`, la cual tendra el valor del mes en el que se consumieron los datos."
   ]
  },
  {
   "cell_type": "markdown",
   "metadata": {},
   "source": [
    "### Corregir datos"
   ]
  },
  {
   "cell_type": "code",
   "execution_count": 43,
   "metadata": {},
   "outputs": [],
   "source": [
    "data_int[\"session_date\"] = pd.to_datetime(data_int[\"session_date\"], format= \"%Y-%m-%d\")"
   ]
  },
  {
   "cell_type": "code",
   "execution_count": 44,
   "metadata": {
    "scrolled": true
   },
   "outputs": [
    {
     "name": "stdout",
     "output_type": "stream",
     "text": [
      "<class 'pandas.core.frame.DataFrame'>\n",
      "RangeIndex: 104825 entries, 0 to 104824\n",
      "Data columns (total 4 columns):\n",
      " #   Column        Non-Null Count   Dtype         \n",
      "---  ------        --------------   -----         \n",
      " 0   id            104825 non-null  object        \n",
      " 1   user_id       104825 non-null  int64         \n",
      " 2   session_date  104825 non-null  datetime64[ns]\n",
      " 3   mb_used       104825 non-null  float64       \n",
      "dtypes: datetime64[ns](1), float64(1), int64(1), object(1)\n",
      "memory usage: 3.2+ MB\n"
     ]
    }
   ],
   "source": [
    "data_int.info()"
   ]
  },
  {
   "cell_type": "markdown",
   "metadata": {},
   "source": [
    "Se comprueba que se haya cambia el tipo de datos en la columna `session_date`"
   ]
  },
  {
   "cell_type": "markdown",
   "metadata": {},
   "source": [
    "### Enriquecer datos"
   ]
  },
  {
   "cell_type": "code",
   "execution_count": 45,
   "metadata": {},
   "outputs": [],
   "source": [
    "data_int[\"month\"] = pd.DatetimeIndex(data_int[\"session_date\"]).month"
   ]
  },
  {
   "cell_type": "code",
   "execution_count": 46,
   "metadata": {
    "scrolled": true
   },
   "outputs": [
    {
     "data": {
      "text/html": [
       "<div>\n",
       "<style scoped>\n",
       "    .dataframe tbody tr th:only-of-type {\n",
       "        vertical-align: middle;\n",
       "    }\n",
       "\n",
       "    .dataframe tbody tr th {\n",
       "        vertical-align: top;\n",
       "    }\n",
       "\n",
       "    .dataframe thead th {\n",
       "        text-align: right;\n",
       "    }\n",
       "</style>\n",
       "<table border=\"1\" class=\"dataframe\">\n",
       "  <thead>\n",
       "    <tr style=\"text-align: right;\">\n",
       "      <th></th>\n",
       "      <th>id</th>\n",
       "      <th>user_id</th>\n",
       "      <th>session_date</th>\n",
       "      <th>mb_used</th>\n",
       "      <th>month</th>\n",
       "    </tr>\n",
       "  </thead>\n",
       "  <tbody>\n",
       "    <tr>\n",
       "      <th>0</th>\n",
       "      <td>1000_13</td>\n",
       "      <td>1000</td>\n",
       "      <td>2018-12-29</td>\n",
       "      <td>89.86</td>\n",
       "      <td>12</td>\n",
       "    </tr>\n",
       "    <tr>\n",
       "      <th>1</th>\n",
       "      <td>1000_204</td>\n",
       "      <td>1000</td>\n",
       "      <td>2018-12-31</td>\n",
       "      <td>0.00</td>\n",
       "      <td>12</td>\n",
       "    </tr>\n",
       "    <tr>\n",
       "      <th>2</th>\n",
       "      <td>1000_379</td>\n",
       "      <td>1000</td>\n",
       "      <td>2018-12-28</td>\n",
       "      <td>660.40</td>\n",
       "      <td>12</td>\n",
       "    </tr>\n",
       "    <tr>\n",
       "      <th>3</th>\n",
       "      <td>1000_413</td>\n",
       "      <td>1000</td>\n",
       "      <td>2018-12-26</td>\n",
       "      <td>270.99</td>\n",
       "      <td>12</td>\n",
       "    </tr>\n",
       "    <tr>\n",
       "      <th>4</th>\n",
       "      <td>1000_442</td>\n",
       "      <td>1000</td>\n",
       "      <td>2018-12-27</td>\n",
       "      <td>880.22</td>\n",
       "      <td>12</td>\n",
       "    </tr>\n",
       "  </tbody>\n",
       "</table>\n",
       "</div>"
      ],
      "text/plain": [
       "         id  user_id session_date  mb_used  month\n",
       "0   1000_13     1000   2018-12-29    89.86     12\n",
       "1  1000_204     1000   2018-12-31     0.00     12\n",
       "2  1000_379     1000   2018-12-28   660.40     12\n",
       "3  1000_413     1000   2018-12-26   270.99     12\n",
       "4  1000_442     1000   2018-12-27   880.22     12"
      ]
     },
     "execution_count": 46,
     "metadata": {},
     "output_type": "execute_result"
    }
   ],
   "source": [
    "data_int.head()"
   ]
  },
  {
   "cell_type": "markdown",
   "metadata": {},
   "source": [
    "Se comprueba que se agregó la columna `month`"
   ]
  },
  {
   "cell_type": "markdown",
   "metadata": {},
   "source": [
    "## Estudiar las condiciones del plan"
   ]
  },
  {
   "cell_type": "code",
   "execution_count": 47,
   "metadata": {},
   "outputs": [
    {
     "data": {
      "text/html": [
       "<div>\n",
       "<style scoped>\n",
       "    .dataframe tbody tr th:only-of-type {\n",
       "        vertical-align: middle;\n",
       "    }\n",
       "\n",
       "    .dataframe tbody tr th {\n",
       "        vertical-align: top;\n",
       "    }\n",
       "\n",
       "    .dataframe thead th {\n",
       "        text-align: right;\n",
       "    }\n",
       "</style>\n",
       "<table border=\"1\" class=\"dataframe\">\n",
       "  <thead>\n",
       "    <tr style=\"text-align: right;\">\n",
       "      <th></th>\n",
       "      <th>messages_included</th>\n",
       "      <th>mb_per_month_included</th>\n",
       "      <th>minutes_included</th>\n",
       "      <th>usd_monthly_pay</th>\n",
       "      <th>usd_per_gb</th>\n",
       "      <th>usd_per_message</th>\n",
       "      <th>usd_per_minute</th>\n",
       "      <th>plan_name</th>\n",
       "    </tr>\n",
       "  </thead>\n",
       "  <tbody>\n",
       "    <tr>\n",
       "      <th>0</th>\n",
       "      <td>50</td>\n",
       "      <td>15360</td>\n",
       "      <td>500</td>\n",
       "      <td>20</td>\n",
       "      <td>10</td>\n",
       "      <td>0.03</td>\n",
       "      <td>0.03</td>\n",
       "      <td>surf</td>\n",
       "    </tr>\n",
       "    <tr>\n",
       "      <th>1</th>\n",
       "      <td>1000</td>\n",
       "      <td>30720</td>\n",
       "      <td>3000</td>\n",
       "      <td>70</td>\n",
       "      <td>7</td>\n",
       "      <td>0.01</td>\n",
       "      <td>0.01</td>\n",
       "      <td>ultimate</td>\n",
       "    </tr>\n",
       "  </tbody>\n",
       "</table>\n",
       "</div>"
      ],
      "text/plain": [
       "   messages_included  mb_per_month_included  minutes_included  \\\n",
       "0                 50                  15360               500   \n",
       "1               1000                  30720              3000   \n",
       "\n",
       "   usd_monthly_pay  usd_per_gb  usd_per_message  usd_per_minute plan_name  \n",
       "0               20          10             0.03            0.03      surf  \n",
       "1               70           7             0.01            0.01  ultimate  "
      ]
     },
     "execution_count": 47,
     "metadata": {},
     "output_type": "execute_result"
    }
   ],
   "source": [
    "# Imprime las condiciones del plan y asegúrate de que te resulten claros\n",
    "data_plans"
   ]
  },
  {
   "cell_type": "markdown",
   "metadata": {},
   "source": [
    "## Agregar datos por usuario\n",
    "\n",
    "[Ahora que los datos están limpios, agrega los datos por usuario por periodo para poder tener solo un registro por usuario por periodo. Esto facilitará mucho su posterior análisis.]"
   ]
  },
  {
   "cell_type": "code",
   "execution_count": 48,
   "metadata": {},
   "outputs": [],
   "source": [
    "# Calcula el número de llamadas hechas por cada usuario por mes. Guarda el resultado.\n",
    "c_per_usr = data_calls.pivot_table(index=\"user_id\", columns=\"month\", values=\"id\", aggfunc=\"count\")"
   ]
  },
  {
   "cell_type": "code",
   "execution_count": 49,
   "metadata": {},
   "outputs": [],
   "source": [
    "# Calcula la cantidad de minutos que usó cada usuario por mes. Guarda el resultado.\n",
    "cdur_per_usr = data_calls.pivot_table(index=\"user_id\", columns=\"month\", values=\"duration\", aggfunc=\"sum\")"
   ]
  },
  {
   "cell_type": "code",
   "execution_count": 50,
   "metadata": {},
   "outputs": [],
   "source": [
    "# Calcula el número de mensajes enviados por cada usuario por mes. Guarda el resultado.\n",
    "msg_per_usr = data_msg.pivot_table(index=\"user_id\", columns=\"month\", values=\"id\", aggfunc=\"count\")"
   ]
  },
  {
   "cell_type": "code",
   "execution_count": 51,
   "metadata": {},
   "outputs": [],
   "source": [
    "# Calcula el volumen del trafico de internet usado por cada usuario por mes. Guarda el resultado.\n",
    "int_per_usr = data_int.pivot_table(index=\"user_id\", columns=\"month\", values=\"mb_used\", aggfunc=\"sum\")"
   ]
  },
  {
   "cell_type": "markdown",
   "metadata": {},
   "source": [
    "[Pon los datos agregados juntos en un DataFrame para que un registro en él represente lo que un único usuario consumió en un mes determinado.]"
   ]
  },
  {
   "cell_type": "code",
   "execution_count": 52,
   "metadata": {},
   "outputs": [],
   "source": [
    "# Combina los datos para las llamadas, minutos, mensajes e internet con base en el user_id y el mes\n",
    "merge_data = c_per_usr.merge(cdur_per_usr, on= \"user_id\", \n",
    "                how=\"outer\")"
   ]
  },
  {
   "cell_type": "code",
   "execution_count": 53,
   "metadata": {},
   "outputs": [],
   "source": [
    "merge_data = merge_data.merge(msg_per_usr, on= \"user_id\", \n",
    "                how=\"outer\", sort=True)"
   ]
  },
  {
   "cell_type": "code",
   "execution_count": 54,
   "metadata": {},
   "outputs": [],
   "source": [
    "merge_data = merge_data.merge(int_per_usr, on= \"user_id\", \n",
    "                how=\"outer\", sort=True)"
   ]
  },
  {
   "cell_type": "code",
   "execution_count": 55,
   "metadata": {
    "scrolled": true
   },
   "outputs": [],
   "source": [
    "# Añade la información del plan\n",
    "merge_data = merge_data.merge(data[[\"user_id\",\"plan\", \"reg_month\", \"city\"]], on=\"user_id\", \n",
    "                        how=\"outer\", sort=True)"
   ]
  },
  {
   "cell_type": "code",
   "execution_count": 56,
   "metadata": {
    "scrolled": true
   },
   "outputs": [],
   "source": [
    "merge_data.columns = [\"user_id\",\"1_calls\",\"2_calls\", \"3_calls\", \"4_calls\", #Se corrigen los nombres de las columnas\n",
    "                   \"5_calls\",\"6_calls\", \"7_calls\",\"8_calls\",\n",
    "                  \"9_calls\",\"10_calls\",\"11_calls\",\"12_calls\",\n",
    "                  \"1_min\",\"2_min\", \"3_min\", \"4_min\",\n",
    "                   \"5_min\",\"6_min\", \"7_min\",\"8_min\",\n",
    "                  \"9_min\",\"10_min\",\"11_min\",\"12_min\",\n",
    "                  \"1_msg\",\"2_msg\", \"3_msg\", \"4_msg\",\n",
    "                   \"5_msg\",\"6_msg\", \"7_msg\",\"8_msg\",\n",
    "                  \"9_msg\",\"10_msg\",\"11_msg\",\"12_msg\",\n",
    "                  \"1_int\",\"2_int\", \"3_int\", \"4_int\",\n",
    "                   \"5_int\",\"6_int\", \"7_int\",\"8_int\",\n",
    "                  \"9_int\",\"10_int\",\"11_int\",\"12_int\", \"plan_name\", \"reg_month\", \"city\"]"
   ]
  },
  {
   "cell_type": "code",
   "execution_count": 57,
   "metadata": {
    "scrolled": true
   },
   "outputs": [],
   "source": [
    "merge_data = merge_data.merge(data_plans, on=\"plan_name\", how=\"left\")"
   ]
  },
  {
   "cell_type": "code",
   "execution_count": 58,
   "metadata": {},
   "outputs": [],
   "source": [
    "merge_data_0 = merge_data.fillna(0)"
   ]
  },
  {
   "cell_type": "code",
   "execution_count": 59,
   "metadata": {},
   "outputs": [],
   "source": [
    "# Calcula el ingreso mensual para cada usuario\n",
    "income_list=[\"income_1\", \"income_2\", \"income_3\", \"income_4\",\n",
    "           \"income_5\", \"income_6\", \"income_7\", \"income_8\",\n",
    "           \"income_9\", \"income_10\", \"income_11\", \"income_12\"]\n",
    "value = 1\n",
    "for income in income_list:\n",
    "        merge_data[income] = ((((merge_data_0[str(value) + \"_min\"] - merge_data_0[\"minutes_included\"]) > 0) \n",
    "                          * (merge_data_0[str(value) + \"_min\"] - merge_data_0[\"minutes_included\"])\n",
    "                          * merge_data_0[\"usd_per_minute\"] \n",
    "                          + ((merge_data_0[str(value) + \"_msg\"] - merge_data_0[\"messages_included\"]) > 0) \n",
    "                          * (merge_data_0[str(value) + \"_msg\"] - merge_data_0[\"messages_included\"])\n",
    "                          * merge_data_0[\"usd_per_message\"] \n",
    "                          + np.ceil(((merge_data_0[str(value) + \"_int\"] - merge_data_0[\"mb_per_month_included\"]) > 0)/1024)\n",
    "                          * np.ceil((merge_data_0[str(value) + \"_int\"] - merge_data_0[\"mb_per_month_included\"])/1024)\n",
    "                          * merge_data_0[\"usd_per_gb\"]) + merge_data_0[\"usd_monthly_pay\"])*(value >= merge_data_0[\"reg_month\"])\n",
    "        value += 1\n",
    "        \n"
   ]
  },
  {
   "cell_type": "code",
   "execution_count": 60,
   "metadata": {},
   "outputs": [],
   "source": [
    "def prueba_2(month, row):\n",
    "    dur = row[str(month) + \"_min\"]\n",
    "    lim_dur = row[\"minutes_included\"]\n",
    "    usd_dur = row[\"usd_per_minute\"]\n",
    "    \n",
    "    msg = row[str(month) + \"_msg\"]\n",
    "    lim_msg = row[\"messages_included\"]\n",
    "    usd_msg = row[\"usd_per_message\"]\n",
    "    \n",
    "    inte = row[str(month) + \"_int\"]\n",
    "    lim_int = row[\"mb_per_month_included\"]\n",
    "    usd_int = row[\"usd_per_gb\"]\n",
    "    \n",
    "    base = row[\"usd_monthly_pay\"]\n",
    "    \n",
    "    reg_month = row[\"reg_month\"]\n",
    "\n",
    "    \n",
    "    if dur > lim_dur:\n",
    "        dur = (dur - lim_dur)* usd_dur\n",
    "    else:\n",
    "         dur = 0\n",
    "        \n",
    "    if msg > lim_msg:\n",
    "        msg = (msg - lim_msg) * usd_msg\n",
    "    else:\n",
    "        msg = 0\n",
    "        \n",
    "    if inte > lim_int:\n",
    "            inte = (np.ceil((inte - lim_int)/1024)) * usd_int\n",
    "    else:\n",
    "        inte = 0\n",
    "    \n",
    "    return (dur + msg + inte + base) * (month >= reg_month)\n",
    "    "
   ]
  },
  {
   "cell_type": "code",
   "execution_count": 61,
   "metadata": {},
   "outputs": [
    {
     "name": "stdout",
     "output_type": "stream",
     "text": [
      "plan_name        surf\n",
      "10_min          393.0\n",
      "10_msg           53.0\n",
      "10_int       22330.49\n",
      "income_10       90.09\n",
      "Name: 1, dtype: object\n",
      "Probando función: 90.09\n",
      "\n",
      "plan_name        surf\n",
      "12_min         1104.0\n",
      "12_msg           50.0\n",
      "12_int       27044.14\n",
      "income_12      158.12\n",
      "Name: 3, dtype: object\n",
      "Probando función: 158.12\n",
      "\n",
      "plan_name    ultimate\n",
      "6_min             NaN\n",
      "6_msg             NaN\n",
      "6_int             NaN\n",
      "income_6          0.0\n",
      "Name: 8, dtype: object\n",
      "Probando función: 0\n"
     ]
    }
   ],
   "source": [
    "#Probando la función creada\n",
    "print(merge_data.loc[1, [\"plan_name\", \"10_min\", \"10_msg\", \"10_int\", \"income_10\"]])\n",
    "print(\"Probando función:\", prueba_2(10, merge_data.iloc[1]))\n",
    "print()\n",
    "print(merge_data.loc[3, [\"plan_name\", \"12_min\", \"12_msg\", \"12_int\", \"income_12\"]])\n",
    "print(\"Probando función:\",prueba_2(12, merge_data.iloc[3]))\n",
    "print()\n",
    "print(merge_data.loc[8, [\"plan_name\", \"6_min\", \"6_msg\", \"6_int\", \"income_6\"]])\n",
    "print(\"Probando función:\",prueba_2(6, merge_data.iloc[8]))"
   ]
  },
  {
   "cell_type": "code",
   "execution_count": 62,
   "metadata": {},
   "outputs": [
    {
     "data": {
      "text/html": [
       "<div>\n",
       "<style scoped>\n",
       "    .dataframe tbody tr th:only-of-type {\n",
       "        vertical-align: middle;\n",
       "    }\n",
       "\n",
       "    .dataframe tbody tr th {\n",
       "        vertical-align: top;\n",
       "    }\n",
       "\n",
       "    .dataframe thead th {\n",
       "        text-align: right;\n",
       "    }\n",
       "</style>\n",
       "<table border=\"1\" class=\"dataframe\">\n",
       "  <thead>\n",
       "    <tr style=\"text-align: right;\">\n",
       "      <th></th>\n",
       "      <th>user_id</th>\n",
       "      <th>1_calls</th>\n",
       "      <th>2_calls</th>\n",
       "      <th>3_calls</th>\n",
       "      <th>4_calls</th>\n",
       "      <th>5_calls</th>\n",
       "      <th>6_calls</th>\n",
       "      <th>7_calls</th>\n",
       "      <th>8_calls</th>\n",
       "      <th>9_calls</th>\n",
       "      <th>...</th>\n",
       "      <th>income_3</th>\n",
       "      <th>income_4</th>\n",
       "      <th>income_5</th>\n",
       "      <th>income_6</th>\n",
       "      <th>income_7</th>\n",
       "      <th>income_8</th>\n",
       "      <th>income_9</th>\n",
       "      <th>income_10</th>\n",
       "      <th>income_11</th>\n",
       "      <th>income_12</th>\n",
       "    </tr>\n",
       "  </thead>\n",
       "  <tbody>\n",
       "    <tr>\n",
       "      <th>0</th>\n",
       "      <td>1000</td>\n",
       "      <td>NaN</td>\n",
       "      <td>NaN</td>\n",
       "      <td>NaN</td>\n",
       "      <td>NaN</td>\n",
       "      <td>NaN</td>\n",
       "      <td>NaN</td>\n",
       "      <td>NaN</td>\n",
       "      <td>NaN</td>\n",
       "      <td>NaN</td>\n",
       "      <td>...</td>\n",
       "      <td>0.0</td>\n",
       "      <td>0.0</td>\n",
       "      <td>0.0</td>\n",
       "      <td>0.0</td>\n",
       "      <td>0.0</td>\n",
       "      <td>0.0</td>\n",
       "      <td>0.0</td>\n",
       "      <td>0.00</td>\n",
       "      <td>0.0</td>\n",
       "      <td>70.00</td>\n",
       "    </tr>\n",
       "    <tr>\n",
       "      <th>1</th>\n",
       "      <td>1001</td>\n",
       "      <td>NaN</td>\n",
       "      <td>NaN</td>\n",
       "      <td>NaN</td>\n",
       "      <td>NaN</td>\n",
       "      <td>NaN</td>\n",
       "      <td>NaN</td>\n",
       "      <td>NaN</td>\n",
       "      <td>22.0</td>\n",
       "      <td>38.0</td>\n",
       "      <td>...</td>\n",
       "      <td>0.0</td>\n",
       "      <td>0.0</td>\n",
       "      <td>0.0</td>\n",
       "      <td>0.0</td>\n",
       "      <td>0.0</td>\n",
       "      <td>20.0</td>\n",
       "      <td>20.0</td>\n",
       "      <td>90.09</td>\n",
       "      <td>60.0</td>\n",
       "      <td>60.00</td>\n",
       "    </tr>\n",
       "    <tr>\n",
       "      <th>2</th>\n",
       "      <td>1002</td>\n",
       "      <td>NaN</td>\n",
       "      <td>NaN</td>\n",
       "      <td>NaN</td>\n",
       "      <td>NaN</td>\n",
       "      <td>NaN</td>\n",
       "      <td>NaN</td>\n",
       "      <td>NaN</td>\n",
       "      <td>NaN</td>\n",
       "      <td>NaN</td>\n",
       "      <td>...</td>\n",
       "      <td>0.0</td>\n",
       "      <td>0.0</td>\n",
       "      <td>0.0</td>\n",
       "      <td>0.0</td>\n",
       "      <td>0.0</td>\n",
       "      <td>0.0</td>\n",
       "      <td>0.0</td>\n",
       "      <td>20.00</td>\n",
       "      <td>60.0</td>\n",
       "      <td>20.00</td>\n",
       "    </tr>\n",
       "    <tr>\n",
       "      <th>3</th>\n",
       "      <td>1003</td>\n",
       "      <td>NaN</td>\n",
       "      <td>NaN</td>\n",
       "      <td>NaN</td>\n",
       "      <td>NaN</td>\n",
       "      <td>NaN</td>\n",
       "      <td>NaN</td>\n",
       "      <td>NaN</td>\n",
       "      <td>NaN</td>\n",
       "      <td>NaN</td>\n",
       "      <td>...</td>\n",
       "      <td>20.0</td>\n",
       "      <td>20.0</td>\n",
       "      <td>20.0</td>\n",
       "      <td>20.0</td>\n",
       "      <td>20.0</td>\n",
       "      <td>20.0</td>\n",
       "      <td>20.0</td>\n",
       "      <td>20.00</td>\n",
       "      <td>20.0</td>\n",
       "      <td>158.12</td>\n",
       "    </tr>\n",
       "    <tr>\n",
       "      <th>4</th>\n",
       "      <td>1004</td>\n",
       "      <td>NaN</td>\n",
       "      <td>NaN</td>\n",
       "      <td>NaN</td>\n",
       "      <td>NaN</td>\n",
       "      <td>19.0</td>\n",
       "      <td>33.0</td>\n",
       "      <td>45.0</td>\n",
       "      <td>42.0</td>\n",
       "      <td>32.0</td>\n",
       "      <td>...</td>\n",
       "      <td>0.0</td>\n",
       "      <td>0.0</td>\n",
       "      <td>20.0</td>\n",
       "      <td>80.0</td>\n",
       "      <td>110.0</td>\n",
       "      <td>150.0</td>\n",
       "      <td>60.0</td>\n",
       "      <td>20.00</td>\n",
       "      <td>90.0</td>\n",
       "      <td>80.00</td>\n",
       "    </tr>\n",
       "    <tr>\n",
       "      <th>...</th>\n",
       "      <td>...</td>\n",
       "      <td>...</td>\n",
       "      <td>...</td>\n",
       "      <td>...</td>\n",
       "      <td>...</td>\n",
       "      <td>...</td>\n",
       "      <td>...</td>\n",
       "      <td>...</td>\n",
       "      <td>...</td>\n",
       "      <td>...</td>\n",
       "      <td>...</td>\n",
       "      <td>...</td>\n",
       "      <td>...</td>\n",
       "      <td>...</td>\n",
       "      <td>...</td>\n",
       "      <td>...</td>\n",
       "      <td>...</td>\n",
       "      <td>...</td>\n",
       "      <td>...</td>\n",
       "      <td>...</td>\n",
       "      <td>...</td>\n",
       "    </tr>\n",
       "    <tr>\n",
       "      <th>495</th>\n",
       "      <td>1495</td>\n",
       "      <td>NaN</td>\n",
       "      <td>NaN</td>\n",
       "      <td>NaN</td>\n",
       "      <td>NaN</td>\n",
       "      <td>NaN</td>\n",
       "      <td>NaN</td>\n",
       "      <td>NaN</td>\n",
       "      <td>NaN</td>\n",
       "      <td>37.0</td>\n",
       "      <td>...</td>\n",
       "      <td>0.0</td>\n",
       "      <td>0.0</td>\n",
       "      <td>0.0</td>\n",
       "      <td>0.0</td>\n",
       "      <td>0.0</td>\n",
       "      <td>0.0</td>\n",
       "      <td>100.0</td>\n",
       "      <td>143.30</td>\n",
       "      <td>120.0</td>\n",
       "      <td>110.00</td>\n",
       "    </tr>\n",
       "    <tr>\n",
       "      <th>496</th>\n",
       "      <td>1496</td>\n",
       "      <td>NaN</td>\n",
       "      <td>NaN</td>\n",
       "      <td>NaN</td>\n",
       "      <td>NaN</td>\n",
       "      <td>NaN</td>\n",
       "      <td>NaN</td>\n",
       "      <td>NaN</td>\n",
       "      <td>14.0</td>\n",
       "      <td>45.0</td>\n",
       "      <td>...</td>\n",
       "      <td>20.0</td>\n",
       "      <td>20.0</td>\n",
       "      <td>20.0</td>\n",
       "      <td>20.0</td>\n",
       "      <td>20.0</td>\n",
       "      <td>20.0</td>\n",
       "      <td>40.0</td>\n",
       "      <td>20.00</td>\n",
       "      <td>20.0</td>\n",
       "      <td>40.00</td>\n",
       "    </tr>\n",
       "    <tr>\n",
       "      <th>497</th>\n",
       "      <td>1497</td>\n",
       "      <td>NaN</td>\n",
       "      <td>NaN</td>\n",
       "      <td>NaN</td>\n",
       "      <td>NaN</td>\n",
       "      <td>NaN</td>\n",
       "      <td>NaN</td>\n",
       "      <td>NaN</td>\n",
       "      <td>NaN</td>\n",
       "      <td>NaN</td>\n",
       "      <td>...</td>\n",
       "      <td>0.0</td>\n",
       "      <td>0.0</td>\n",
       "      <td>0.0</td>\n",
       "      <td>0.0</td>\n",
       "      <td>0.0</td>\n",
       "      <td>0.0</td>\n",
       "      <td>0.0</td>\n",
       "      <td>0.00</td>\n",
       "      <td>0.0</td>\n",
       "      <td>70.00</td>\n",
       "    </tr>\n",
       "    <tr>\n",
       "      <th>498</th>\n",
       "      <td>1498</td>\n",
       "      <td>NaN</td>\n",
       "      <td>28.0</td>\n",
       "      <td>29.0</td>\n",
       "      <td>42.0</td>\n",
       "      <td>29.0</td>\n",
       "      <td>29.0</td>\n",
       "      <td>40.0</td>\n",
       "      <td>37.0</td>\n",
       "      <td>39.0</td>\n",
       "      <td>...</td>\n",
       "      <td>70.0</td>\n",
       "      <td>70.0</td>\n",
       "      <td>90.0</td>\n",
       "      <td>20.0</td>\n",
       "      <td>120.0</td>\n",
       "      <td>70.0</td>\n",
       "      <td>100.0</td>\n",
       "      <td>80.00</td>\n",
       "      <td>60.0</td>\n",
       "      <td>100.00</td>\n",
       "    </tr>\n",
       "    <tr>\n",
       "      <th>499</th>\n",
       "      <td>1499</td>\n",
       "      <td>NaN</td>\n",
       "      <td>NaN</td>\n",
       "      <td>NaN</td>\n",
       "      <td>NaN</td>\n",
       "      <td>NaN</td>\n",
       "      <td>NaN</td>\n",
       "      <td>NaN</td>\n",
       "      <td>NaN</td>\n",
       "      <td>35.0</td>\n",
       "      <td>...</td>\n",
       "      <td>0.0</td>\n",
       "      <td>0.0</td>\n",
       "      <td>20.0</td>\n",
       "      <td>20.0</td>\n",
       "      <td>20.0</td>\n",
       "      <td>20.0</td>\n",
       "      <td>20.0</td>\n",
       "      <td>70.00</td>\n",
       "      <td>40.0</td>\n",
       "      <td>90.00</td>\n",
       "    </tr>\n",
       "  </tbody>\n",
       "</table>\n",
       "<p>500 rows × 71 columns</p>\n",
       "</div>"
      ],
      "text/plain": [
       "     user_id  1_calls  2_calls  3_calls  4_calls  5_calls  6_calls  7_calls  \\\n",
       "0       1000      NaN      NaN      NaN      NaN      NaN      NaN      NaN   \n",
       "1       1001      NaN      NaN      NaN      NaN      NaN      NaN      NaN   \n",
       "2       1002      NaN      NaN      NaN      NaN      NaN      NaN      NaN   \n",
       "3       1003      NaN      NaN      NaN      NaN      NaN      NaN      NaN   \n",
       "4       1004      NaN      NaN      NaN      NaN     19.0     33.0     45.0   \n",
       "..       ...      ...      ...      ...      ...      ...      ...      ...   \n",
       "495     1495      NaN      NaN      NaN      NaN      NaN      NaN      NaN   \n",
       "496     1496      NaN      NaN      NaN      NaN      NaN      NaN      NaN   \n",
       "497     1497      NaN      NaN      NaN      NaN      NaN      NaN      NaN   \n",
       "498     1498      NaN     28.0     29.0     42.0     29.0     29.0     40.0   \n",
       "499     1499      NaN      NaN      NaN      NaN      NaN      NaN      NaN   \n",
       "\n",
       "     8_calls  9_calls  ...  income_3  income_4  income_5  income_6  income_7  \\\n",
       "0        NaN      NaN  ...       0.0       0.0       0.0       0.0       0.0   \n",
       "1       22.0     38.0  ...       0.0       0.0       0.0       0.0       0.0   \n",
       "2        NaN      NaN  ...       0.0       0.0       0.0       0.0       0.0   \n",
       "3        NaN      NaN  ...      20.0      20.0      20.0      20.0      20.0   \n",
       "4       42.0     32.0  ...       0.0       0.0      20.0      80.0     110.0   \n",
       "..       ...      ...  ...       ...       ...       ...       ...       ...   \n",
       "495      NaN     37.0  ...       0.0       0.0       0.0       0.0       0.0   \n",
       "496     14.0     45.0  ...      20.0      20.0      20.0      20.0      20.0   \n",
       "497      NaN      NaN  ...       0.0       0.0       0.0       0.0       0.0   \n",
       "498     37.0     39.0  ...      70.0      70.0      90.0      20.0     120.0   \n",
       "499      NaN     35.0  ...       0.0       0.0      20.0      20.0      20.0   \n",
       "\n",
       "     income_8  income_9  income_10  income_11  income_12  \n",
       "0         0.0       0.0       0.00        0.0      70.00  \n",
       "1        20.0      20.0      90.09       60.0      60.00  \n",
       "2         0.0       0.0      20.00       60.0      20.00  \n",
       "3        20.0      20.0      20.00       20.0     158.12  \n",
       "4       150.0      60.0      20.00       90.0      80.00  \n",
       "..        ...       ...        ...        ...        ...  \n",
       "495       0.0     100.0     143.30      120.0     110.00  \n",
       "496      20.0      40.0      20.00       20.0      40.00  \n",
       "497       0.0       0.0       0.00        0.0      70.00  \n",
       "498      70.0     100.0      80.00       60.0     100.00  \n",
       "499      20.0      20.0      70.00       40.0      90.00  \n",
       "\n",
       "[500 rows x 71 columns]"
      ]
     },
     "execution_count": 62,
     "metadata": {},
     "output_type": "execute_result"
    }
   ],
   "source": [
    "merge_data"
   ]
  },
  {
   "cell_type": "code",
   "execution_count": 63,
   "metadata": {
    "scrolled": true
   },
   "outputs": [],
   "source": [
    "merge_data = merge_data.replace(0, float(\"NAN\"))"
   ]
  },
  {
   "cell_type": "markdown",
   "metadata": {},
   "source": [
    "Se reemplazan los valores en 0 como valores NAN, porque estos indican que el cliente aun no se ha suscrito al plan. Por consiguiente si conservamos los 0, se interpretará que no tuvieron consumo pero si estaban activos."
   ]
  },
  {
   "cell_type": "code",
   "execution_count": 64,
   "metadata": {},
   "outputs": [
    {
     "data": {
      "text/html": [
       "<div>\n",
       "<style scoped>\n",
       "    .dataframe tbody tr th:only-of-type {\n",
       "        vertical-align: middle;\n",
       "    }\n",
       "\n",
       "    .dataframe tbody tr th {\n",
       "        vertical-align: top;\n",
       "    }\n",
       "\n",
       "    .dataframe thead th {\n",
       "        text-align: right;\n",
       "    }\n",
       "</style>\n",
       "<table border=\"1\" class=\"dataframe\">\n",
       "  <thead>\n",
       "    <tr style=\"text-align: right;\">\n",
       "      <th></th>\n",
       "      <th>user_id</th>\n",
       "      <th>1_calls</th>\n",
       "      <th>2_calls</th>\n",
       "      <th>3_calls</th>\n",
       "      <th>4_calls</th>\n",
       "      <th>5_calls</th>\n",
       "      <th>6_calls</th>\n",
       "      <th>7_calls</th>\n",
       "      <th>8_calls</th>\n",
       "      <th>9_calls</th>\n",
       "      <th>...</th>\n",
       "      <th>income_3</th>\n",
       "      <th>income_4</th>\n",
       "      <th>income_5</th>\n",
       "      <th>income_6</th>\n",
       "      <th>income_7</th>\n",
       "      <th>income_8</th>\n",
       "      <th>income_9</th>\n",
       "      <th>income_10</th>\n",
       "      <th>income_11</th>\n",
       "      <th>income_12</th>\n",
       "    </tr>\n",
       "  </thead>\n",
       "  <tbody>\n",
       "    <tr>\n",
       "      <th>0</th>\n",
       "      <td>1000</td>\n",
       "      <td>NaN</td>\n",
       "      <td>NaN</td>\n",
       "      <td>NaN</td>\n",
       "      <td>NaN</td>\n",
       "      <td>NaN</td>\n",
       "      <td>NaN</td>\n",
       "      <td>NaN</td>\n",
       "      <td>NaN</td>\n",
       "      <td>NaN</td>\n",
       "      <td>...</td>\n",
       "      <td>NaN</td>\n",
       "      <td>NaN</td>\n",
       "      <td>NaN</td>\n",
       "      <td>NaN</td>\n",
       "      <td>NaN</td>\n",
       "      <td>NaN</td>\n",
       "      <td>NaN</td>\n",
       "      <td>NaN</td>\n",
       "      <td>NaN</td>\n",
       "      <td>70.00</td>\n",
       "    </tr>\n",
       "    <tr>\n",
       "      <th>1</th>\n",
       "      <td>1001</td>\n",
       "      <td>NaN</td>\n",
       "      <td>NaN</td>\n",
       "      <td>NaN</td>\n",
       "      <td>NaN</td>\n",
       "      <td>NaN</td>\n",
       "      <td>NaN</td>\n",
       "      <td>NaN</td>\n",
       "      <td>22.0</td>\n",
       "      <td>38.0</td>\n",
       "      <td>...</td>\n",
       "      <td>NaN</td>\n",
       "      <td>NaN</td>\n",
       "      <td>NaN</td>\n",
       "      <td>NaN</td>\n",
       "      <td>NaN</td>\n",
       "      <td>20.0</td>\n",
       "      <td>20.0</td>\n",
       "      <td>90.09</td>\n",
       "      <td>60.0</td>\n",
       "      <td>60.00</td>\n",
       "    </tr>\n",
       "    <tr>\n",
       "      <th>2</th>\n",
       "      <td>1002</td>\n",
       "      <td>NaN</td>\n",
       "      <td>NaN</td>\n",
       "      <td>NaN</td>\n",
       "      <td>NaN</td>\n",
       "      <td>NaN</td>\n",
       "      <td>NaN</td>\n",
       "      <td>NaN</td>\n",
       "      <td>NaN</td>\n",
       "      <td>NaN</td>\n",
       "      <td>...</td>\n",
       "      <td>NaN</td>\n",
       "      <td>NaN</td>\n",
       "      <td>NaN</td>\n",
       "      <td>NaN</td>\n",
       "      <td>NaN</td>\n",
       "      <td>NaN</td>\n",
       "      <td>NaN</td>\n",
       "      <td>20.00</td>\n",
       "      <td>60.0</td>\n",
       "      <td>20.00</td>\n",
       "    </tr>\n",
       "    <tr>\n",
       "      <th>3</th>\n",
       "      <td>1003</td>\n",
       "      <td>NaN</td>\n",
       "      <td>NaN</td>\n",
       "      <td>NaN</td>\n",
       "      <td>NaN</td>\n",
       "      <td>NaN</td>\n",
       "      <td>NaN</td>\n",
       "      <td>NaN</td>\n",
       "      <td>NaN</td>\n",
       "      <td>NaN</td>\n",
       "      <td>...</td>\n",
       "      <td>20.0</td>\n",
       "      <td>20.0</td>\n",
       "      <td>20.0</td>\n",
       "      <td>20.0</td>\n",
       "      <td>20.0</td>\n",
       "      <td>20.0</td>\n",
       "      <td>20.0</td>\n",
       "      <td>20.00</td>\n",
       "      <td>20.0</td>\n",
       "      <td>158.12</td>\n",
       "    </tr>\n",
       "    <tr>\n",
       "      <th>4</th>\n",
       "      <td>1004</td>\n",
       "      <td>NaN</td>\n",
       "      <td>NaN</td>\n",
       "      <td>NaN</td>\n",
       "      <td>NaN</td>\n",
       "      <td>19.0</td>\n",
       "      <td>33.0</td>\n",
       "      <td>45.0</td>\n",
       "      <td>42.0</td>\n",
       "      <td>32.0</td>\n",
       "      <td>...</td>\n",
       "      <td>NaN</td>\n",
       "      <td>NaN</td>\n",
       "      <td>20.0</td>\n",
       "      <td>80.0</td>\n",
       "      <td>110.0</td>\n",
       "      <td>150.0</td>\n",
       "      <td>60.0</td>\n",
       "      <td>20.00</td>\n",
       "      <td>90.0</td>\n",
       "      <td>80.00</td>\n",
       "    </tr>\n",
       "    <tr>\n",
       "      <th>...</th>\n",
       "      <td>...</td>\n",
       "      <td>...</td>\n",
       "      <td>...</td>\n",
       "      <td>...</td>\n",
       "      <td>...</td>\n",
       "      <td>...</td>\n",
       "      <td>...</td>\n",
       "      <td>...</td>\n",
       "      <td>...</td>\n",
       "      <td>...</td>\n",
       "      <td>...</td>\n",
       "      <td>...</td>\n",
       "      <td>...</td>\n",
       "      <td>...</td>\n",
       "      <td>...</td>\n",
       "      <td>...</td>\n",
       "      <td>...</td>\n",
       "      <td>...</td>\n",
       "      <td>...</td>\n",
       "      <td>...</td>\n",
       "      <td>...</td>\n",
       "    </tr>\n",
       "    <tr>\n",
       "      <th>495</th>\n",
       "      <td>1495</td>\n",
       "      <td>NaN</td>\n",
       "      <td>NaN</td>\n",
       "      <td>NaN</td>\n",
       "      <td>NaN</td>\n",
       "      <td>NaN</td>\n",
       "      <td>NaN</td>\n",
       "      <td>NaN</td>\n",
       "      <td>NaN</td>\n",
       "      <td>37.0</td>\n",
       "      <td>...</td>\n",
       "      <td>NaN</td>\n",
       "      <td>NaN</td>\n",
       "      <td>NaN</td>\n",
       "      <td>NaN</td>\n",
       "      <td>NaN</td>\n",
       "      <td>NaN</td>\n",
       "      <td>100.0</td>\n",
       "      <td>143.30</td>\n",
       "      <td>120.0</td>\n",
       "      <td>110.00</td>\n",
       "    </tr>\n",
       "    <tr>\n",
       "      <th>496</th>\n",
       "      <td>1496</td>\n",
       "      <td>NaN</td>\n",
       "      <td>NaN</td>\n",
       "      <td>NaN</td>\n",
       "      <td>NaN</td>\n",
       "      <td>NaN</td>\n",
       "      <td>NaN</td>\n",
       "      <td>NaN</td>\n",
       "      <td>14.0</td>\n",
       "      <td>45.0</td>\n",
       "      <td>...</td>\n",
       "      <td>20.0</td>\n",
       "      <td>20.0</td>\n",
       "      <td>20.0</td>\n",
       "      <td>20.0</td>\n",
       "      <td>20.0</td>\n",
       "      <td>20.0</td>\n",
       "      <td>40.0</td>\n",
       "      <td>20.00</td>\n",
       "      <td>20.0</td>\n",
       "      <td>40.00</td>\n",
       "    </tr>\n",
       "    <tr>\n",
       "      <th>497</th>\n",
       "      <td>1497</td>\n",
       "      <td>NaN</td>\n",
       "      <td>NaN</td>\n",
       "      <td>NaN</td>\n",
       "      <td>NaN</td>\n",
       "      <td>NaN</td>\n",
       "      <td>NaN</td>\n",
       "      <td>NaN</td>\n",
       "      <td>NaN</td>\n",
       "      <td>NaN</td>\n",
       "      <td>...</td>\n",
       "      <td>NaN</td>\n",
       "      <td>NaN</td>\n",
       "      <td>NaN</td>\n",
       "      <td>NaN</td>\n",
       "      <td>NaN</td>\n",
       "      <td>NaN</td>\n",
       "      <td>NaN</td>\n",
       "      <td>NaN</td>\n",
       "      <td>NaN</td>\n",
       "      <td>70.00</td>\n",
       "    </tr>\n",
       "    <tr>\n",
       "      <th>498</th>\n",
       "      <td>1498</td>\n",
       "      <td>NaN</td>\n",
       "      <td>28.0</td>\n",
       "      <td>29.0</td>\n",
       "      <td>42.0</td>\n",
       "      <td>29.0</td>\n",
       "      <td>29.0</td>\n",
       "      <td>40.0</td>\n",
       "      <td>37.0</td>\n",
       "      <td>39.0</td>\n",
       "      <td>...</td>\n",
       "      <td>70.0</td>\n",
       "      <td>70.0</td>\n",
       "      <td>90.0</td>\n",
       "      <td>20.0</td>\n",
       "      <td>120.0</td>\n",
       "      <td>70.0</td>\n",
       "      <td>100.0</td>\n",
       "      <td>80.00</td>\n",
       "      <td>60.0</td>\n",
       "      <td>100.00</td>\n",
       "    </tr>\n",
       "    <tr>\n",
       "      <th>499</th>\n",
       "      <td>1499</td>\n",
       "      <td>NaN</td>\n",
       "      <td>NaN</td>\n",
       "      <td>NaN</td>\n",
       "      <td>NaN</td>\n",
       "      <td>NaN</td>\n",
       "      <td>NaN</td>\n",
       "      <td>NaN</td>\n",
       "      <td>NaN</td>\n",
       "      <td>35.0</td>\n",
       "      <td>...</td>\n",
       "      <td>NaN</td>\n",
       "      <td>NaN</td>\n",
       "      <td>20.0</td>\n",
       "      <td>20.0</td>\n",
       "      <td>20.0</td>\n",
       "      <td>20.0</td>\n",
       "      <td>20.0</td>\n",
       "      <td>70.00</td>\n",
       "      <td>40.0</td>\n",
       "      <td>90.00</td>\n",
       "    </tr>\n",
       "  </tbody>\n",
       "</table>\n",
       "<p>500 rows × 71 columns</p>\n",
       "</div>"
      ],
      "text/plain": [
       "     user_id  1_calls  2_calls  3_calls  4_calls  5_calls  6_calls  7_calls  \\\n",
       "0       1000      NaN      NaN      NaN      NaN      NaN      NaN      NaN   \n",
       "1       1001      NaN      NaN      NaN      NaN      NaN      NaN      NaN   \n",
       "2       1002      NaN      NaN      NaN      NaN      NaN      NaN      NaN   \n",
       "3       1003      NaN      NaN      NaN      NaN      NaN      NaN      NaN   \n",
       "4       1004      NaN      NaN      NaN      NaN     19.0     33.0     45.0   \n",
       "..       ...      ...      ...      ...      ...      ...      ...      ...   \n",
       "495     1495      NaN      NaN      NaN      NaN      NaN      NaN      NaN   \n",
       "496     1496      NaN      NaN      NaN      NaN      NaN      NaN      NaN   \n",
       "497     1497      NaN      NaN      NaN      NaN      NaN      NaN      NaN   \n",
       "498     1498      NaN     28.0     29.0     42.0     29.0     29.0     40.0   \n",
       "499     1499      NaN      NaN      NaN      NaN      NaN      NaN      NaN   \n",
       "\n",
       "     8_calls  9_calls  ...  income_3  income_4  income_5  income_6  income_7  \\\n",
       "0        NaN      NaN  ...       NaN       NaN       NaN       NaN       NaN   \n",
       "1       22.0     38.0  ...       NaN       NaN       NaN       NaN       NaN   \n",
       "2        NaN      NaN  ...       NaN       NaN       NaN       NaN       NaN   \n",
       "3        NaN      NaN  ...      20.0      20.0      20.0      20.0      20.0   \n",
       "4       42.0     32.0  ...       NaN       NaN      20.0      80.0     110.0   \n",
       "..       ...      ...  ...       ...       ...       ...       ...       ...   \n",
       "495      NaN     37.0  ...       NaN       NaN       NaN       NaN       NaN   \n",
       "496     14.0     45.0  ...      20.0      20.0      20.0      20.0      20.0   \n",
       "497      NaN      NaN  ...       NaN       NaN       NaN       NaN       NaN   \n",
       "498     37.0     39.0  ...      70.0      70.0      90.0      20.0     120.0   \n",
       "499      NaN     35.0  ...       NaN       NaN      20.0      20.0      20.0   \n",
       "\n",
       "     income_8  income_9  income_10  income_11  income_12  \n",
       "0         NaN       NaN        NaN        NaN      70.00  \n",
       "1        20.0      20.0      90.09       60.0      60.00  \n",
       "2         NaN       NaN      20.00       60.0      20.00  \n",
       "3        20.0      20.0      20.00       20.0     158.12  \n",
       "4       150.0      60.0      20.00       90.0      80.00  \n",
       "..        ...       ...        ...        ...        ...  \n",
       "495       NaN     100.0     143.30      120.0     110.00  \n",
       "496      20.0      40.0      20.00       20.0      40.00  \n",
       "497       NaN       NaN        NaN        NaN      70.00  \n",
       "498      70.0     100.0      80.00       60.0     100.00  \n",
       "499      20.0      20.0      70.00       40.0      90.00  \n",
       "\n",
       "[500 rows x 71 columns]"
      ]
     },
     "execution_count": 64,
     "metadata": {},
     "output_type": "execute_result"
    }
   ],
   "source": [
    "merge_data"
   ]
  },
  {
   "cell_type": "markdown",
   "metadata": {},
   "source": [
    "Se imprime el dataset con las nuevas columnas de gasto por usuario por mes, creado apartir del consumo de minuto de llamadas, mensajes e internet de acuerdo al plan que contrataron."
   ]
  },
  {
   "cell_type": "markdown",
   "metadata": {},
   "source": [
    "## Estudia el comportamiento del usuario"
   ]
  },
  {
   "cell_type": "markdown",
   "metadata": {},
   "source": [
    "A partir del dataset, creado en la anterior sección, se realizarán gráficos para por plan para decidir que plan es mas rentable. Se utilizaran los parámetros de la duración de las llamadas, mensajes enviado y consumo de internet."
   ]
  },
  {
   "cell_type": "markdown",
   "metadata": {},
   "source": [
    "### Llamadas"
   ]
  },
  {
   "cell_type": "code",
   "execution_count": 65,
   "metadata": {},
   "outputs": [],
   "source": [
    "# Compara la duración promedio de llamadas por cada plan por cada mes. Dibuja una gráfica de barras para visualizarlo.\n",
    "surf_min = merge_data.query('plan_name == \"surf\"')[[\"1_min\", \"2_min\", \"3_min\", \n",
    "                                                          \"4_min\", \"5_min\", \"6_min\", \n",
    "                                                           \"7_min\", \"8_min\", \"9_min\", \n",
    "                                                           \"10_min\", \"11_min\", \"12_min\"]]\n",
    "ultimate_min = merge_data.query('plan_name == \"ultimate\"')[[\"1_min\", \"2_min\", \"3_min\", \n",
    "                                                                   \"4_min\", \"5_min\", \"6_min\", \n",
    "                                                                   \"7_min\", \"8_min\", \"9_min\",\n",
    "                                                                   \"10_min\", \"11_min\", \"12_min\"]]\n",
    "data_min = merge_data[[\"1_min\", \"2_min\", \"3_min\", \n",
    "                       \"4_min\", \"5_min\", \"6_min\", \n",
    "                       \"7_min\", \"8_min\", \"9_min\",\n",
    "                       \"10_min\", \"11_min\", \"12_min\", \"plan_name\"]]"
   ]
  },
  {
   "cell_type": "code",
   "execution_count": 66,
   "metadata": {},
   "outputs": [
    {
     "data": {
      "image/png": "[encoded data removed]",
      "text/plain": [
       "<Figure size 1080x720 with 1 Axes>"
      ]
     },
     "metadata": {
      "needs_background": "light"
     },
     "output_type": "display_data"
    }
   ],
   "source": [
    "n = len(surf_min.mean().index)\n",
    "x = np.arange(n) \n",
    "width = 0.25\n",
    "plt.figure(figsize=(15, 10))\n",
    "plt.bar(x+width, surf_min.mean(), width=0.25, label=\"Surf\")\n",
    "plt.bar(x, ultimate_min.mean(), width=0.25, label=\"Ultimate\")\n",
    "plt.title(\"Comparación de duracion promedio de llamadas entre plan surf y ultimate\", fontsize=20)\n",
    "plt.legend(loc='best')\n",
    "plt.xticks(x, [1, 2, 3, 4, 5, 6, 7, 8, 9, 10, 11, 12], fontsize=15)\n",
    "plt.xlabel('Meses', fontsize=15)\n",
    "plt.ylabel('Duración promedio en min de llamadas', fontsize=15)\n",
    "plt.show()"
   ]
  },
  {
   "cell_type": "markdown",
   "metadata": {},
   "source": [
    "Se puede apreciar en el gráfico que la duración promedio de las llamadas es similar en ambos planes, excepto en el 2do mes del año. Esto pudiera deberse a valores atipicos en los datos."
   ]
  },
  {
   "cell_type": "code",
   "execution_count": 67,
   "metadata": {
    "scrolled": false
   },
   "outputs": [
    {
     "data": {
      "image/png": "[encoded data removed]",
      "text/plain": [
       "<Figure size 1440x720 with 1 Axes>"
      ]
     },
     "metadata": {
      "needs_background": "light"
     },
     "output_type": "display_data"
    }
   ],
   "source": [
    "data_calls.merge(data, on=\"user_id\", how=\"outer\").query('plan == \"surf\"')[\"duration\"].plot(kind=\"hist\", bins=35, figsize=(20,10), label=\"surf\")\n",
    "data_calls.merge(data, on=\"user_id\", how=\"outer\").query('plan == \"ultimate\"')[\"duration\"].plot(kind=\"hist\", bins=35, figsize=(20,10), label=\"ultimate\")\n",
    "plt.title(\"Duración del tiempo de llamadas del plan surf y ultimate\", fontsize=20)\n",
    "plt.xticks(fontsize=15)\n",
    "plt.xlabel('Duración de llamada', fontsize=15)\n",
    "plt.ylabel('Frecuencia de usuarios', fontsize=15)\n",
    "plt.legend(loc='best', fontsize=15)\n",
    "plt.show()"
   ]
  },
  {
   "cell_type": "markdown",
   "metadata": {},
   "source": [
    "Los usuarios del plan surf hace mas llamadas y más largas que los del plan ultimate."
   ]
  },
  {
   "cell_type": "code",
   "execution_count": 68,
   "metadata": {
    "scrolled": true
   },
   "outputs": [
    {
     "data": {
      "text/html": [
       "<div>\n",
       "<style scoped>\n",
       "    .dataframe tbody tr th:only-of-type {\n",
       "        vertical-align: middle;\n",
       "    }\n",
       "\n",
       "    .dataframe tbody tr th {\n",
       "        vertical-align: top;\n",
       "    }\n",
       "\n",
       "    .dataframe thead th {\n",
       "        text-align: right;\n",
       "    }\n",
       "</style>\n",
       "<table border=\"1\" class=\"dataframe\">\n",
       "  <thead>\n",
       "    <tr style=\"text-align: right;\">\n",
       "      <th></th>\n",
       "      <th>1_min</th>\n",
       "      <th>2_min</th>\n",
       "      <th>3_min</th>\n",
       "      <th>4_min</th>\n",
       "      <th>5_min</th>\n",
       "      <th>6_min</th>\n",
       "      <th>7_min</th>\n",
       "      <th>8_min</th>\n",
       "      <th>9_min</th>\n",
       "      <th>10_min</th>\n",
       "      <th>11_min</th>\n",
       "      <th>12_min</th>\n",
       "    </tr>\n",
       "  </thead>\n",
       "  <tbody>\n",
       "    <tr>\n",
       "      <th>count</th>\n",
       "      <td>4.000000</td>\n",
       "      <td>6.000000</td>\n",
       "      <td>12.000000</td>\n",
       "      <td>21.000000</td>\n",
       "      <td>29.000000</td>\n",
       "      <td>45.000000</td>\n",
       "      <td>59.000000</td>\n",
       "      <td>71.000000</td>\n",
       "      <td>86.000000</td>\n",
       "      <td>105.000000</td>\n",
       "      <td>125.000000</td>\n",
       "      <td>149.000000</td>\n",
       "    </tr>\n",
       "    <tr>\n",
       "      <th>mean</th>\n",
       "      <td>193.500000</td>\n",
       "      <td>470.333333</td>\n",
       "      <td>304.250000</td>\n",
       "      <td>336.857143</td>\n",
       "      <td>406.241379</td>\n",
       "      <td>387.444444</td>\n",
       "      <td>427.067797</td>\n",
       "      <td>421.436620</td>\n",
       "      <td>437.511628</td>\n",
       "      <td>455.028571</td>\n",
       "      <td>452.320000</td>\n",
       "      <td>465.261745</td>\n",
       "    </tr>\n",
       "    <tr>\n",
       "      <th>std</th>\n",
       "      <td>128.733575</td>\n",
       "      <td>233.120284</td>\n",
       "      <td>248.967732</td>\n",
       "      <td>186.785783</td>\n",
       "      <td>209.382537</td>\n",
       "      <td>194.685826</td>\n",
       "      <td>269.375898</td>\n",
       "      <td>231.614997</td>\n",
       "      <td>238.894254</td>\n",
       "      <td>229.807673</td>\n",
       "      <td>241.500738</td>\n",
       "      <td>245.890065</td>\n",
       "    </tr>\n",
       "    <tr>\n",
       "      <th>min</th>\n",
       "      <td>16.000000</td>\n",
       "      <td>90.000000</td>\n",
       "      <td>23.000000</td>\n",
       "      <td>53.000000</td>\n",
       "      <td>22.000000</td>\n",
       "      <td>45.000000</td>\n",
       "      <td>16.000000</td>\n",
       "      <td>12.000000</td>\n",
       "      <td>18.000000</td>\n",
       "      <td>34.000000</td>\n",
       "      <td>10.000000</td>\n",
       "      <td>11.000000</td>\n",
       "    </tr>\n",
       "    <tr>\n",
       "      <th>25%</th>\n",
       "      <td>139.750000</td>\n",
       "      <td>398.000000</td>\n",
       "      <td>81.000000</td>\n",
       "      <td>217.000000</td>\n",
       "      <td>262.000000</td>\n",
       "      <td>242.000000</td>\n",
       "      <td>202.000000</td>\n",
       "      <td>252.000000</td>\n",
       "      <td>249.500000</td>\n",
       "      <td>301.000000</td>\n",
       "      <td>295.000000</td>\n",
       "      <td>289.000000</td>\n",
       "    </tr>\n",
       "    <tr>\n",
       "      <th>50%</th>\n",
       "      <td>234.000000</td>\n",
       "      <td>473.500000</td>\n",
       "      <td>251.000000</td>\n",
       "      <td>301.000000</td>\n",
       "      <td>407.000000</td>\n",
       "      <td>400.000000</td>\n",
       "      <td>430.000000</td>\n",
       "      <td>406.000000</td>\n",
       "      <td>434.000000</td>\n",
       "      <td>461.000000</td>\n",
       "      <td>433.000000</td>\n",
       "      <td>445.000000</td>\n",
       "    </tr>\n",
       "    <tr>\n",
       "      <th>75%</th>\n",
       "      <td>287.750000</td>\n",
       "      <td>595.500000</td>\n",
       "      <td>477.500000</td>\n",
       "      <td>453.000000</td>\n",
       "      <td>480.000000</td>\n",
       "      <td>497.000000</td>\n",
       "      <td>554.500000</td>\n",
       "      <td>544.500000</td>\n",
       "      <td>557.500000</td>\n",
       "      <td>566.000000</td>\n",
       "      <td>587.000000</td>\n",
       "      <td>596.000000</td>\n",
       "    </tr>\n",
       "    <tr>\n",
       "      <th>max</th>\n",
       "      <td>290.000000</td>\n",
       "      <td>776.000000</td>\n",
       "      <td>711.000000</td>\n",
       "      <td>746.000000</td>\n",
       "      <td>863.000000</td>\n",
       "      <td>797.000000</td>\n",
       "      <td>1188.000000</td>\n",
       "      <td>1292.000000</td>\n",
       "      <td>1232.000000</td>\n",
       "      <td>1215.000000</td>\n",
       "      <td>1197.000000</td>\n",
       "      <td>1369.000000</td>\n",
       "    </tr>\n",
       "  </tbody>\n",
       "</table>\n",
       "</div>"
      ],
      "text/plain": [
       "            1_min       2_min       3_min       4_min       5_min       6_min  \\\n",
       "count    4.000000    6.000000   12.000000   21.000000   29.000000   45.000000   \n",
       "mean   193.500000  470.333333  304.250000  336.857143  406.241379  387.444444   \n",
       "std    128.733575  233.120284  248.967732  186.785783  209.382537  194.685826   \n",
       "min     16.000000   90.000000   23.000000   53.000000   22.000000   45.000000   \n",
       "25%    139.750000  398.000000   81.000000  217.000000  262.000000  242.000000   \n",
       "50%    234.000000  473.500000  251.000000  301.000000  407.000000  400.000000   \n",
       "75%    287.750000  595.500000  477.500000  453.000000  480.000000  497.000000   \n",
       "max    290.000000  776.000000  711.000000  746.000000  863.000000  797.000000   \n",
       "\n",
       "             7_min        8_min        9_min       10_min       11_min  \\\n",
       "count    59.000000    71.000000    86.000000   105.000000   125.000000   \n",
       "mean    427.067797   421.436620   437.511628   455.028571   452.320000   \n",
       "std     269.375898   231.614997   238.894254   229.807673   241.500738   \n",
       "min      16.000000    12.000000    18.000000    34.000000    10.000000   \n",
       "25%     202.000000   252.000000   249.500000   301.000000   295.000000   \n",
       "50%     430.000000   406.000000   434.000000   461.000000   433.000000   \n",
       "75%     554.500000   544.500000   557.500000   566.000000   587.000000   \n",
       "max    1188.000000  1292.000000  1232.000000  1215.000000  1197.000000   \n",
       "\n",
       "            12_min  \n",
       "count   149.000000  \n",
       "mean    465.261745  \n",
       "std     245.890065  \n",
       "min      11.000000  \n",
       "25%     289.000000  \n",
       "50%     445.000000  \n",
       "75%     596.000000  \n",
       "max    1369.000000  "
      ]
     },
     "execution_count": 68,
     "metadata": {},
     "output_type": "execute_result"
    }
   ],
   "source": [
    "ultimate_min.describe()"
   ]
  },
  {
   "cell_type": "code",
   "execution_count": 69,
   "metadata": {},
   "outputs": [
    {
     "data": {
      "text/html": [
       "<div>\n",
       "<style scoped>\n",
       "    .dataframe tbody tr th:only-of-type {\n",
       "        vertical-align: middle;\n",
       "    }\n",
       "\n",
       "    .dataframe tbody tr th {\n",
       "        vertical-align: top;\n",
       "    }\n",
       "\n",
       "    .dataframe thead th {\n",
       "        text-align: right;\n",
       "    }\n",
       "</style>\n",
       "<table border=\"1\" class=\"dataframe\">\n",
       "  <thead>\n",
       "    <tr style=\"text-align: right;\">\n",
       "      <th></th>\n",
       "      <th>1_min</th>\n",
       "      <th>2_min</th>\n",
       "      <th>3_min</th>\n",
       "      <th>4_min</th>\n",
       "      <th>5_min</th>\n",
       "      <th>6_min</th>\n",
       "      <th>7_min</th>\n",
       "      <th>8_min</th>\n",
       "      <th>9_min</th>\n",
       "      <th>10_min</th>\n",
       "      <th>11_min</th>\n",
       "      <th>12_min</th>\n",
       "    </tr>\n",
       "  </thead>\n",
       "  <tbody>\n",
       "    <tr>\n",
       "      <th>count</th>\n",
       "      <td>2.000000</td>\n",
       "      <td>9.000000</td>\n",
       "      <td>23.000000</td>\n",
       "      <td>50.000000</td>\n",
       "      <td>75.000000</td>\n",
       "      <td>96.000000</td>\n",
       "      <td>120.000000</td>\n",
       "      <td>159.000000</td>\n",
       "      <td>191.000000</td>\n",
       "      <td>231.000000</td>\n",
       "      <td>277.000000</td>\n",
       "      <td>311.000000</td>\n",
       "    </tr>\n",
       "    <tr>\n",
       "      <th>mean</th>\n",
       "      <td>203.000000</td>\n",
       "      <td>297.000000</td>\n",
       "      <td>330.000000</td>\n",
       "      <td>351.540000</td>\n",
       "      <td>410.240000</td>\n",
       "      <td>435.791667</td>\n",
       "      <td>453.733333</td>\n",
       "      <td>417.849057</td>\n",
       "      <td>420.732984</td>\n",
       "      <td>440.891775</td>\n",
       "      <td>432.494585</td>\n",
       "      <td>484.501608</td>\n",
       "    </tr>\n",
       "    <tr>\n",
       "      <th>std</th>\n",
       "      <td>125.865007</td>\n",
       "      <td>228.531179</td>\n",
       "      <td>189.233622</td>\n",
       "      <td>225.536567</td>\n",
       "      <td>238.618481</td>\n",
       "      <td>209.985860</td>\n",
       "      <td>244.544500</td>\n",
       "      <td>228.304072</td>\n",
       "      <td>211.139557</td>\n",
       "      <td>220.680551</td>\n",
       "      <td>220.791275</td>\n",
       "      <td>244.708752</td>\n",
       "    </tr>\n",
       "    <tr>\n",
       "      <th>min</th>\n",
       "      <td>114.000000</td>\n",
       "      <td>39.000000</td>\n",
       "      <td>35.000000</td>\n",
       "      <td>16.000000</td>\n",
       "      <td>16.000000</td>\n",
       "      <td>14.000000</td>\n",
       "      <td>18.000000</td>\n",
       "      <td>4.000000</td>\n",
       "      <td>2.000000</td>\n",
       "      <td>6.000000</td>\n",
       "      <td>6.000000</td>\n",
       "      <td>17.000000</td>\n",
       "    </tr>\n",
       "    <tr>\n",
       "      <th>25%</th>\n",
       "      <td>158.500000</td>\n",
       "      <td>244.000000</td>\n",
       "      <td>230.500000</td>\n",
       "      <td>178.000000</td>\n",
       "      <td>216.500000</td>\n",
       "      <td>299.250000</td>\n",
       "      <td>307.250000</td>\n",
       "      <td>264.500000</td>\n",
       "      <td>267.000000</td>\n",
       "      <td>281.500000</td>\n",
       "      <td>279.000000</td>\n",
       "      <td>327.000000</td>\n",
       "    </tr>\n",
       "    <tr>\n",
       "      <th>50%</th>\n",
       "      <td>203.000000</td>\n",
       "      <td>254.000000</td>\n",
       "      <td>334.000000</td>\n",
       "      <td>339.500000</td>\n",
       "      <td>429.000000</td>\n",
       "      <td>432.000000</td>\n",
       "      <td>458.500000</td>\n",
       "      <td>395.000000</td>\n",
       "      <td>429.000000</td>\n",
       "      <td>437.000000</td>\n",
       "      <td>419.000000</td>\n",
       "      <td>453.000000</td>\n",
       "    </tr>\n",
       "    <tr>\n",
       "      <th>75%</th>\n",
       "      <td>247.500000</td>\n",
       "      <td>307.000000</td>\n",
       "      <td>397.000000</td>\n",
       "      <td>504.250000</td>\n",
       "      <td>562.500000</td>\n",
       "      <td>559.500000</td>\n",
       "      <td>587.250000</td>\n",
       "      <td>563.000000</td>\n",
       "      <td>552.500000</td>\n",
       "      <td>582.000000</td>\n",
       "      <td>583.000000</td>\n",
       "      <td>614.500000</td>\n",
       "    </tr>\n",
       "    <tr>\n",
       "      <th>max</th>\n",
       "      <td>292.000000</td>\n",
       "      <td>811.000000</td>\n",
       "      <td>788.000000</td>\n",
       "      <td>1043.000000</td>\n",
       "      <td>1055.000000</td>\n",
       "      <td>1033.000000</td>\n",
       "      <td>1176.000000</td>\n",
       "      <td>1102.000000</td>\n",
       "      <td>1212.000000</td>\n",
       "      <td>1227.000000</td>\n",
       "      <td>1304.000000</td>\n",
       "      <td>1510.000000</td>\n",
       "    </tr>\n",
       "  </tbody>\n",
       "</table>\n",
       "</div>"
      ],
      "text/plain": [
       "            1_min       2_min       3_min        4_min        5_min  \\\n",
       "count    2.000000    9.000000   23.000000    50.000000    75.000000   \n",
       "mean   203.000000  297.000000  330.000000   351.540000   410.240000   \n",
       "std    125.865007  228.531179  189.233622   225.536567   238.618481   \n",
       "min    114.000000   39.000000   35.000000    16.000000    16.000000   \n",
       "25%    158.500000  244.000000  230.500000   178.000000   216.500000   \n",
       "50%    203.000000  254.000000  334.000000   339.500000   429.000000   \n",
       "75%    247.500000  307.000000  397.000000   504.250000   562.500000   \n",
       "max    292.000000  811.000000  788.000000  1043.000000  1055.000000   \n",
       "\n",
       "             6_min        7_min        8_min        9_min       10_min  \\\n",
       "count    96.000000   120.000000   159.000000   191.000000   231.000000   \n",
       "mean    435.791667   453.733333   417.849057   420.732984   440.891775   \n",
       "std     209.985860   244.544500   228.304072   211.139557   220.680551   \n",
       "min      14.000000    18.000000     4.000000     2.000000     6.000000   \n",
       "25%     299.250000   307.250000   264.500000   267.000000   281.500000   \n",
       "50%     432.000000   458.500000   395.000000   429.000000   437.000000   \n",
       "75%     559.500000   587.250000   563.000000   552.500000   582.000000   \n",
       "max    1033.000000  1176.000000  1102.000000  1212.000000  1227.000000   \n",
       "\n",
       "            11_min       12_min  \n",
       "count   277.000000   311.000000  \n",
       "mean    432.494585   484.501608  \n",
       "std     220.791275   244.708752  \n",
       "min       6.000000    17.000000  \n",
       "25%     279.000000   327.000000  \n",
       "50%     419.000000   453.000000  \n",
       "75%     583.000000   614.500000  \n",
       "max    1304.000000  1510.000000  "
      ]
     },
     "execution_count": 69,
     "metadata": {},
     "output_type": "execute_result"
    }
   ],
   "source": [
    "surf_min.describe()"
   ]
  },
  {
   "cell_type": "code",
   "execution_count": 70,
   "metadata": {
    "scrolled": true
   },
   "outputs": [
    {
     "data": {
      "image/png": "[encoded data removed]",
      "text/plain": [
       "<Figure size 1440x720 with 1 Axes>"
      ]
     },
     "metadata": {
      "needs_background": "light"
     },
     "output_type": "display_data"
    }
   ],
   "source": [
    "ultimate_min.boxplot(figsize=(20, 10))\n",
    "plt.title(\"Diagrama de caja de duración de llamadas del plan ultimate\", fontsize=20)\n",
    "plt.xticks(fontsize=15)\n",
    "plt.xticks(x+1, [1, 2, 3, 4, 5, 6, 7, 8, 9, 10, 11, 12], fontsize=15)\n",
    "plt.xlabel('Meses', fontsize=15)\n",
    "plt.ylabel('Minutos', fontsize=15)\n",
    "plt.show()"
   ]
  },
  {
   "cell_type": "markdown",
   "metadata": {},
   "source": [
    "En el diagrama de cajas para los disitintos meses del plan ultimate, se pueden apreciar valores atipicos en los meses 2, 5, 7, 8, 9, 10, 11 y 12.\n",
    "De igual manera, aprecia que todos los valores están dentro del rango de menos de 3,000 minutos al mes, que es lo que ofrece el plan."
   ]
  },
  {
   "cell_type": "code",
   "execution_count": 71,
   "metadata": {
    "scrolled": false
   },
   "outputs": [
    {
     "data": {
      "image/png": "[encoded data removed]",
      "text/plain": [
       "<Figure size 1440x720 with 1 Axes>"
      ]
     },
     "metadata": {
      "needs_background": "light"
     },
     "output_type": "display_data"
    }
   ],
   "source": [
    "surf_min.boxplot(figsize=(20, 10))\n",
    "plt.title(\"Diagrama de caja de duración de llamadas del plan surf\", fontsize=20)\n",
    "plt.xticks(fontsize=15)\n",
    "plt.xticks(x+1, [1, 2, 3, 4, 5, 6, 7, 8, 9, 10, 11, 12], fontsize=15)\n",
    "plt.xlabel('Meses', fontsize=15)\n",
    "plt.ylabel('Minutos', fontsize=15)\n",
    "reference = [500]\n",
    "left, right = plt.xlim()\n",
    "plt.hlines(reference, xmin=left, xmax=right, color='r', linestyles='--')\n",
    "plt.show()"
   ]
  },
  {
   "cell_type": "markdown",
   "metadata": {},
   "source": [
    "En el diagrama de cajas para los disitintos meses del plan surf, se pueden apreciar valores atipicos en los meses 2, 3, 4, 6, 7, 8, 9, 10, 11 y 12.\n",
    "De igual manera, se aprecia que hay muchos valores fuera del rango de menos de 500 minutos al mes, que es lo que ofrece el plan, incluso valores que no son atípicos."
   ]
  },
  {
   "cell_type": "markdown",
   "metadata": {},
   "source": [
    "Se puede distinguir que las medias y las medianas en los ambos casos son muy parecidas, este nos puede indicar que no hay tanta variación en los datos y pocos valores atípicos. Los promedios son muy parecidos en ambos planes. Por consiguiente, no se encuentran comportamientos disitntos en la duración de las llamadas de los planes."
   ]
  },
  {
   "cell_type": "markdown",
   "metadata": {},
   "source": [
    " "
   ]
  },
  {
   "cell_type": "markdown",
   "metadata": {},
   "source": [
    "### Mensajes"
   ]
  },
  {
   "cell_type": "code",
   "execution_count": 72,
   "metadata": {},
   "outputs": [],
   "source": [
    "# Comprara el número de mensajes que tienden a enviar cada mes los usuarios de cada plan\n",
    "surf_msg = merge_data.query('plan_name == \"surf\"')[[\"1_msg\", \"2_msg\", \"3_msg\", \n",
    "                                                          \"4_msg\", \"5_msg\", \"6_msg\", \n",
    "                                                           \"7_msg\", \"8_msg\", \"9_msg\", \n",
    "                                                           \"10_msg\", \"11_msg\", \"12_msg\"]]\n",
    "ultimate_msg = merge_data.query('plan_name == \"ultimate\"')[[\"1_msg\", \"2_msg\", \"3_msg\", \n",
    "                                                          \"4_msg\", \"5_msg\", \"6_msg\", \n",
    "                                                           \"7_msg\", \"8_msg\", \"9_msg\", \n",
    "                                                           \"10_msg\", \"11_msg\", \"12_msg\"]]"
   ]
  },
  {
   "cell_type": "code",
   "execution_count": 73,
   "metadata": {
    "scrolled": false
   },
   "outputs": [
    {
     "data": {
      "image/png": "[encoded data removed]",
      "text/plain": [
       "<Figure size 1080x720 with 1 Axes>"
      ]
     },
     "metadata": {
      "needs_background": "light"
     },
     "output_type": "display_data"
    }
   ],
   "source": [
    "# Compara la cantidad de tráfico de internet consumido por usuarios por plan\n",
    "n = len(surf_msg.mean().index)\n",
    "x = np.arange(n) \n",
    "width = 0.25\n",
    "plt.figure(figsize=(15, 10))\n",
    "plt.bar(x+width, surf_msg.mean(), width=0.25, label=\"Surf\")\n",
    "plt.bar(x, ultimate_msg.mean(), width=0.25, label=\"Ultimate\")\n",
    "plt.title(\"Comparación del promedio de mensajes enviados entre plan surf y ultimate\", fontsize=20)\n",
    "plt.legend(loc='best')\n",
    "plt.xticks(x, [1, 2, 3, 4, 5, 6, 7, 8, 9, 10, 11, 12], fontsize=15)\n",
    "plt.xlabel('Meses', fontsize=15)\n",
    "plt.ylabel('Promedio de mensajes enviados', fontsize=15)\n",
    "plt.show()"
   ]
  },
  {
   "cell_type": "markdown",
   "metadata": {},
   "source": [
    "Se puede apreciar que los usuarios del plan ultimate envían en promedio por mes más mensajes, que los usuarios del plan surf. Aun no podemos determinar si exista algun compartamiento distintos hasta concluir la investigación."
   ]
  },
  {
   "cell_type": "code",
   "execution_count": 74,
   "metadata": {
    "scrolled": false
   },
   "outputs": [
    {
     "data": {
      "image/png": "[encoded data removed]",
      "text/plain": [
       "<Figure size 1440x720 with 1 Axes>"
      ]
     },
     "metadata": {
      "needs_background": "light"
     },
     "output_type": "display_data"
    }
   ],
   "source": [
    "data_msg.groupby(\"user_id\").count().merge(data, on=\"user_id\", how=\"outer\").query('plan == \"surf\"')[\"message_date\"].plot(kind=\"hist\", bins=35, figsize=(20,10), label=\"surf\")\n",
    "data_msg.groupby(\"user_id\").count().merge(data, on=\"user_id\", how=\"outer\").query('plan == \"ultimate\"')[\"message_date\"].plot(kind=\"hist\", bins=35, figsize=(20,10), label=\"ultimate\")\n",
    "plt.title(\"Frecuencia de mensajes enviados del plan surf y ultimate\", fontsize=20)\n",
    "plt.xticks(fontsize=15)\n",
    "plt.xlabel('Mensajes enviados', fontsize=15)\n",
    "plt.ylabel('Frecuencia de usuarios', fontsize=15)\n",
    "plt.legend(loc='best', fontsize=15)\n",
    "plt.show()"
   ]
  },
  {
   "cell_type": "markdown",
   "metadata": {},
   "source": [
    "Parece que los usuarios del plan surf tienen mayor consumo de mensajes que los del plan ultimate."
   ]
  },
  {
   "cell_type": "raw",
   "metadata": {},
   "source": []
  },
  {
   "cell_type": "code",
   "execution_count": 75,
   "metadata": {
    "scrolled": true
   },
   "outputs": [
    {
     "data": {
      "text/html": [
       "<div>\n",
       "<style scoped>\n",
       "    .dataframe tbody tr th:only-of-type {\n",
       "        vertical-align: middle;\n",
       "    }\n",
       "\n",
       "    .dataframe tbody tr th {\n",
       "        vertical-align: top;\n",
       "    }\n",
       "\n",
       "    .dataframe thead th {\n",
       "        text-align: right;\n",
       "    }\n",
       "</style>\n",
       "<table border=\"1\" class=\"dataframe\">\n",
       "  <thead>\n",
       "    <tr style=\"text-align: right;\">\n",
       "      <th></th>\n",
       "      <th>1_msg</th>\n",
       "      <th>2_msg</th>\n",
       "      <th>3_msg</th>\n",
       "      <th>4_msg</th>\n",
       "      <th>5_msg</th>\n",
       "      <th>6_msg</th>\n",
       "      <th>7_msg</th>\n",
       "      <th>8_msg</th>\n",
       "      <th>9_msg</th>\n",
       "      <th>10_msg</th>\n",
       "      <th>11_msg</th>\n",
       "      <th>12_msg</th>\n",
       "    </tr>\n",
       "  </thead>\n",
       "  <tbody>\n",
       "    <tr>\n",
       "      <th>count</th>\n",
       "      <td>3.000000</td>\n",
       "      <td>6.000000</td>\n",
       "      <td>7.000000</td>\n",
       "      <td>16.000000</td>\n",
       "      <td>21.000000</td>\n",
       "      <td>38.000000</td>\n",
       "      <td>47.000000</td>\n",
       "      <td>57.000000</td>\n",
       "      <td>71.000000</td>\n",
       "      <td>89.000000</td>\n",
       "      <td>103.000000</td>\n",
       "      <td>126.000000</td>\n",
       "    </tr>\n",
       "    <tr>\n",
       "      <th>mean</th>\n",
       "      <td>20.666667</td>\n",
       "      <td>25.166667</td>\n",
       "      <td>34.714286</td>\n",
       "      <td>28.937500</td>\n",
       "      <td>44.333333</td>\n",
       "      <td>36.289474</td>\n",
       "      <td>41.212766</td>\n",
       "      <td>47.929825</td>\n",
       "      <td>45.901408</td>\n",
       "      <td>46.977528</td>\n",
       "      <td>47.601942</td>\n",
       "      <td>53.936508</td>\n",
       "    </tr>\n",
       "    <tr>\n",
       "      <th>std</th>\n",
       "      <td>17.616280</td>\n",
       "      <td>21.572359</td>\n",
       "      <td>24.777102</td>\n",
       "      <td>22.646468</td>\n",
       "      <td>35.311943</td>\n",
       "      <td>28.411939</td>\n",
       "      <td>29.293074</td>\n",
       "      <td>32.161901</td>\n",
       "      <td>30.056212</td>\n",
       "      <td>33.151847</td>\n",
       "      <td>33.019703</td>\n",
       "      <td>37.064861</td>\n",
       "    </tr>\n",
       "    <tr>\n",
       "      <th>min</th>\n",
       "      <td>2.000000</td>\n",
       "      <td>8.000000</td>\n",
       "      <td>9.000000</td>\n",
       "      <td>5.000000</td>\n",
       "      <td>5.000000</td>\n",
       "      <td>2.000000</td>\n",
       "      <td>1.000000</td>\n",
       "      <td>2.000000</td>\n",
       "      <td>2.000000</td>\n",
       "      <td>2.000000</td>\n",
       "      <td>1.000000</td>\n",
       "      <td>2.000000</td>\n",
       "    </tr>\n",
       "    <tr>\n",
       "      <th>25%</th>\n",
       "      <td>12.500000</td>\n",
       "      <td>12.750000</td>\n",
       "      <td>18.000000</td>\n",
       "      <td>12.500000</td>\n",
       "      <td>15.000000</td>\n",
       "      <td>15.250000</td>\n",
       "      <td>21.500000</td>\n",
       "      <td>20.000000</td>\n",
       "      <td>25.500000</td>\n",
       "      <td>23.000000</td>\n",
       "      <td>21.500000</td>\n",
       "      <td>24.250000</td>\n",
       "    </tr>\n",
       "    <tr>\n",
       "      <th>50%</th>\n",
       "      <td>23.000000</td>\n",
       "      <td>19.000000</td>\n",
       "      <td>26.000000</td>\n",
       "      <td>20.500000</td>\n",
       "      <td>35.000000</td>\n",
       "      <td>31.000000</td>\n",
       "      <td>35.000000</td>\n",
       "      <td>42.000000</td>\n",
       "      <td>47.000000</td>\n",
       "      <td>40.000000</td>\n",
       "      <td>41.000000</td>\n",
       "      <td>48.500000</td>\n",
       "    </tr>\n",
       "    <tr>\n",
       "      <th>75%</th>\n",
       "      <td>30.000000</td>\n",
       "      <td>25.250000</td>\n",
       "      <td>50.000000</td>\n",
       "      <td>34.750000</td>\n",
       "      <td>64.000000</td>\n",
       "      <td>57.000000</td>\n",
       "      <td>56.500000</td>\n",
       "      <td>71.000000</td>\n",
       "      <td>63.000000</td>\n",
       "      <td>65.000000</td>\n",
       "      <td>66.500000</td>\n",
       "      <td>77.000000</td>\n",
       "    </tr>\n",
       "    <tr>\n",
       "      <th>max</th>\n",
       "      <td>37.000000</td>\n",
       "      <td>67.000000</td>\n",
       "      <td>72.000000</td>\n",
       "      <td>77.000000</td>\n",
       "      <td>149.000000</td>\n",
       "      <td>143.000000</td>\n",
       "      <td>149.000000</td>\n",
       "      <td>151.000000</td>\n",
       "      <td>155.000000</td>\n",
       "      <td>153.000000</td>\n",
       "      <td>166.000000</td>\n",
       "      <td>150.000000</td>\n",
       "    </tr>\n",
       "  </tbody>\n",
       "</table>\n",
       "</div>"
      ],
      "text/plain": [
       "           1_msg      2_msg      3_msg      4_msg       5_msg       6_msg  \\\n",
       "count   3.000000   6.000000   7.000000  16.000000   21.000000   38.000000   \n",
       "mean   20.666667  25.166667  34.714286  28.937500   44.333333   36.289474   \n",
       "std    17.616280  21.572359  24.777102  22.646468   35.311943   28.411939   \n",
       "min     2.000000   8.000000   9.000000   5.000000    5.000000    2.000000   \n",
       "25%    12.500000  12.750000  18.000000  12.500000   15.000000   15.250000   \n",
       "50%    23.000000  19.000000  26.000000  20.500000   35.000000   31.000000   \n",
       "75%    30.000000  25.250000  50.000000  34.750000   64.000000   57.000000   \n",
       "max    37.000000  67.000000  72.000000  77.000000  149.000000  143.000000   \n",
       "\n",
       "            7_msg       8_msg       9_msg      10_msg      11_msg      12_msg  \n",
       "count   47.000000   57.000000   71.000000   89.000000  103.000000  126.000000  \n",
       "mean    41.212766   47.929825   45.901408   46.977528   47.601942   53.936508  \n",
       "std     29.293074   32.161901   30.056212   33.151847   33.019703   37.064861  \n",
       "min      1.000000    2.000000    2.000000    2.000000    1.000000    2.000000  \n",
       "25%     21.500000   20.000000   25.500000   23.000000   21.500000   24.250000  \n",
       "50%     35.000000   42.000000   47.000000   40.000000   41.000000   48.500000  \n",
       "75%     56.500000   71.000000   63.000000   65.000000   66.500000   77.000000  \n",
       "max    149.000000  151.000000  155.000000  153.000000  166.000000  150.000000  "
      ]
     },
     "execution_count": 75,
     "metadata": {},
     "output_type": "execute_result"
    }
   ],
   "source": [
    "ultimate_msg.describe()"
   ]
  },
  {
   "cell_type": "code",
   "execution_count": 76,
   "metadata": {
    "scrolled": true
   },
   "outputs": [
    {
     "data": {
      "text/html": [
       "<div>\n",
       "<style scoped>\n",
       "    .dataframe tbody tr th:only-of-type {\n",
       "        vertical-align: middle;\n",
       "    }\n",
       "\n",
       "    .dataframe tbody tr th {\n",
       "        vertical-align: top;\n",
       "    }\n",
       "\n",
       "    .dataframe thead th {\n",
       "        text-align: right;\n",
       "    }\n",
       "</style>\n",
       "<table border=\"1\" class=\"dataframe\">\n",
       "  <thead>\n",
       "    <tr style=\"text-align: right;\">\n",
       "      <th></th>\n",
       "      <th>1_msg</th>\n",
       "      <th>2_msg</th>\n",
       "      <th>3_msg</th>\n",
       "      <th>4_msg</th>\n",
       "      <th>5_msg</th>\n",
       "      <th>6_msg</th>\n",
       "      <th>7_msg</th>\n",
       "      <th>8_msg</th>\n",
       "      <th>9_msg</th>\n",
       "      <th>10_msg</th>\n",
       "      <th>11_msg</th>\n",
       "      <th>12_msg</th>\n",
       "    </tr>\n",
       "  </thead>\n",
       "  <tbody>\n",
       "    <tr>\n",
       "      <th>count</th>\n",
       "      <td>1.0</td>\n",
       "      <td>5.000000</td>\n",
       "      <td>16.000000</td>\n",
       "      <td>36.000000</td>\n",
       "      <td>56.000000</td>\n",
       "      <td>73.000000</td>\n",
       "      <td>91.000000</td>\n",
       "      <td>124.000000</td>\n",
       "      <td>151.000000</td>\n",
       "      <td>189.000000</td>\n",
       "      <td>226.000000</td>\n",
       "      <td>254.000000</td>\n",
       "    </tr>\n",
       "    <tr>\n",
       "      <th>mean</th>\n",
       "      <td>21.0</td>\n",
       "      <td>21.600000</td>\n",
       "      <td>21.937500</td>\n",
       "      <td>24.166667</td>\n",
       "      <td>33.017857</td>\n",
       "      <td>33.616438</td>\n",
       "      <td>35.945055</td>\n",
       "      <td>37.596774</td>\n",
       "      <td>39.523179</td>\n",
       "      <td>42.433862</td>\n",
       "      <td>40.553097</td>\n",
       "      <td>48.326772</td>\n",
       "    </tr>\n",
       "    <tr>\n",
       "      <th>std</th>\n",
       "      <td>NaN</td>\n",
       "      <td>22.645088</td>\n",
       "      <td>18.763329</td>\n",
       "      <td>23.109058</td>\n",
       "      <td>29.460909</td>\n",
       "      <td>30.600758</td>\n",
       "      <td>30.132803</td>\n",
       "      <td>31.832621</td>\n",
       "      <td>30.709137</td>\n",
       "      <td>35.135333</td>\n",
       "      <td>31.662657</td>\n",
       "      <td>36.812090</td>\n",
       "    </tr>\n",
       "    <tr>\n",
       "      <th>min</th>\n",
       "      <td>21.0</td>\n",
       "      <td>3.000000</td>\n",
       "      <td>1.000000</td>\n",
       "      <td>1.000000</td>\n",
       "      <td>1.000000</td>\n",
       "      <td>1.000000</td>\n",
       "      <td>1.000000</td>\n",
       "      <td>1.000000</td>\n",
       "      <td>2.000000</td>\n",
       "      <td>2.000000</td>\n",
       "      <td>1.000000</td>\n",
       "      <td>1.000000</td>\n",
       "    </tr>\n",
       "    <tr>\n",
       "      <th>25%</th>\n",
       "      <td>21.0</td>\n",
       "      <td>7.000000</td>\n",
       "      <td>6.250000</td>\n",
       "      <td>6.750000</td>\n",
       "      <td>13.500000</td>\n",
       "      <td>10.000000</td>\n",
       "      <td>13.500000</td>\n",
       "      <td>14.750000</td>\n",
       "      <td>17.500000</td>\n",
       "      <td>17.000000</td>\n",
       "      <td>18.000000</td>\n",
       "      <td>24.000000</td>\n",
       "    </tr>\n",
       "    <tr>\n",
       "      <th>50%</th>\n",
       "      <td>21.0</td>\n",
       "      <td>11.000000</td>\n",
       "      <td>18.500000</td>\n",
       "      <td>18.500000</td>\n",
       "      <td>26.000000</td>\n",
       "      <td>27.000000</td>\n",
       "      <td>30.000000</td>\n",
       "      <td>31.000000</td>\n",
       "      <td>31.000000</td>\n",
       "      <td>35.000000</td>\n",
       "      <td>33.000000</td>\n",
       "      <td>38.000000</td>\n",
       "    </tr>\n",
       "    <tr>\n",
       "      <th>75%</th>\n",
       "      <td>21.0</td>\n",
       "      <td>29.000000</td>\n",
       "      <td>32.250000</td>\n",
       "      <td>34.500000</td>\n",
       "      <td>48.000000</td>\n",
       "      <td>49.000000</td>\n",
       "      <td>50.000000</td>\n",
       "      <td>50.000000</td>\n",
       "      <td>53.000000</td>\n",
       "      <td>57.000000</td>\n",
       "      <td>51.500000</td>\n",
       "      <td>64.000000</td>\n",
       "    </tr>\n",
       "    <tr>\n",
       "      <th>max</th>\n",
       "      <td>21.0</td>\n",
       "      <td>58.000000</td>\n",
       "      <td>59.000000</td>\n",
       "      <td>120.000000</td>\n",
       "      <td>149.000000</td>\n",
       "      <td>133.000000</td>\n",
       "      <td>164.000000</td>\n",
       "      <td>156.000000</td>\n",
       "      <td>153.000000</td>\n",
       "      <td>224.000000</td>\n",
       "      <td>180.000000</td>\n",
       "      <td>266.000000</td>\n",
       "    </tr>\n",
       "  </tbody>\n",
       "</table>\n",
       "</div>"
      ],
      "text/plain": [
       "       1_msg      2_msg      3_msg       4_msg       5_msg       6_msg  \\\n",
       "count    1.0   5.000000  16.000000   36.000000   56.000000   73.000000   \n",
       "mean    21.0  21.600000  21.937500   24.166667   33.017857   33.616438   \n",
       "std      NaN  22.645088  18.763329   23.109058   29.460909   30.600758   \n",
       "min     21.0   3.000000   1.000000    1.000000    1.000000    1.000000   \n",
       "25%     21.0   7.000000   6.250000    6.750000   13.500000   10.000000   \n",
       "50%     21.0  11.000000  18.500000   18.500000   26.000000   27.000000   \n",
       "75%     21.0  29.000000  32.250000   34.500000   48.000000   49.000000   \n",
       "max     21.0  58.000000  59.000000  120.000000  149.000000  133.000000   \n",
       "\n",
       "            7_msg       8_msg       9_msg      10_msg      11_msg      12_msg  \n",
       "count   91.000000  124.000000  151.000000  189.000000  226.000000  254.000000  \n",
       "mean    35.945055   37.596774   39.523179   42.433862   40.553097   48.326772  \n",
       "std     30.132803   31.832621   30.709137   35.135333   31.662657   36.812090  \n",
       "min      1.000000    1.000000    2.000000    2.000000    1.000000    1.000000  \n",
       "25%     13.500000   14.750000   17.500000   17.000000   18.000000   24.000000  \n",
       "50%     30.000000   31.000000   31.000000   35.000000   33.000000   38.000000  \n",
       "75%     50.000000   50.000000   53.000000   57.000000   51.500000   64.000000  \n",
       "max    164.000000  156.000000  153.000000  224.000000  180.000000  266.000000  "
      ]
     },
     "execution_count": 76,
     "metadata": {},
     "output_type": "execute_result"
    }
   ],
   "source": [
    "surf_msg.describe()"
   ]
  },
  {
   "cell_type": "code",
   "execution_count": 77,
   "metadata": {
    "scrolled": true
   },
   "outputs": [
    {
     "data": {
      "image/png": "[encoded data removed]",
      "text/plain": [
       "<Figure size 1440x720 with 1 Axes>"
      ]
     },
     "metadata": {
      "needs_background": "light"
     },
     "output_type": "display_data"
    }
   ],
   "source": [
    "ultimate_msg.boxplot(figsize=(20, 10))\n",
    "plt.title(\"Diagrama de caja de mensajes enviados del plan ultimate\", fontsize=20)\n",
    "plt.xticks(fontsize=15)\n",
    "plt.xticks(x+1, [1, 2, 3, 4, 5, 6, 7, 8, 9, 10, 11, 12], fontsize=15)\n",
    "plt.xlabel('Meses', fontsize=15)\n",
    "plt.ylabel('Mensajes', fontsize=15)\n",
    "plt.show()"
   ]
  },
  {
   "cell_type": "markdown",
   "metadata": {},
   "source": [
    "Se aprecian valores atípicos en los mensajes enviados del plan ultimate en los meses 2, 4, 5, 6, 7, 8, 9, 10 y 11.\n",
    "De igual manera, aprecia que todos los valores están dentro del rango de menos de 1,000 mensajes al mes, que es lo que ofrece el plan."
   ]
  },
  {
   "cell_type": "code",
   "execution_count": 78,
   "metadata": {
    "scrolled": true
   },
   "outputs": [
    {
     "data": {
      "image/png": "[encoded data removed]",
      "text/plain": [
       "<Figure size 1440x720 with 1 Axes>"
      ]
     },
     "metadata": {
      "needs_background": "light"
     },
     "output_type": "display_data"
    }
   ],
   "source": [
    "surf_msg.boxplot(figsize=(20, 10))\n",
    "plt.title(\"Diagrama de caja de mensajes enviados del plan surf\", fontsize=20)\n",
    "plt.xticks(fontsize=15)\n",
    "plt.xticks(x+1, [1, 2, 3, 4, 5, 6, 7, 8, 9, 10, 11, 12], fontsize=15)\n",
    "plt.xlabel('Meses', fontsize=15)\n",
    "plt.ylabel('Mensajes', fontsize=15)\n",
    "reference = [50]\n",
    "left, right = plt.xlim()\n",
    "plt.hlines(reference, xmin=left, xmax=right, color='r', linestyles='--')\n",
    "plt.show()"
   ]
  },
  {
   "cell_type": "markdown",
   "metadata": {},
   "source": [
    "Se aprecian valores atípicos en los mensajes enviados del plan surf en los meses  4, 5, 6, 7, 8, 9, 10, 11 y 12.\n",
    "De igual manera, aprecia que los valores sobrepasan el rango de 50 mensajes al mes, que es lo que ofrece el plan. Se puede apreciar que hay varios valores dentro de la caja y su bigote superior; que estan por encima del límite de mensajes que ofrece el plan."
   ]
  },
  {
   "cell_type": "markdown",
   "metadata": {},
   "source": [
    "Parece ser que los usuarios del plan ultimate envían al mes unos cuantos más mensajes, que los usuarios del plan surface."
   ]
  },
  {
   "cell_type": "markdown",
   "metadata": {},
   "source": [
    " "
   ]
  },
  {
   "cell_type": "markdown",
   "metadata": {},
   "source": [
    "### Internet"
   ]
  },
  {
   "cell_type": "code",
   "execution_count": 79,
   "metadata": {},
   "outputs": [],
   "source": [
    "surf_int = merge_data.query('plan_name == \"surf\"')[[\"1_int\", \"2_int\", \"3_int\", \n",
    "                                                          \"4_int\", \"5_int\", \"6_int\", \n",
    "                                                           \"7_int\", \"8_int\", \"9_int\", \n",
    "                                                           \"10_int\", \"11_int\", \"12_int\"]]\n",
    "ultimate_int = merge_data.query('plan_name == \"ultimate\"')[[\"1_int\", \"2_int\", \"3_int\", \n",
    "                                                          \"4_int\", \"5_int\", \"6_int\", \n",
    "                                                           \"7_int\", \"8_int\", \"9_int\", \n",
    "                                                           \"10_int\", \"11_int\", \"12_int\"]]"
   ]
  },
  {
   "cell_type": "code",
   "execution_count": 80,
   "metadata": {
    "scrolled": true
   },
   "outputs": [
    {
     "data": {
      "image/png": "[encoded data removed]",
      "text/plain": [
       "<Figure size 1080x720 with 1 Axes>"
      ]
     },
     "metadata": {
      "needs_background": "light"
     },
     "output_type": "display_data"
    }
   ],
   "source": [
    "n = len(surf_int.mean().index)\n",
    "x = np.arange(n) \n",
    "width = 0.25\n",
    "plt.figure(figsize=(15, 10))\n",
    "plt.bar(x+width, surf_int.mean(), width=0.25, label=\"Surf\")\n",
    "plt.bar(x, ultimate_int.mean(), width=0.25, label=\"Ultimate\")\n",
    "plt.title(\"Comparación del promedio de megabytes consumidos entre plan surf y ultimate\", fontsize=20)\n",
    "plt.legend(loc='best')\n",
    "plt.xticks(x, [1, 2, 3, 4, 5, 6, 7, 8, 9, 10, 11, 12], fontsize=15)\n",
    "plt.xlabel('Meses', fontsize=15)\n",
    "plt.ylabel('Megabytes consumidos', fontsize=15)\n",
    "plt.show()"
   ]
  },
  {
   "cell_type": "markdown",
   "metadata": {},
   "source": [
    "El promedio de los del consumo de megabytes en el plan ultimate es mayor en los primeros 5 meses. Despues no hay mucha diferencia entre el consumo en los planes."
   ]
  },
  {
   "cell_type": "code",
   "execution_count": 81,
   "metadata": {
    "scrolled": true
   },
   "outputs": [
    {
     "data": {
      "image/png": "[encoded data removed]",
      "text/plain": [
       "<Figure size 1440x720 with 1 Axes>"
      ]
     },
     "metadata": {
      "needs_background": "light"
     },
     "output_type": "display_data"
    }
   ],
   "source": [
    "data_int.groupby(\"user_id\").sum().merge(data, on=\"user_id\", how=\"outer\").query('plan == \"surf\"')[\"mb_used\"].plot(kind=\"hist\", bins=35, figsize=(20,10), label=\"surf\")\n",
    "data_int.groupby(\"user_id\").sum().merge(data, on=\"user_id\", how=\"outer\").query('plan == \"ultimate\"')[\"mb_used\"].plot(kind=\"hist\", bins=35, figsize=(20,10), label=\"ultimate\", alpha=0.7)\n",
    "plt.title(\"Frencuecia de internet consumido en el plan surf y ultimate\", fontsize=20)\n",
    "plt.xticks(fontsize=15)\n",
    "plt.xlabel('Megabytes consumidos', fontsize=15)\n",
    "plt.ylabel('Frecuencia de usuarios', fontsize=15)\n",
    "plt.legend(loc='best', fontsize=15)\n",
    "plt.show()"
   ]
  },
  {
   "cell_type": "markdown",
   "metadata": {},
   "source": [
    "Parece que los usuarios del plan surf tienen mas cosumo de intenet que los del plan ultimate."
   ]
  },
  {
   "cell_type": "code",
   "execution_count": 82,
   "metadata": {},
   "outputs": [
    {
     "data": {
      "text/html": [
       "<div>\n",
       "<style scoped>\n",
       "    .dataframe tbody tr th:only-of-type {\n",
       "        vertical-align: middle;\n",
       "    }\n",
       "\n",
       "    .dataframe tbody tr th {\n",
       "        vertical-align: top;\n",
       "    }\n",
       "\n",
       "    .dataframe thead th {\n",
       "        text-align: right;\n",
       "    }\n",
       "</style>\n",
       "<table border=\"1\" class=\"dataframe\">\n",
       "  <thead>\n",
       "    <tr style=\"text-align: right;\">\n",
       "      <th></th>\n",
       "      <th>1_int</th>\n",
       "      <th>2_int</th>\n",
       "      <th>3_int</th>\n",
       "      <th>4_int</th>\n",
       "      <th>5_int</th>\n",
       "      <th>6_int</th>\n",
       "      <th>7_int</th>\n",
       "      <th>8_int</th>\n",
       "      <th>9_int</th>\n",
       "      <th>10_int</th>\n",
       "      <th>11_int</th>\n",
       "      <th>12_int</th>\n",
       "    </tr>\n",
       "  </thead>\n",
       "  <tbody>\n",
       "    <tr>\n",
       "      <th>count</th>\n",
       "      <td>4.000000</td>\n",
       "      <td>7.000000</td>\n",
       "      <td>12.000000</td>\n",
       "      <td>21.000000</td>\n",
       "      <td>29.000000</td>\n",
       "      <td>47.000000</td>\n",
       "      <td>59.000000</td>\n",
       "      <td>71.000000</td>\n",
       "      <td>86.000000</td>\n",
       "      <td>105.000000</td>\n",
       "      <td>127.000000</td>\n",
       "      <td>151.000000</td>\n",
       "    </tr>\n",
       "    <tr>\n",
       "      <th>mean</th>\n",
       "      <td>6918.092500</td>\n",
       "      <td>17128.808571</td>\n",
       "      <td>18321.518333</td>\n",
       "      <td>16121.654762</td>\n",
       "      <td>16624.482414</td>\n",
       "      <td>15337.921064</td>\n",
       "      <td>16344.744407</td>\n",
       "      <td>17814.720141</td>\n",
       "      <td>16969.869535</td>\n",
       "      <td>17780.292000</td>\n",
       "      <td>17033.685354</td>\n",
       "      <td>18323.191854</td>\n",
       "    </tr>\n",
       "    <tr>\n",
       "      <th>std</th>\n",
       "      <td>4049.038391</td>\n",
       "      <td>6135.885948</td>\n",
       "      <td>11846.483246</td>\n",
       "      <td>9403.648604</td>\n",
       "      <td>7535.921701</td>\n",
       "      <td>8486.137619</td>\n",
       "      <td>8271.590578</td>\n",
       "      <td>7774.772263</td>\n",
       "      <td>7024.175271</td>\n",
       "      <td>7384.591368</td>\n",
       "      <td>7588.773139</td>\n",
       "      <td>7866.466882</td>\n",
       "    </tr>\n",
       "    <tr>\n",
       "      <th>min</th>\n",
       "      <td>1315.350000</td>\n",
       "      <td>4975.190000</td>\n",
       "      <td>1586.390000</td>\n",
       "      <td>2947.770000</td>\n",
       "      <td>2292.120000</td>\n",
       "      <td>1449.370000</td>\n",
       "      <td>522.180000</td>\n",
       "      <td>630.230000</td>\n",
       "      <td>3818.350000</td>\n",
       "      <td>3465.510000</td>\n",
       "      <td>290.060000</td>\n",
       "      <td>233.170000</td>\n",
       "    </tr>\n",
       "    <tr>\n",
       "      <th>25%</th>\n",
       "      <td>5438.415000</td>\n",
       "      <td>16259.230000</td>\n",
       "      <td>7938.807500</td>\n",
       "      <td>8196.030000</td>\n",
       "      <td>13675.950000</td>\n",
       "      <td>10392.725000</td>\n",
       "      <td>11823.115000</td>\n",
       "      <td>14120.090000</td>\n",
       "      <td>12743.742500</td>\n",
       "      <td>12730.130000</td>\n",
       "      <td>12855.890000</td>\n",
       "      <td>13781.475000</td>\n",
       "    </tr>\n",
       "    <tr>\n",
       "      <th>50%</th>\n",
       "      <td>7860.690000</td>\n",
       "      <td>20085.200000</td>\n",
       "      <td>20812.505000</td>\n",
       "      <td>15651.160000</td>\n",
       "      <td>16499.790000</td>\n",
       "      <td>15342.760000</td>\n",
       "      <td>15068.780000</td>\n",
       "      <td>17954.650000</td>\n",
       "      <td>16434.410000</td>\n",
       "      <td>16992.860000</td>\n",
       "      <td>17130.900000</td>\n",
       "      <td>17346.080000</td>\n",
       "    </tr>\n",
       "    <tr>\n",
       "      <th>75%</th>\n",
       "      <td>9340.367500</td>\n",
       "      <td>20361.930000</td>\n",
       "      <td>28632.867500</td>\n",
       "      <td>20601.580000</td>\n",
       "      <td>20773.120000</td>\n",
       "      <td>20239.940000</td>\n",
       "      <td>20992.780000</td>\n",
       "      <td>20947.790000</td>\n",
       "      <td>19946.052500</td>\n",
       "      <td>21104.020000</td>\n",
       "      <td>20700.860000</td>\n",
       "      <td>22219.810000</td>\n",
       "    </tr>\n",
       "    <tr>\n",
       "      <th>max</th>\n",
       "      <td>10635.640000</td>\n",
       "      <td>21598.950000</td>\n",
       "      <td>36061.040000</td>\n",
       "      <td>37761.590000</td>\n",
       "      <td>32907.830000</td>\n",
       "      <td>37907.140000</td>\n",
       "      <td>38826.700000</td>\n",
       "      <td>40388.210000</td>\n",
       "      <td>37587.030000</td>\n",
       "      <td>46595.330000</td>\n",
       "      <td>42952.590000</td>\n",
       "      <td>46215.510000</td>\n",
       "    </tr>\n",
       "  </tbody>\n",
       "</table>\n",
       "</div>"
      ],
      "text/plain": [
       "              1_int         2_int         3_int         4_int         5_int  \\\n",
       "count      4.000000      7.000000     12.000000     21.000000     29.000000   \n",
       "mean    6918.092500  17128.808571  18321.518333  16121.654762  16624.482414   \n",
       "std     4049.038391   6135.885948  11846.483246   9403.648604   7535.921701   \n",
       "min     1315.350000   4975.190000   1586.390000   2947.770000   2292.120000   \n",
       "25%     5438.415000  16259.230000   7938.807500   8196.030000  13675.950000   \n",
       "50%     7860.690000  20085.200000  20812.505000  15651.160000  16499.790000   \n",
       "75%     9340.367500  20361.930000  28632.867500  20601.580000  20773.120000   \n",
       "max    10635.640000  21598.950000  36061.040000  37761.590000  32907.830000   \n",
       "\n",
       "              6_int         7_int         8_int         9_int        10_int  \\\n",
       "count     47.000000     59.000000     71.000000     86.000000    105.000000   \n",
       "mean   15337.921064  16344.744407  17814.720141  16969.869535  17780.292000   \n",
       "std     8486.137619   8271.590578   7774.772263   7024.175271   7384.591368   \n",
       "min     1449.370000    522.180000    630.230000   3818.350000   3465.510000   \n",
       "25%    10392.725000  11823.115000  14120.090000  12743.742500  12730.130000   \n",
       "50%    15342.760000  15068.780000  17954.650000  16434.410000  16992.860000   \n",
       "75%    20239.940000  20992.780000  20947.790000  19946.052500  21104.020000   \n",
       "max    37907.140000  38826.700000  40388.210000  37587.030000  46595.330000   \n",
       "\n",
       "             11_int        12_int  \n",
       "count    127.000000    151.000000  \n",
       "mean   17033.685354  18323.191854  \n",
       "std     7588.773139   7866.466882  \n",
       "min      290.060000    233.170000  \n",
       "25%    12855.890000  13781.475000  \n",
       "50%    17130.900000  17346.080000  \n",
       "75%    20700.860000  22219.810000  \n",
       "max    42952.590000  46215.510000  "
      ]
     },
     "execution_count": 82,
     "metadata": {},
     "output_type": "execute_result"
    }
   ],
   "source": [
    "ultimate_int.describe()"
   ]
  },
  {
   "cell_type": "code",
   "execution_count": 83,
   "metadata": {},
   "outputs": [
    {
     "data": {
      "text/html": [
       "<div>\n",
       "<style scoped>\n",
       "    .dataframe tbody tr th:only-of-type {\n",
       "        vertical-align: middle;\n",
       "    }\n",
       "\n",
       "    .dataframe tbody tr th {\n",
       "        vertical-align: top;\n",
       "    }\n",
       "\n",
       "    .dataframe thead th {\n",
       "        text-align: right;\n",
       "    }\n",
       "</style>\n",
       "<table border=\"1\" class=\"dataframe\">\n",
       "  <thead>\n",
       "    <tr style=\"text-align: right;\">\n",
       "      <th></th>\n",
       "      <th>1_int</th>\n",
       "      <th>2_int</th>\n",
       "      <th>3_int</th>\n",
       "      <th>4_int</th>\n",
       "      <th>5_int</th>\n",
       "      <th>6_int</th>\n",
       "      <th>7_int</th>\n",
       "      <th>8_int</th>\n",
       "      <th>9_int</th>\n",
       "      <th>10_int</th>\n",
       "      <th>11_int</th>\n",
       "      <th>12_int</th>\n",
       "    </tr>\n",
       "  </thead>\n",
       "  <tbody>\n",
       "    <tr>\n",
       "      <th>count</th>\n",
       "      <td>2.000000</td>\n",
       "      <td>9.000000</td>\n",
       "      <td>23.000000</td>\n",
       "      <td>49.000000</td>\n",
       "      <td>76.000000</td>\n",
       "      <td>95.000000</td>\n",
       "      <td>120.000000</td>\n",
       "      <td>159.000000</td>\n",
       "      <td>193.000000</td>\n",
       "      <td>234.000000</td>\n",
       "      <td>281.000000</td>\n",
       "      <td>317.000000</td>\n",
       "    </tr>\n",
       "    <tr>\n",
       "      <th>mean</th>\n",
       "      <td>4874.860000</td>\n",
       "      <td>12178.843333</td>\n",
       "      <td>13345.440000</td>\n",
       "      <td>12228.778571</td>\n",
       "      <td>14119.728026</td>\n",
       "      <td>15623.666632</td>\n",
       "      <td>16923.463917</td>\n",
       "      <td>17112.224403</td>\n",
       "      <td>16677.397254</td>\n",
       "      <td>17533.275256</td>\n",
       "      <td>16455.548043</td>\n",
       "      <td>18189.669590</td>\n",
       "    </tr>\n",
       "    <tr>\n",
       "      <th>std</th>\n",
       "      <td>4270.825963</td>\n",
       "      <td>6608.551952</td>\n",
       "      <td>8261.086946</td>\n",
       "      <td>7564.514094</td>\n",
       "      <td>7724.799075</td>\n",
       "      <td>6715.077831</td>\n",
       "      <td>7927.374698</td>\n",
       "      <td>8402.176549</td>\n",
       "      <td>7081.155848</td>\n",
       "      <td>7708.760082</td>\n",
       "      <td>7460.787843</td>\n",
       "      <td>8445.826008</td>\n",
       "    </tr>\n",
       "    <tr>\n",
       "      <th>min</th>\n",
       "      <td>1854.930000</td>\n",
       "      <td>599.780000</td>\n",
       "      <td>1248.030000</td>\n",
       "      <td>92.310000</td>\n",
       "      <td>129.840000</td>\n",
       "      <td>1021.330000</td>\n",
       "      <td>113.740000</td>\n",
       "      <td>618.950000</td>\n",
       "      <td>409.430000</td>\n",
       "      <td>633.040000</td>\n",
       "      <td>240.000000</td>\n",
       "      <td>92.680000</td>\n",
       "    </tr>\n",
       "    <tr>\n",
       "      <th>25%</th>\n",
       "      <td>3364.895000</td>\n",
       "      <td>7045.440000</td>\n",
       "      <td>6152.990000</td>\n",
       "      <td>6759.660000</td>\n",
       "      <td>7462.882500</td>\n",
       "      <td>12559.775000</td>\n",
       "      <td>13013.457500</td>\n",
       "      <td>12051.285000</td>\n",
       "      <td>12566.120000</td>\n",
       "      <td>12603.520000</td>\n",
       "      <td>12247.500000</td>\n",
       "      <td>13833.400000</td>\n",
       "    </tr>\n",
       "    <tr>\n",
       "      <th>50%</th>\n",
       "      <td>4874.860000</td>\n",
       "      <td>11828.250000</td>\n",
       "      <td>13867.940000</td>\n",
       "      <td>11963.560000</td>\n",
       "      <td>13986.490000</td>\n",
       "      <td>15487.230000</td>\n",
       "      <td>16964.020000</td>\n",
       "      <td>17008.200000</td>\n",
       "      <td>16978.890000</td>\n",
       "      <td>17517.820000</td>\n",
       "      <td>16862.030000</td>\n",
       "      <td>17784.340000</td>\n",
       "    </tr>\n",
       "    <tr>\n",
       "      <th>75%</th>\n",
       "      <td>6384.825000</td>\n",
       "      <td>16319.150000</td>\n",
       "      <td>18749.965000</td>\n",
       "      <td>18087.220000</td>\n",
       "      <td>20333.112500</td>\n",
       "      <td>18583.280000</td>\n",
       "      <td>21525.145000</td>\n",
       "      <td>21308.450000</td>\n",
       "      <td>20991.890000</td>\n",
       "      <td>21286.520000</td>\n",
       "      <td>20535.200000</td>\n",
       "      <td>21917.350000</td>\n",
       "    </tr>\n",
       "    <tr>\n",
       "      <th>max</th>\n",
       "      <td>7894.790000</td>\n",
       "      <td>20389.870000</td>\n",
       "      <td>30347.760000</td>\n",
       "      <td>28509.800000</td>\n",
       "      <td>36672.290000</td>\n",
       "      <td>37102.770000</td>\n",
       "      <td>38929.090000</td>\n",
       "      <td>51809.350000</td>\n",
       "      <td>37298.020000</td>\n",
       "      <td>46868.750000</td>\n",
       "      <td>42866.100000</td>\n",
       "      <td>70931.590000</td>\n",
       "    </tr>\n",
       "  </tbody>\n",
       "</table>\n",
       "</div>"
      ],
      "text/plain": [
       "             1_int         2_int         3_int         4_int         5_int  \\\n",
       "count     2.000000      9.000000     23.000000     49.000000     76.000000   \n",
       "mean   4874.860000  12178.843333  13345.440000  12228.778571  14119.728026   \n",
       "std    4270.825963   6608.551952   8261.086946   7564.514094   7724.799075   \n",
       "min    1854.930000    599.780000   1248.030000     92.310000    129.840000   \n",
       "25%    3364.895000   7045.440000   6152.990000   6759.660000   7462.882500   \n",
       "50%    4874.860000  11828.250000  13867.940000  11963.560000  13986.490000   \n",
       "75%    6384.825000  16319.150000  18749.965000  18087.220000  20333.112500   \n",
       "max    7894.790000  20389.870000  30347.760000  28509.800000  36672.290000   \n",
       "\n",
       "              6_int         7_int         8_int         9_int        10_int  \\\n",
       "count     95.000000    120.000000    159.000000    193.000000    234.000000   \n",
       "mean   15623.666632  16923.463917  17112.224403  16677.397254  17533.275256   \n",
       "std     6715.077831   7927.374698   8402.176549   7081.155848   7708.760082   \n",
       "min     1021.330000    113.740000    618.950000    409.430000    633.040000   \n",
       "25%    12559.775000  13013.457500  12051.285000  12566.120000  12603.520000   \n",
       "50%    15487.230000  16964.020000  17008.200000  16978.890000  17517.820000   \n",
       "75%    18583.280000  21525.145000  21308.450000  20991.890000  21286.520000   \n",
       "max    37102.770000  38929.090000  51809.350000  37298.020000  46868.750000   \n",
       "\n",
       "             11_int        12_int  \n",
       "count    281.000000    317.000000  \n",
       "mean   16455.548043  18189.669590  \n",
       "std     7460.787843   8445.826008  \n",
       "min      240.000000     92.680000  \n",
       "25%    12247.500000  13833.400000  \n",
       "50%    16862.030000  17784.340000  \n",
       "75%    20535.200000  21917.350000  \n",
       "max    42866.100000  70931.590000  "
      ]
     },
     "execution_count": 83,
     "metadata": {},
     "output_type": "execute_result"
    }
   ],
   "source": [
    "surf_int.describe()"
   ]
  },
  {
   "cell_type": "code",
   "execution_count": 84,
   "metadata": {
    "scrolled": true
   },
   "outputs": [
    {
     "data": {
      "image/png": "[encoded data removed]",
      "text/plain": [
       "<Figure size 1440x720 with 1 Axes>"
      ]
     },
     "metadata": {
      "needs_background": "light"
     },
     "output_type": "display_data"
    }
   ],
   "source": [
    "ultimate_int.boxplot(figsize=(20, 10))\n",
    "plt.title(\"Diagrama de caja de consumo de megabytes del plan ultimate\", fontsize=20)\n",
    "plt.xticks(fontsize=15)\n",
    "plt.xticks(x+1, [1, 2, 3, 4, 5, 6, 7, 8, 9, 10, 11, 12], fontsize=15)\n",
    "plt.xlabel('Meses', fontsize=15)\n",
    "plt.ylabel('Megabytes', fontsize=15)\n",
    "reference = [30000]\n",
    "left, right = plt.xlim()\n",
    "plt.hlines(reference, xmin=left, xmax=right, color='r', linestyles='--')\n",
    "plt.show()"
   ]
  },
  {
   "cell_type": "markdown",
   "metadata": {},
   "source": [
    "En el diagrama de cajas por mes del consumo de megabyte del plan ultimate, se obervan algunos valores atípicos en los meses 2, 5, 6, 7, 8, 9, 10, 11, 12.\n",
    "DE igual manera, se puede apreciar que muchos valores estan dentro del rango por debajo de los 30Gigabyte que ofrece el plan."
   ]
  },
  {
   "cell_type": "code",
   "execution_count": 85,
   "metadata": {
    "scrolled": true
   },
   "outputs": [
    {
     "data": {
      "image/png": "[encoded data removed]",
      "text/plain": [
       "<Figure size 1440x720 with 1 Axes>"
      ]
     },
     "metadata": {
      "needs_background": "light"
     },
     "output_type": "display_data"
    }
   ],
   "source": [
    "surf_int.boxplot(figsize=(20, 10))\n",
    "plt.title(\"Diagrama de caja de consumo de megabytes del plan surf\", fontsize=20)\n",
    "plt.xticks(fontsize=15)\n",
    "plt.xticks(x+1, [1, 2, 3, 4, 5, 6, 7, 8, 9, 10, 11, 12], fontsize=15)\n",
    "plt.xlabel('Meses', fontsize=15)\n",
    "plt.ylabel('Megabytes', fontsize=15)\n",
    "reference = [15000]\n",
    "left, right = plt.xlim()\n",
    "plt.hlines(reference, xmin=left, xmax=right, color='r', linestyles='--')\n",
    "plt.show()"
   ]
  },
  {
   "cell_type": "markdown",
   "metadata": {},
   "source": [
    "En el diagrama de cajas por mes del consumo de megabyte del plan ultimate, se obervan algunos valores atípicos en los meses  6, 7, 8, 9, 10, 11, 12.\n",
    "De igual manera, se aprecia que hay varios valores por encima del rango de los 15 Gigabytes, varias medianas y promedios soprepasan el limite del plan."
   ]
  },
  {
   "cell_type": "markdown",
   "metadata": {},
   "source": [
    "El consumo de megabytes entre los usuarios de los planes ultimate y surface, varía muy poco. La mediana esta entre los 18,000 megabytes."
   ]
  },
  {
   "cell_type": "markdown",
   "metadata": {},
   "source": [
    " "
   ]
  },
  {
   "cell_type": "markdown",
   "metadata": {},
   "source": [
    "## Ingreso"
   ]
  },
  {
   "cell_type": "code",
   "execution_count": 86,
   "metadata": {},
   "outputs": [],
   "source": [
    "ultimate_income = merge_data.query('plan_name == \"ultimate\"')[[\n",
    "            \"income_1\", \"income_2\", \"income_3\", \"income_4\",\n",
    "           \"income_5\", \"income_6\", \"income_7\", \"income_8\",\n",
    "           \"income_9\", \"income_10\", \"income_11\", \"income_12\"]]\n",
    "surf_income = merge_data.query('plan_name == \"surf\"')[[\n",
    "            \"income_1\", \"income_2\", \"income_3\", \"income_4\",\n",
    "           \"income_5\", \"income_6\", \"income_7\", \"income_8\",\n",
    "           \"income_9\", \"income_10\", \"income_11\", \"income_12\"]]"
   ]
  },
  {
   "cell_type": "code",
   "execution_count": 87,
   "metadata": {
    "scrolled": true
   },
   "outputs": [
    {
     "data": {
      "image/png": "[encoded data removed]",
      "text/plain": [
       "<Figure size 1080x720 with 1 Axes>"
      ]
     },
     "metadata": {
      "needs_background": "light"
     },
     "output_type": "display_data"
    }
   ],
   "source": [
    "n = len(surf_income.mean().index)\n",
    "x = np.arange(n) \n",
    "width = 0.25\n",
    "plt.figure(figsize=(15, 10))\n",
    "plt.bar(x+width, surf_income.mean(), width=0.25, label=\"Surf\")\n",
    "plt.bar(x, ultimate_income.mean(), width=0.25, label=\"Ultimate\")\n",
    "plt.title(\"Comparación de gasto promedio entre plan surf y ultimate\", fontsize=20)\n",
    "plt.legend(loc='best')\n",
    "plt.xticks(x, [1, 2, 3, 4, 5, 6, 7, 8, 9, 10, 11, 12], fontsize=15)\n",
    "plt.xlabel('Meses', fontsize=15)\n",
    "plt.ylabel('Gasto promedio', fontsize=15)\n",
    "plt.show()"
   ]
  },
  {
   "cell_type": "markdown",
   "metadata": {},
   "source": [
    "En los primeros 6 meses es mucho mayor el gasto promedio de los usuarios del plan ultimate, que los usuarios del plan surf"
   ]
  },
  {
   "cell_type": "code",
   "execution_count": 88,
   "metadata": {
    "scrolled": true
   },
   "outputs": [
    {
     "data": {
      "image/png": "[encoded data removed]",
      "text/plain": [
       "<Figure size 1080x720 with 1 Axes>"
      ]
     },
     "metadata": {
      "needs_background": "light"
     },
     "output_type": "display_data"
    }
   ],
   "source": [
    "ultimate_income.plot(kind=\"hist\", bins=30, figsize=(15,10), alpha=0.5)\n",
    "plt.title(\"Gasto del plan ultimate\", fontsize=20)\n",
    "plt.xticks(fontsize=15)\n",
    "plt.xlabel('Gasto', fontsize=15)\n",
    "plt.ylabel('Frecuencia de usuarios', fontsize=15)\n",
    "plt.show()"
   ]
  },
  {
   "cell_type": "markdown",
   "metadata": {},
   "source": [
    "Se puede apreciar que los datos del plan ultimate se acumular entre 40."
   ]
  },
  {
   "cell_type": "code",
   "execution_count": 89,
   "metadata": {
    "scrolled": true
   },
   "outputs": [
    {
     "data": {
      "image/png": "[encoded data removed]",
      "text/plain": [
       "<Figure size 1080x720 with 1 Axes>"
      ]
     },
     "metadata": {
      "needs_background": "light"
     },
     "output_type": "display_data"
    }
   ],
   "source": [
    "surf_income.plot(kind=\"hist\", bins=30, figsize=(15,10), alpha=0.5)\n",
    "plt.title(\"Gasto del plan surf\", fontsize=20)\n",
    "plt.xticks(fontsize=15)\n",
    "plt.xlabel('Gasto', fontsize=15)\n",
    "plt.ylabel('Frecuencia de usuarios', fontsize=15)\n",
    "plt.show()"
   ]
  },
  {
   "cell_type": "markdown",
   "metadata": {},
   "source": [
    "Se puede apreciar que los datos del plan surf se acumular entre 30."
   ]
  },
  {
   "cell_type": "code",
   "execution_count": 90,
   "metadata": {},
   "outputs": [
    {
     "data": {
      "text/html": [
       "<div>\n",
       "<style scoped>\n",
       "    .dataframe tbody tr th:only-of-type {\n",
       "        vertical-align: middle;\n",
       "    }\n",
       "\n",
       "    .dataframe tbody tr th {\n",
       "        vertical-align: top;\n",
       "    }\n",
       "\n",
       "    .dataframe thead th {\n",
       "        text-align: right;\n",
       "    }\n",
       "</style>\n",
       "<table border=\"1\" class=\"dataframe\">\n",
       "  <thead>\n",
       "    <tr style=\"text-align: right;\">\n",
       "      <th></th>\n",
       "      <th>income_1</th>\n",
       "      <th>income_2</th>\n",
       "      <th>income_3</th>\n",
       "      <th>income_4</th>\n",
       "      <th>income_5</th>\n",
       "      <th>income_6</th>\n",
       "      <th>income_7</th>\n",
       "      <th>income_8</th>\n",
       "      <th>income_9</th>\n",
       "      <th>income_10</th>\n",
       "      <th>income_11</th>\n",
       "      <th>income_12</th>\n",
       "    </tr>\n",
       "  </thead>\n",
       "  <tbody>\n",
       "    <tr>\n",
       "      <th>count</th>\n",
       "      <td>19.0</td>\n",
       "      <td>31.0</td>\n",
       "      <td>41.000000</td>\n",
       "      <td>52.000000</td>\n",
       "      <td>65.000000</td>\n",
       "      <td>87.000000</td>\n",
       "      <td>99.000000</td>\n",
       "      <td>116.000000</td>\n",
       "      <td>128.000000</td>\n",
       "      <td>137.000000</td>\n",
       "      <td>152.000000</td>\n",
       "      <td>161.000000</td>\n",
       "    </tr>\n",
       "    <tr>\n",
       "      <th>mean</th>\n",
       "      <td>70.0</td>\n",
       "      <td>70.0</td>\n",
       "      <td>71.365854</td>\n",
       "      <td>71.211538</td>\n",
       "      <td>70.323077</td>\n",
       "      <td>70.885057</td>\n",
       "      <td>71.131313</td>\n",
       "      <td>71.750000</td>\n",
       "      <td>71.367188</td>\n",
       "      <td>71.788321</td>\n",
       "      <td>71.427632</td>\n",
       "      <td>73.086957</td>\n",
       "    </tr>\n",
       "    <tr>\n",
       "      <th>std</th>\n",
       "      <td>0.0</td>\n",
       "      <td>0.0</td>\n",
       "      <td>6.681153</td>\n",
       "      <td>7.030289</td>\n",
       "      <td>2.604729</td>\n",
       "      <td>6.387534</td>\n",
       "      <td>7.918780</td>\n",
       "      <td>9.807606</td>\n",
       "      <td>7.193469</td>\n",
       "      <td>11.484280</td>\n",
       "      <td>8.910595</td>\n",
       "      <td>14.148936</td>\n",
       "    </tr>\n",
       "    <tr>\n",
       "      <th>min</th>\n",
       "      <td>70.0</td>\n",
       "      <td>70.0</td>\n",
       "      <td>70.000000</td>\n",
       "      <td>70.000000</td>\n",
       "      <td>70.000000</td>\n",
       "      <td>70.000000</td>\n",
       "      <td>70.000000</td>\n",
       "      <td>70.000000</td>\n",
       "      <td>70.000000</td>\n",
       "      <td>70.000000</td>\n",
       "      <td>70.000000</td>\n",
       "      <td>70.000000</td>\n",
       "    </tr>\n",
       "    <tr>\n",
       "      <th>25%</th>\n",
       "      <td>70.0</td>\n",
       "      <td>70.0</td>\n",
       "      <td>70.000000</td>\n",
       "      <td>70.000000</td>\n",
       "      <td>70.000000</td>\n",
       "      <td>70.000000</td>\n",
       "      <td>70.000000</td>\n",
       "      <td>70.000000</td>\n",
       "      <td>70.000000</td>\n",
       "      <td>70.000000</td>\n",
       "      <td>70.000000</td>\n",
       "      <td>70.000000</td>\n",
       "    </tr>\n",
       "    <tr>\n",
       "      <th>50%</th>\n",
       "      <td>70.0</td>\n",
       "      <td>70.0</td>\n",
       "      <td>70.000000</td>\n",
       "      <td>70.000000</td>\n",
       "      <td>70.000000</td>\n",
       "      <td>70.000000</td>\n",
       "      <td>70.000000</td>\n",
       "      <td>70.000000</td>\n",
       "      <td>70.000000</td>\n",
       "      <td>70.000000</td>\n",
       "      <td>70.000000</td>\n",
       "      <td>70.000000</td>\n",
       "    </tr>\n",
       "    <tr>\n",
       "      <th>75%</th>\n",
       "      <td>70.0</td>\n",
       "      <td>70.0</td>\n",
       "      <td>70.000000</td>\n",
       "      <td>70.000000</td>\n",
       "      <td>70.000000</td>\n",
       "      <td>70.000000</td>\n",
       "      <td>70.000000</td>\n",
       "      <td>70.000000</td>\n",
       "      <td>70.000000</td>\n",
       "      <td>70.000000</td>\n",
       "      <td>70.000000</td>\n",
       "      <td>70.000000</td>\n",
       "    </tr>\n",
       "    <tr>\n",
       "      <th>max</th>\n",
       "      <td>70.0</td>\n",
       "      <td>70.0</td>\n",
       "      <td>112.000000</td>\n",
       "      <td>119.000000</td>\n",
       "      <td>91.000000</td>\n",
       "      <td>126.000000</td>\n",
       "      <td>126.000000</td>\n",
       "      <td>140.000000</td>\n",
       "      <td>119.000000</td>\n",
       "      <td>182.000000</td>\n",
       "      <td>154.000000</td>\n",
       "      <td>182.000000</td>\n",
       "    </tr>\n",
       "  </tbody>\n",
       "</table>\n",
       "</div>"
      ],
      "text/plain": [
       "       income_1  income_2    income_3    income_4   income_5    income_6  \\\n",
       "count      19.0      31.0   41.000000   52.000000  65.000000   87.000000   \n",
       "mean       70.0      70.0   71.365854   71.211538  70.323077   70.885057   \n",
       "std         0.0       0.0    6.681153    7.030289   2.604729    6.387534   \n",
       "min        70.0      70.0   70.000000   70.000000  70.000000   70.000000   \n",
       "25%        70.0      70.0   70.000000   70.000000  70.000000   70.000000   \n",
       "50%        70.0      70.0   70.000000   70.000000  70.000000   70.000000   \n",
       "75%        70.0      70.0   70.000000   70.000000  70.000000   70.000000   \n",
       "max        70.0      70.0  112.000000  119.000000  91.000000  126.000000   \n",
       "\n",
       "         income_7    income_8    income_9   income_10   income_11   income_12  \n",
       "count   99.000000  116.000000  128.000000  137.000000  152.000000  161.000000  \n",
       "mean    71.131313   71.750000   71.367188   71.788321   71.427632   73.086957  \n",
       "std      7.918780    9.807606    7.193469   11.484280    8.910595   14.148936  \n",
       "min     70.000000   70.000000   70.000000   70.000000   70.000000   70.000000  \n",
       "25%     70.000000   70.000000   70.000000   70.000000   70.000000   70.000000  \n",
       "50%     70.000000   70.000000   70.000000   70.000000   70.000000   70.000000  \n",
       "75%     70.000000   70.000000   70.000000   70.000000   70.000000   70.000000  \n",
       "max    126.000000  140.000000  119.000000  182.000000  154.000000  182.000000  "
      ]
     },
     "execution_count": 90,
     "metadata": {},
     "output_type": "execute_result"
    }
   ],
   "source": [
    "ultimate_income.describe()"
   ]
  },
  {
   "cell_type": "code",
   "execution_count": 91,
   "metadata": {
    "scrolled": false
   },
   "outputs": [
    {
     "data": {
      "text/html": [
       "<div>\n",
       "<style scoped>\n",
       "    .dataframe tbody tr th:only-of-type {\n",
       "        vertical-align: middle;\n",
       "    }\n",
       "\n",
       "    .dataframe tbody tr th {\n",
       "        vertical-align: top;\n",
       "    }\n",
       "\n",
       "    .dataframe thead th {\n",
       "        text-align: right;\n",
       "    }\n",
       "</style>\n",
       "<table border=\"1\" class=\"dataframe\">\n",
       "  <thead>\n",
       "    <tr style=\"text-align: right;\">\n",
       "      <th></th>\n",
       "      <th>income_1</th>\n",
       "      <th>income_2</th>\n",
       "      <th>income_3</th>\n",
       "      <th>income_4</th>\n",
       "      <th>income_5</th>\n",
       "      <th>income_6</th>\n",
       "      <th>income_7</th>\n",
       "      <th>income_8</th>\n",
       "      <th>income_9</th>\n",
       "      <th>income_10</th>\n",
       "      <th>income_11</th>\n",
       "      <th>income_12</th>\n",
       "    </tr>\n",
       "  </thead>\n",
       "  <tbody>\n",
       "    <tr>\n",
       "      <th>count</th>\n",
       "      <td>30.0</td>\n",
       "      <td>60.000000</td>\n",
       "      <td>90.000000</td>\n",
       "      <td>124.000000</td>\n",
       "      <td>149.000000</td>\n",
       "      <td>181.000000</td>\n",
       "      <td>205.000000</td>\n",
       "      <td>235.000000</td>\n",
       "      <td>255.000000</td>\n",
       "      <td>288.000000</td>\n",
       "      <td>311.000000</td>\n",
       "      <td>339.000000</td>\n",
       "    </tr>\n",
       "    <tr>\n",
       "      <th>mean</th>\n",
       "      <td>20.0</td>\n",
       "      <td>22.159500</td>\n",
       "      <td>26.629444</td>\n",
       "      <td>28.351048</td>\n",
       "      <td>34.277651</td>\n",
       "      <td>35.689503</td>\n",
       "      <td>45.188098</td>\n",
       "      <td>50.284468</td>\n",
       "      <td>49.116353</td>\n",
       "      <td>57.377882</td>\n",
       "      <td>54.582669</td>\n",
       "      <td>67.425192</td>\n",
       "    </tr>\n",
       "    <tr>\n",
       "      <th>std</th>\n",
       "      <td>0.0</td>\n",
       "      <td>9.216583</td>\n",
       "      <td>22.432655</td>\n",
       "      <td>24.118213</td>\n",
       "      <td>34.673629</td>\n",
       "      <td>35.708659</td>\n",
       "      <td>46.626192</td>\n",
       "      <td>53.697006</td>\n",
       "      <td>44.557244</td>\n",
       "      <td>54.144292</td>\n",
       "      <td>48.863189</td>\n",
       "      <td>66.837909</td>\n",
       "    </tr>\n",
       "    <tr>\n",
       "      <th>min</th>\n",
       "      <td>20.0</td>\n",
       "      <td>20.000000</td>\n",
       "      <td>20.000000</td>\n",
       "      <td>20.000000</td>\n",
       "      <td>20.000000</td>\n",
       "      <td>20.000000</td>\n",
       "      <td>20.000000</td>\n",
       "      <td>20.000000</td>\n",
       "      <td>20.000000</td>\n",
       "      <td>20.000000</td>\n",
       "      <td>20.000000</td>\n",
       "      <td>20.000000</td>\n",
       "    </tr>\n",
       "    <tr>\n",
       "      <th>25%</th>\n",
       "      <td>20.0</td>\n",
       "      <td>20.000000</td>\n",
       "      <td>20.000000</td>\n",
       "      <td>20.000000</td>\n",
       "      <td>20.000000</td>\n",
       "      <td>20.000000</td>\n",
       "      <td>20.000000</td>\n",
       "      <td>20.000000</td>\n",
       "      <td>20.000000</td>\n",
       "      <td>20.000000</td>\n",
       "      <td>20.000000</td>\n",
       "      <td>20.915000</td>\n",
       "    </tr>\n",
       "    <tr>\n",
       "      <th>50%</th>\n",
       "      <td>20.0</td>\n",
       "      <td>20.000000</td>\n",
       "      <td>20.000000</td>\n",
       "      <td>20.000000</td>\n",
       "      <td>20.000000</td>\n",
       "      <td>20.000000</td>\n",
       "      <td>20.000000</td>\n",
       "      <td>20.000000</td>\n",
       "      <td>23.420000</td>\n",
       "      <td>30.945000</td>\n",
       "      <td>30.000000</td>\n",
       "      <td>49.260000</td>\n",
       "    </tr>\n",
       "    <tr>\n",
       "      <th>75%</th>\n",
       "      <td>20.0</td>\n",
       "      <td>20.000000</td>\n",
       "      <td>20.000000</td>\n",
       "      <td>20.000000</td>\n",
       "      <td>21.800000</td>\n",
       "      <td>36.990000</td>\n",
       "      <td>52.610000</td>\n",
       "      <td>70.150000</td>\n",
       "      <td>60.000000</td>\n",
       "      <td>80.000000</td>\n",
       "      <td>72.430000</td>\n",
       "      <td>90.000000</td>\n",
       "    </tr>\n",
       "    <tr>\n",
       "      <th>max</th>\n",
       "      <td>20.0</td>\n",
       "      <td>70.000000</td>\n",
       "      <td>170.000000</td>\n",
       "      <td>150.000000</td>\n",
       "      <td>231.950000</td>\n",
       "      <td>240.000000</td>\n",
       "      <td>260.630000</td>\n",
       "      <td>380.000000</td>\n",
       "      <td>240.780000</td>\n",
       "      <td>330.000000</td>\n",
       "      <td>290.360000</td>\n",
       "      <td>590.370000</td>\n",
       "    </tr>\n",
       "  </tbody>\n",
       "</table>\n",
       "</div>"
      ],
      "text/plain": [
       "       income_1   income_2    income_3    income_4    income_5    income_6  \\\n",
       "count      30.0  60.000000   90.000000  124.000000  149.000000  181.000000   \n",
       "mean       20.0  22.159500   26.629444   28.351048   34.277651   35.689503   \n",
       "std         0.0   9.216583   22.432655   24.118213   34.673629   35.708659   \n",
       "min        20.0  20.000000   20.000000   20.000000   20.000000   20.000000   \n",
       "25%        20.0  20.000000   20.000000   20.000000   20.000000   20.000000   \n",
       "50%        20.0  20.000000   20.000000   20.000000   20.000000   20.000000   \n",
       "75%        20.0  20.000000   20.000000   20.000000   21.800000   36.990000   \n",
       "max        20.0  70.000000  170.000000  150.000000  231.950000  240.000000   \n",
       "\n",
       "         income_7    income_8    income_9   income_10   income_11   income_12  \n",
       "count  205.000000  235.000000  255.000000  288.000000  311.000000  339.000000  \n",
       "mean    45.188098   50.284468   49.116353   57.377882   54.582669   67.425192  \n",
       "std     46.626192   53.697006   44.557244   54.144292   48.863189   66.837909  \n",
       "min     20.000000   20.000000   20.000000   20.000000   20.000000   20.000000  \n",
       "25%     20.000000   20.000000   20.000000   20.000000   20.000000   20.915000  \n",
       "50%     20.000000   20.000000   23.420000   30.945000   30.000000   49.260000  \n",
       "75%     52.610000   70.150000   60.000000   80.000000   72.430000   90.000000  \n",
       "max    260.630000  380.000000  240.780000  330.000000  290.360000  590.370000  "
      ]
     },
     "execution_count": 91,
     "metadata": {},
     "output_type": "execute_result"
    }
   ],
   "source": [
    "surf_income.describe()"
   ]
  },
  {
   "cell_type": "code",
   "execution_count": 92,
   "metadata": {
    "scrolled": false
   },
   "outputs": [
    {
     "data": {
      "image/png": "[encoded data removed]",
      "text/plain": [
       "<Figure size 1440x720 with 1 Axes>"
      ]
     },
     "metadata": {
      "needs_background": "light"
     },
     "output_type": "display_data"
    }
   ],
   "source": [
    "ultimate_income.boxplot(figsize=(20, 10))\n",
    "plt.title(\"Diagrama de caja gasto del plan ultimate\", fontsize=20)\n",
    "plt.xticks(fontsize=15)\n",
    "plt.ylim(0, 200)\n",
    "plt.xticks(x+1, [1, 2, 3, 4, 5, 6, 7, 8, 9, 10, 11, 12], fontsize=15)\n",
    "plt.xlabel('Meses', fontsize=15)\n",
    "plt.ylabel('Gasto', fontsize=15)\n",
    "reference = [70]\n",
    "left, right = plt.xlim()\n",
    "plt.hlines(reference, xmin=left, xmax=right, color='r', linestyles='--')\n",
    "plt.show()"
   ]
  },
  {
   "cell_type": "markdown",
   "metadata": {},
   "source": [
    "Parece que no hay suficientes datos para dibujar la caja, de igual manera la desviación estandar es muy pequeña.\n",
    "El promedio y la mediana de los usuarios del plan ultimate de gasto es 70."
   ]
  },
  {
   "cell_type": "code",
   "execution_count": 93,
   "metadata": {
    "scrolled": true
   },
   "outputs": [
    {
     "data": {
      "image/png": "[encoded data removed]",
      "text/plain": [
       "<Figure size 1440x720 with 1 Axes>"
      ]
     },
     "metadata": {
      "needs_background": "light"
     },
     "output_type": "display_data"
    }
   ],
   "source": [
    "surf_income.boxplot(figsize=(20, 10))\n",
    "plt.title(\"Diagrama de caja gasto del plan surf\", fontsize=20)\n",
    "plt.xticks(fontsize=15)\n",
    "plt.xticks(x+1, [1, 2, 3, 4, 5, 6, 7, 8, 9, 10, 11, 12], fontsize=15)\n",
    "plt.xlabel('Meses', fontsize=15)\n",
    "plt.ylabel('Gasto', fontsize=15)\n",
    "reference = [20]\n",
    "left, right = plt.xlim()\n",
    "plt.hlines(reference, xmin=left, xmax=right, color='r', linestyles='--')\n",
    "plt.show()"
   ]
  },
  {
   "cell_type": "markdown",
   "metadata": {},
   "source": [
    "Parece que hay varios usuarios en el plan surf que consumen mucho más de lo que su plan les proporciona.\n",
    "Parece ser que el promedio y mediana de los usuarios del plan surf pagan mucho de los 20 dolares que vale su plan sin consumo extra."
   ]
  },
  {
   "cell_type": "markdown",
   "metadata": {},
   "source": [
    "Los usuarios del plan ultimate rara vez gastan más de lo que les ofrece su plan por 70 dolares. En cambio, los usuarios del plan surf parece que a muchos no les alcanza lo que incluye el plan y terminan gastando mucho más que en el plan ultimate."
   ]
  },
  {
   "cell_type": "markdown",
   "metadata": {},
   "source": [
    " "
   ]
  },
  {
   "cell_type": "markdown",
   "metadata": {},
   "source": [
    "## Probar las hipótesis estadísticas."
   ]
  },
  {
   "cell_type": "markdown",
   "metadata": {},
   "source": [
    "Antes de realizar nuestras pruebas haremos una prueba de Levene, en la cual observaremos si nuestras varianzas son homogeneas."
   ]
  },
  {
   "cell_type": "markdown",
   "metadata": {},
   "source": [
    "En ambos analisis se utilizaran los ingresos totales para contemplar todos los datos."
   ]
  },
  {
   "cell_type": "code",
   "execution_count": 94,
   "metadata": {},
   "outputs": [],
   "source": [
    "ultimate_income = ultimate_income.fillna(0)\n",
    "ultimate_income[\"total\"]= (ultimate_income[\"income_1\"] + ultimate_income[\"income_2\"] + ultimate_income[\"income_3\"]\n",
    "                        + ultimate_income[\"income_4\"] + ultimate_income[\"income_5\"] + ultimate_income[\"income_6\"]\n",
    "                        + ultimate_income[\"income_7\"] + ultimate_income[\"income_8\"] + ultimate_income[\"income_9\"]\n",
    "                        + ultimate_income[\"income_10\"] + ultimate_income[\"income_11\"] + ultimate_income[\"income_12\"])"
   ]
  },
  {
   "cell_type": "code",
   "execution_count": 95,
   "metadata": {},
   "outputs": [],
   "source": [
    "surf_income = surf_income.fillna(0)\n",
    "surf_income[\"total\"]= (surf_income[\"income_1\"] + surf_income[\"income_2\"] + surf_income[\"income_3\"]\n",
    "                        + surf_income[\"income_4\"] + surf_income[\"income_5\"] + surf_income[\"income_6\"]\n",
    "                        + surf_income[\"income_7\"] + surf_income[\"income_8\"] + surf_income[\"income_9\"]\n",
    "                        + surf_income[\"income_10\"] + surf_income[\"income_11\"] + surf_income[\"income_12\"])"
   ]
  },
  {
   "cell_type": "code",
   "execution_count": 103,
   "metadata": {
    "scrolled": true
   },
   "outputs": [
    {
     "name": "stdout",
     "output_type": "stream",
     "text": [
      "p-value: 0.5135832496162157\n",
      "Las varianzas son homogeneas\n"
     ]
    }
   ],
   "source": [
    "#Comprobar varianzas homgeneas\n",
    "alpha = 0.05 # nivel crítico de significación estadística\n",
    "\n",
    "results = levene(surf_income[\"total\"], ultimate_income[\"total\"]) # tu código: prueba la hipótesis de que las medias de las dos poblaciones independientes son iguales\n",
    "print('p-value:', results.pvalue)\n",
    "\n",
    "if alpha > results.pvalue :\n",
    "    print(\"Las varianzas no son homogeneas\")\n",
    "else:\n",
    "    print(\"Las varianzas son homogeneas\")"
   ]
  },
  {
   "cell_type": "markdown",
   "metadata": {},
   "source": [
    "Las varianzas parece que son homogeneas, por lo tanto ajustaremos a la prueba el parametro equal_var a True."
   ]
  },
  {
   "cell_type": "markdown",
   "metadata": {},
   "source": [
    "La hipotesis nula sera la siguiente: **el ingreso promedio de los usuarios de los planes de llamada Ultimate y Surf no es diferente.**\n",
    "\n",
    "Por lo tanto, la hipotesis alterna sería: **el ingreso promedio de los usuarios de los planes de llamada Ultimate y Surf es diferente**"
   ]
  },
  {
   "cell_type": "code",
   "execution_count": 97,
   "metadata": {
    "scrolled": true
   },
   "outputs": [
    {
     "name": "stdout",
     "output_type": "stream",
     "text": [
      "p-value: 2.9481556012796816e-09\n",
      "Rechazamos la hipótesis nula\n"
     ]
    }
   ],
   "source": [
    "# Prueba las hipótesis\n",
    "alpha = 0.05 # nivel crítico de significación estadística\n",
    "#En la muestra se utilizan los promedios de ingresos de cada mes por cada plan\n",
    "results = st.ttest_ind(ultimate_income[\"total\"], surf_income[\"total\"], equal_var= True) # tu código: prueba la hipótesis de que las medias de las dos poblaciones independientes son iguales\n",
    "print('p-value:', results.pvalue)\n",
    "\n",
    "if alpha > results.pvalue :\n",
    "    print(\"Rechazamos la hipótesis nula\")\n",
    "else:\n",
    "    print(\"No rechazamos la hipótesis nula\")"
   ]
  },
  {
   "cell_type": "markdown",
   "metadata": {},
   "source": [
    "El analisis parece indicar que difieren los promedios de ingreso de los planes Surf y Ultimate"
   ]
  },
  {
   "cell_type": "code",
   "execution_count": 98,
   "metadata": {},
   "outputs": [],
   "source": [
    "#Se prepara las muestras para mostrar la hipotesis\n",
    "ny_income = merge_data.query('city == \"New York-Newark-Jersey City, NY-NJ-PA MSA\"')[[\n",
    "            \"income_1\", \"income_2\", \"income_3\", \"income_4\",\n",
    "           \"income_5\", \"income_6\", \"income_7\", \"income_8\",\n",
    "           \"income_9\", \"income_10\", \"income_11\", \"income_12\",\"city\"]]\n",
    "\n",
    "no_ny_income = merge_data.query('city != \"New York-Newark-Jersey City, NY-NJ-PA MSA\"')[[\n",
    "            \"income_1\", \"income_2\", \"income_3\", \"income_4\",\n",
    "           \"income_5\", \"income_6\", \"income_7\", \"income_8\",\n",
    "           \"income_9\", \"income_10\", \"income_11\", \"income_12\", \"city\"]]"
   ]
  },
  {
   "cell_type": "code",
   "execution_count": 99,
   "metadata": {},
   "outputs": [],
   "source": [
    "ny_income = ny_income.fillna(0)\n",
    "ny_income [\"total\"] = (ny_income[\"income_1\"] + ny_income[\"income_2\"] + ny_income[\"income_3\"]\n",
    "                        + ny_income[\"income_4\"] + ny_income[\"income_5\"] + ny_income[\"income_6\"]\n",
    "                        + ny_income[\"income_7\"] + ny_income[\"income_8\"] + ny_income[\"income_9\"]\n",
    "                        + ny_income[\"income_10\"] + ny_income[\"income_11\"] + ny_income[\"income_12\"]) "
   ]
  },
  {
   "cell_type": "code",
   "execution_count": 100,
   "metadata": {},
   "outputs": [],
   "source": [
    "no_ny_income = no_ny_income.fillna(0)\n",
    "no_ny_income [\"total\"] = (no_ny_income[\"income_1\"] + no_ny_income[\"income_2\"] + no_ny_income[\"income_3\"]\n",
    "                        + no_ny_income[\"income_4\"] + no_ny_income[\"income_5\"] + no_ny_income[\"income_6\"]\n",
    "                        + no_ny_income[\"income_7\"] + no_ny_income[\"income_8\"] + no_ny_income[\"income_9\"]\n",
    "                        + no_ny_income[\"income_10\"] + no_ny_income[\"income_11\"] + no_ny_income[\"income_12\"]) "
   ]
  },
  {
   "cell_type": "code",
   "execution_count": 101,
   "metadata": {},
   "outputs": [
    {
     "name": "stdout",
     "output_type": "stream",
     "text": [
      "p-value: 0.38793269731583635\n",
      "Las varianzas son homogeneas\n"
     ]
    }
   ],
   "source": [
    "#Comprobar varianzas homgeneas\n",
    "alpha = 0.05 # nivel crítico de significación estadística\n",
    "\n",
    "results = levene(ny_income[\"total\"], no_ny_income[\"total\"]) # tu código: prueba la hipótesis de que las medias de las dos poblaciones independientes son iguales\n",
    "print('p-value:', results.pvalue)\n",
    "\n",
    "if alpha > results.pvalue :\n",
    "    print(\"Las varianzas no son homogeneas\")\n",
    "else:\n",
    "    print(\"Las varianzas son homogeneas\")"
   ]
  },
  {
   "cell_type": "markdown",
   "metadata": {},
   "source": [
    "Las varianzas parece que son homogeneas, por lo tanto ajustaremos a la prueba el parametro equal_var a True."
   ]
  },
  {
   "cell_type": "markdown",
   "metadata": {},
   "source": [
    "La hipotesis nula sera la siguiente: **el ingreso promedio de los usuarios en el área de estados Nueva York-Nueva Jersey no es diferente al de los usuarios de otras regiones.**\n",
    "\n",
    "Por lo tanto, la hipotesis alterna sería: **el ingreso promedio de los usuarios en el área de estados Nueva York-Nueva Jersey es diferente al de los usuarios de otras regiones.**"
   ]
  },
  {
   "cell_type": "code",
   "execution_count": 102,
   "metadata": {},
   "outputs": [
    {
     "name": "stdout",
     "output_type": "stream",
     "text": [
      "p-value: 0.6531057418922338\n",
      "No rechazamos la hipótesis nula\n"
     ]
    }
   ],
   "source": [
    "# Prueba las hipótesis\n",
    "alpha = 0.05 # nivel crítico de significación estadística\n",
    "#En la muestra se utilizan los promedios de ingresos de cada mes por cada pla\n",
    "results = st.ttest_ind(ny_income[\"total\"], no_ny_income[\"total\"], equal_var= True) # prueba la hipótesis de que las medias de las dos poblaciones independientes son iguales\n",
    "print('p-value:', results.pvalue)\n",
    "\n",
    "if alpha > results.pvalue :\n",
    "    print(\"Rechazamos la hipótesis nula\")\n",
    "else:\n",
    "    print(\"No rechazamos la hipótesis nula\")"
   ]
  },
  {
   "cell_type": "markdown",
   "metadata": {},
   "source": [
    "La prueba nos muestra que al parecer los ingresos promedio de las áreas de NY-NJ es igual al ingreso promedio de las demás áreas."
   ]
  },
  {
   "cell_type": "markdown",
   "metadata": {},
   "source": [
    "## Conclusión general\n",
    "\n",
    "[En esta sección final, enumera tus conclusiones importantes. Asegúrate de que estas abarquen todas las decisiones importantes (suposiciones) que tomaste y que te llevaron a procesar y analizar los datos del modo en que lo hiciste.]\n",
    "\n",
    "Antes de realizar cualquier conclusión es importante aclarar, que las observaciones estan hechas para los ultimos 4 meses del año, debido no había muchos usuarios registrados hasta finales del 2018.\n",
    "\n",
    "Despues de analizar los gráficos realizados para las llamadas, mensajes, internet e ingresos; se pueden realizar las siguientes afirmaciones:\n",
    "1- El promedio y mediana de la duración de llamadas en ambos planes, es muy similar. Con la diferencia que en el plan Ultimate incluye 3000 minutos y el plan Surf ofrece 500 minutos. En los gráficos se puede apreciar, que el promedio mensual de consumo de minutos en el plan Surf sobrepasa el limite en el diagrama de caja y sus bigotes. Por consiguiente, en general pagan consumo extra los usuarios del plan Surf.\n",
    "\n",
    "2- El promedio y mediana de los mensajes enviados en ambos planes, es muy similar. Con la diferencia que en el plan Ultimate incluye 1,000 mensajes y el plan Surf ofrece 50 mensajes. En los gráficos se puede apreciar, que el promedio mensual de consumo de mensajes enviados en el plan Surf sobrepasa el limite en el diagrama de caja y sus bigotes. Por consiguiente, en general pagan consumo extra los usuarios del plan Surf.\n",
    "\n",
    "3- El promedio y mediana de los consumo de internet en ambos planes, es muy similar. Con la diferencia que en el plan Ultimate incluye 30 Gb de internet y el plan Surf ofrece 15 Gb de internet. En los gráficos se puede apreciar, que el promedio mensual de consumo de internet en el plan Surf sobrepasa el limite en el diagrama de caja y sus bigotes. Por consiguiente, en general pagan consumo extra los usuarios del plan Surf.\n",
    "\n",
    "4- Los usuarios del plan ultimate y surf pagan en promedio lo mismo, con la diferencia que en el plan surf pagan sobreprecio de más de 100 dlls, a pesar que es el plan más económico.\n",
    "\n",
    "5-. El t-test cofirma que los usuarios de ambos planes pagan valores distintos casi siempre.\n",
    "\n",
    "6-. El t-test confirma que los usuarios en todas las regiones pagan valores similares.\n",
    "\n",
    "En resumen, es recomendable que se incentiven campañas de publicidad para el plan surf, que apesar de ser el más económico lo usuarios terminan consumiendo minutos de llamada, mensajes e internet extra, lo cual genera sobrecargos que superan los 70 dlls del plan ulimate."
   ]
  },
  {
   "cell_type": "markdown",
   "metadata": {},
   "source": [
    " "
   ]
  }
 ],
 "metadata": {
  "ExecuteTimeLog": [
   {
    "duration": 828,
    "start_time": "2021-11-16T09:21:11.304Z"
   },
   {
    "duration": 893,
    "start_time": "2021-11-16T09:21:17.728Z"
   },
   {
    "duration": 1150,
    "start_time": "2021-11-16T09:21:29.568Z"
   },
   {
    "duration": 3,
    "start_time": "2021-11-16T09:24:14.495Z"
   },
   {
    "duration": 120,
    "start_time": "2021-11-16T09:24:46.630Z"
   },
   {
    "duration": 3,
    "start_time": "2021-11-16T09:28:27.882Z"
   },
   {
    "duration": 4,
    "start_time": "2021-11-16T09:29:54.281Z"
   },
   {
    "duration": 3,
    "start_time": "2021-11-16T09:30:45.936Z"
   },
   {
    "duration": 4,
    "start_time": "2021-11-16T09:31:06.300Z"
   },
   {
    "duration": 113,
    "start_time": "2021-11-16T09:31:37.208Z"
   },
   {
    "duration": 143,
    "start_time": "2021-11-16T09:31:48.656Z"
   },
   {
    "duration": 98,
    "start_time": "2021-11-16T09:31:55.678Z"
   },
   {
    "duration": 3,
    "start_time": "2021-11-16T09:32:08.535Z"
   },
   {
    "duration": 111,
    "start_time": "2021-11-16T09:32:10.120Z"
   },
   {
    "duration": 3,
    "start_time": "2021-11-16T09:32:15.732Z"
   },
   {
    "duration": 4,
    "start_time": "2021-11-16T09:32:29.423Z"
   },
   {
    "duration": 3,
    "start_time": "2021-11-16T10:03:03.074Z"
   },
   {
    "duration": 3,
    "start_time": "2021-11-16T10:10:01.288Z"
   },
   {
    "duration": 3,
    "start_time": "2021-11-16T10:10:46.923Z"
   },
   {
    "duration": 121,
    "start_time": "2021-11-16T10:37:46.494Z"
   },
   {
    "duration": 125,
    "start_time": "2021-11-16T10:38:20.632Z"
   },
   {
    "duration": 112,
    "start_time": "2021-11-16T10:46:53.001Z"
   },
   {
    "duration": 110,
    "start_time": "2021-11-16T10:48:25.775Z"
   },
   {
    "duration": 3,
    "start_time": "2021-11-16T10:50:18.720Z"
   },
   {
    "duration": 4,
    "start_time": "2021-11-16T10:50:37.649Z"
   },
   {
    "duration": 2,
    "start_time": "2021-11-16T10:50:51.884Z"
   },
   {
    "duration": 3,
    "start_time": "2021-11-16T10:51:56.237Z"
   },
   {
    "duration": 101,
    "start_time": "2021-11-16T10:53:13.791Z"
   },
   {
    "duration": 3,
    "start_time": "2021-11-16T10:55:59.186Z"
   },
   {
    "duration": 3,
    "start_time": "2021-11-16T10:56:10.751Z"
   },
   {
    "duration": 3,
    "start_time": "2021-11-16T10:56:49.038Z"
   },
   {
    "duration": 3,
    "start_time": "2021-11-16T10:56:49.174Z"
   },
   {
    "duration": 4,
    "start_time": "2021-11-16T10:56:49.414Z"
   },
   {
    "duration": 3,
    "start_time": "2021-11-16T10:56:49.680Z"
   },
   {
    "duration": 3,
    "start_time": "2021-11-16T10:56:50.370Z"
   },
   {
    "duration": 114,
    "start_time": "2021-11-16T10:59:34.518Z"
   },
   {
    "duration": 3,
    "start_time": "2021-11-16T11:01:41.201Z"
   },
   {
    "duration": 116,
    "start_time": "2021-11-16T11:01:48.754Z"
   },
   {
    "duration": 3,
    "start_time": "2021-11-16T11:02:16.685Z"
   },
   {
    "duration": 3,
    "start_time": "2021-11-16T11:02:19.479Z"
   },
   {
    "duration": 3,
    "start_time": "2021-11-16T11:02:47.067Z"
   },
   {
    "duration": 3,
    "start_time": "2021-11-16T11:02:49.353Z"
   },
   {
    "duration": 3,
    "start_time": "2021-11-16T11:03:07.835Z"
   },
   {
    "duration": 3,
    "start_time": "2021-11-16T11:03:07.953Z"
   },
   {
    "duration": 112,
    "start_time": "2021-11-16T11:07:52.072Z"
   },
   {
    "duration": 187,
    "start_time": "2021-11-16T11:09:23.468Z"
   },
   {
    "duration": 4,
    "start_time": "2021-11-16T11:10:01.455Z"
   },
   {
    "duration": 3,
    "start_time": "2021-11-16T11:10:05.069Z"
   },
   {
    "duration": 4,
    "start_time": "2021-11-16T11:10:13.376Z"
   },
   {
    "duration": 3,
    "start_time": "2021-11-16T11:10:14.434Z"
   },
   {
    "duration": 3,
    "start_time": "2021-11-16T11:10:22.853Z"
   },
   {
    "duration": 4,
    "start_time": "2021-11-16T11:27:29.279Z"
   },
   {
    "duration": 4,
    "start_time": "2021-11-16T11:29:08.919Z"
   },
   {
    "duration": 118,
    "start_time": "2021-11-16T11:29:46.703Z"
   },
   {
    "duration": 437,
    "start_time": "2021-11-16T11:36:02.181Z"
   },
   {
    "duration": 157,
    "start_time": "2021-11-16T11:36:14.388Z"
   },
   {
    "duration": 207,
    "start_time": "2021-11-16T11:47:15.898Z"
   },
   {
    "duration": 3,
    "start_time": "2021-11-16T11:53:52.092Z"
   },
   {
    "duration": 3,
    "start_time": "2021-11-16T11:53:52.236Z"
   },
   {
    "duration": 3,
    "start_time": "2021-11-16T11:59:12.005Z"
   },
   {
    "duration": 112,
    "start_time": "2021-11-16T12:00:33.446Z"
   },
   {
    "duration": 3,
    "start_time": "2021-11-16T12:02:14.453Z"
   },
   {
    "duration": 3,
    "start_time": "2021-11-16T12:02:39.512Z"
   },
   {
    "duration": 106,
    "start_time": "2021-11-16T12:03:03.460Z"
   },
   {
    "duration": 3,
    "start_time": "2021-11-17T20:37:21.139Z"
   },
   {
    "duration": 3,
    "start_time": "2021-11-17T20:37:22.229Z"
   },
   {
    "duration": 3,
    "start_time": "2021-11-17T20:38:38.806Z"
   },
   {
    "duration": 3,
    "start_time": "2021-11-17T20:38:41.958Z"
   },
   {
    "duration": 3,
    "start_time": "2021-11-17T20:43:46.551Z"
   },
   {
    "duration": 4,
    "start_time": "2021-11-17T20:58:21.835Z"
   },
   {
    "duration": 3,
    "start_time": "2021-11-17T20:59:21.872Z"
   },
   {
    "duration": 4,
    "start_time": "2021-11-17T20:59:45.352Z"
   },
   {
    "duration": 4,
    "start_time": "2021-11-17T20:59:49.646Z"
   },
   {
    "duration": 159,
    "start_time": "2021-11-17T21:02:26.949Z"
   },
   {
    "duration": 3,
    "start_time": "2021-11-17T21:03:53.461Z"
   },
   {
    "duration": 3,
    "start_time": "2021-11-17T21:03:53.694Z"
   },
   {
    "duration": 3,
    "start_time": "2021-11-17T21:05:28.145Z"
   },
   {
    "duration": 116,
    "start_time": "2021-11-17T21:05:57.787Z"
   },
   {
    "duration": 3,
    "start_time": "2021-11-17T21:06:37.993Z"
   },
   {
    "duration": 3,
    "start_time": "2021-11-17T21:06:38.261Z"
   },
   {
    "duration": 3,
    "start_time": "2021-11-17T21:11:54.358Z"
   },
   {
    "duration": 3,
    "start_time": "2021-11-17T21:12:43.846Z"
   },
   {
    "duration": 4,
    "start_time": "2021-11-17T21:13:08.773Z"
   },
   {
    "duration": 3,
    "start_time": "2021-11-17T21:14:44.441Z"
   },
   {
    "duration": 3,
    "start_time": "2021-11-17T21:15:42.059Z"
   },
   {
    "duration": 4,
    "start_time": "2021-11-17T21:15:51.995Z"
   },
   {
    "duration": 3,
    "start_time": "2021-11-17T21:15:53.923Z"
   },
   {
    "duration": 3,
    "start_time": "2021-11-17T21:15:55.282Z"
   },
   {
    "duration": 3,
    "start_time": "2021-11-17T21:16:28.492Z"
   },
   {
    "duration": 3,
    "start_time": "2021-11-17T21:16:32.603Z"
   },
   {
    "duration": 3,
    "start_time": "2021-11-17T21:17:06.941Z"
   },
   {
    "duration": 98,
    "start_time": "2021-11-17T21:18:05.733Z"
   },
   {
    "duration": 4,
    "start_time": "2021-11-17T21:21:35.255Z"
   },
   {
    "duration": 3,
    "start_time": "2021-11-17T21:21:37.804Z"
   },
   {
    "duration": 4,
    "start_time": "2021-11-17T21:23:06.071Z"
   },
   {
    "duration": 3,
    "start_time": "2021-11-17T21:23:24.799Z"
   },
   {
    "duration": 3,
    "start_time": "2021-11-17T21:23:32.591Z"
   },
   {
    "duration": 98,
    "start_time": "2021-11-17T21:28:31.559Z"
   },
   {
    "duration": 3,
    "start_time": "2021-11-17T21:28:45.448Z"
   },
   {
    "duration": 3,
    "start_time": "2021-11-17T21:29:17.303Z"
   },
   {
    "duration": 3,
    "start_time": "2021-11-17T21:29:29.617Z"
   },
   {
    "duration": 3,
    "start_time": "2021-11-17T21:29:32.681Z"
   },
   {
    "duration": 3,
    "start_time": "2021-11-17T21:36:11.474Z"
   },
   {
    "duration": 3,
    "start_time": "2021-11-17T21:36:14.791Z"
   },
   {
    "duration": 3,
    "start_time": "2021-11-17T21:36:53.943Z"
   },
   {
    "duration": 3,
    "start_time": "2021-11-17T21:36:56.165Z"
   },
   {
    "duration": 4,
    "start_time": "2021-11-17T21:37:16.590Z"
   },
   {
    "duration": 3,
    "start_time": "2021-11-17T21:37:22.702Z"
   },
   {
    "duration": 4,
    "start_time": "2021-11-17T21:38:03.479Z"
   },
   {
    "duration": 3,
    "start_time": "2021-11-17T21:38:08.601Z"
   },
   {
    "duration": 3,
    "start_time": "2021-11-17T21:38:12.928Z"
   },
   {
    "duration": 3,
    "start_time": "2021-11-17T21:38:48.896Z"
   },
   {
    "duration": 2,
    "start_time": "2021-11-17T21:38:49.171Z"
   },
   {
    "duration": 4,
    "start_time": "2021-11-17T21:39:57.889Z"
   },
   {
    "duration": 3,
    "start_time": "2021-11-17T21:39:58.057Z"
   },
   {
    "duration": 3,
    "start_time": "2021-11-17T21:41:20.108Z"
   },
   {
    "duration": 3,
    "start_time": "2021-11-17T21:41:20.629Z"
   },
   {
    "duration": 3,
    "start_time": "2021-11-17T21:42:49.136Z"
   },
   {
    "duration": 3,
    "start_time": "2021-11-17T21:43:15.137Z"
   },
   {
    "duration": 4,
    "start_time": "2021-11-17T21:43:16.766Z"
   },
   {
    "duration": 4,
    "start_time": "2021-11-17T21:43:31.711Z"
   },
   {
    "duration": 3,
    "start_time": "2021-11-17T21:43:36.312Z"
   },
   {
    "duration": 4,
    "start_time": "2021-11-17T21:45:08.825Z"
   },
   {
    "duration": 4,
    "start_time": "2021-11-17T21:45:10.119Z"
   },
   {
    "duration": 4,
    "start_time": "2021-11-17T21:45:13.748Z"
   },
   {
    "duration": 3,
    "start_time": "2021-11-17T21:45:22.219Z"
   },
   {
    "duration": 3,
    "start_time": "2021-11-17T21:45:33.412Z"
   },
   {
    "duration": 2,
    "start_time": "2021-11-17T21:46:01.885Z"
   },
   {
    "duration": 3,
    "start_time": "2021-11-17T21:46:03.628Z"
   },
   {
    "duration": 107,
    "start_time": "2021-11-17T21:47:32.512Z"
   },
   {
    "duration": 103,
    "start_time": "2021-11-17T21:50:36.243Z"
   },
   {
    "duration": 3,
    "start_time": "2021-11-18T06:28:31.440Z"
   },
   {
    "duration": 3,
    "start_time": "2021-11-18T06:29:00.168Z"
   },
   {
    "duration": 3,
    "start_time": "2021-11-18T06:31:27.008Z"
   },
   {
    "duration": 2,
    "start_time": "2021-11-18T06:35:34.288Z"
   },
   {
    "duration": 2,
    "start_time": "2021-11-18T06:38:04.527Z"
   }
  ],
  "kernelspec": {
   "display_name": "Python 3 (ipykernel)",
   "language": "python",
   "name": "python3"
  },
  "language_info": {
   "codemirror_mode": {
    "name": "ipython",
    "version": 3
   },
   "file_extension": ".py",
   "mimetype": "text/x-python",
   "name": "python",
   "nbconvert_exporter": "python",
   "pygments_lexer": "ipython3",
   "version": "3.9.19"
  },
  "toc": {
   "base_numbering": 1,
   "nav_menu": {},
   "number_sections": true,
   "sideBar": true,
   "skip_h1_title": false,
   "title_cell": "Table of Contents",
   "title_sidebar": "Contents",
   "toc_cell": false,
   "toc_position": {
    "height": "calc(100% - 180px)",
    "left": "10px",
    "top": "150px",
    "width": "165px"
   },
   "toc_section_display": true,
   "toc_window_display": true
  }
 },
 "nbformat": 4,
 "nbformat_minor": 2
}
