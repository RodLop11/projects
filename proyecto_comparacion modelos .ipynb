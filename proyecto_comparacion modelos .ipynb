{
 "cells": [
  {
   "cell_type": "markdown",
   "metadata": {},
   "source": [
    "El servicio de venta de autos usados Rusty Bargain está desarrollando una aplicación para atraer nuevos clientes. Gracias a esa app, puedes averiguar rápidamente el valor de mercado de tu coche. Tienes acceso al historial: especificaciones técnicas, versiones de equipamiento y precios. Tienes que crear un modelo que determine el valor de mercado.\n",
    "A Rusty Bargain le interesa:\n",
    "- la calidad de la predicción;\n",
    "- la velocidad de la predicción;\n",
    "- el tiempo requerido para el entrenamiento"
   ]
  },
  {
   "cell_type": "markdown",
   "metadata": {
    "toc": true
   },
   "source": [
    "<h1>Contenido<span class=\"tocSkip\"></span></h1>\n",
    "<div class=\"toc\"><ul class=\"toc-item\"><li><span><a href=\"#Preparación-de-datos\" data-toc-modified-id=\"Preparación-de-datos-1\"><span class=\"toc-item-num\">1&nbsp;&nbsp;</span>Preparación de datos</a></span><ul class=\"toc-item\"><li><span><a href=\"#Datos-price\" data-toc-modified-id=\"Datos-price-1.1\"><span class=\"toc-item-num\">1.1&nbsp;&nbsp;</span>Datos price</a></span></li><li><span><a href=\"#Datos-vehicle_type\" data-toc-modified-id=\"Datos-vehicle_type-1.2\"><span class=\"toc-item-num\">1.2&nbsp;&nbsp;</span>Datos vehicle_type</a></span></li><li><span><a href=\"#Datos-registration_year\" data-toc-modified-id=\"Datos-registration_year-1.3\"><span class=\"toc-item-num\">1.3&nbsp;&nbsp;</span>Datos registration_year</a></span></li><li><span><a href=\"#Datos-gear_box\" data-toc-modified-id=\"Datos-gear_box-1.4\"><span class=\"toc-item-num\">1.4&nbsp;&nbsp;</span>Datos gear_box</a></span></li><li><span><a href=\"#Datos-power\" data-toc-modified-id=\"Datos-power-1.5\"><span class=\"toc-item-num\">1.5&nbsp;&nbsp;</span>Datos power</a></span></li><li><span><a href=\"#Datos-model\" data-toc-modified-id=\"Datos-model-1.6\"><span class=\"toc-item-num\">1.6&nbsp;&nbsp;</span>Datos model</a></span></li><li><span><a href=\"#Datos-mileage\" data-toc-modified-id=\"Datos-mileage-1.7\"><span class=\"toc-item-num\">1.7&nbsp;&nbsp;</span>Datos mileage</a></span></li><li><span><a href=\"#Datos-fuel_type\" data-toc-modified-id=\"Datos-fuel_type-1.8\"><span class=\"toc-item-num\">1.8&nbsp;&nbsp;</span>Datos fuel_type</a></span></li><li><span><a href=\"#Datos-brand\" data-toc-modified-id=\"Datos-brand-1.9\"><span class=\"toc-item-num\">1.9&nbsp;&nbsp;</span>Datos brand</a></span></li><li><span><a href=\"#Datos-not_repaired\" data-toc-modified-id=\"Datos-not_repaired-1.10\"><span class=\"toc-item-num\">1.10&nbsp;&nbsp;</span>Datos not_repaired</a></span></li><li><span><a href=\"#Creación-de-las-variables-features-y-target\" data-toc-modified-id=\"Creación-de-las-variables-features-y-target-1.11\"><span class=\"toc-item-num\">1.11&nbsp;&nbsp;</span>Creación de las variables features y target</a></span></li><li><span><a href=\"#Adecuación-de-OHE\" data-toc-modified-id=\"Adecuación-de-OHE-1.12\"><span class=\"toc-item-num\">1.12&nbsp;&nbsp;</span>Adecuación de OHE</a></span></li><li><span><a href=\"#Adecuación-Codificicación-de-etiquetas\" data-toc-modified-id=\"Adecuación-Codificicación-de-etiquetas-1.13\"><span class=\"toc-item-num\">1.13&nbsp;&nbsp;</span>Adecuación Codificicación de etiquetas</a></span></li><li><span><a href=\"#Segmentación-de-los-conjuntos-de-entrenamiento-y-validación\" data-toc-modified-id=\"Segmentación-de-los-conjuntos-de-entrenamiento-y-validación-1.14\"><span class=\"toc-item-num\">1.14&nbsp;&nbsp;</span>Segmentación de los conjuntos de entrenamiento y validación</a></span></li><li><span><a href=\"#Escalado-de-características\" data-toc-modified-id=\"Escalado-de-características-1.15\"><span class=\"toc-item-num\">1.15&nbsp;&nbsp;</span>Escalado de características</a></span></li></ul></li><li><span><a href=\"#Entrenamiento-del-modelo\" data-toc-modified-id=\"Entrenamiento-del-modelo-2\"><span class=\"toc-item-num\">2&nbsp;&nbsp;</span>Entrenamiento del modelo</a></span><ul class=\"toc-item\"><li><span><a href=\"#Modelo-de-Regresión-Lineal\" data-toc-modified-id=\"Modelo-de-Regresión-Lineal-2.1\"><span class=\"toc-item-num\">2.1&nbsp;&nbsp;</span>Modelo de Regresión Lineal</a></span></li><li><span><a href=\"#Modelo-Random-Forest-Regressor\" data-toc-modified-id=\"Modelo-Random-Forest-Regressor-2.2\"><span class=\"toc-item-num\">2.2&nbsp;&nbsp;</span>Modelo Random Forest Regressor</a></span></li><li><span><a href=\"#Modelo-LightGBM\" data-toc-modified-id=\"Modelo-LightGBM-2.3\"><span class=\"toc-item-num\">2.3&nbsp;&nbsp;</span>Modelo LightGBM</a></span></li><li><span><a href=\"#Modelo-CatBoost\" data-toc-modified-id=\"Modelo-CatBoost-2.4\"><span class=\"toc-item-num\">2.4&nbsp;&nbsp;</span>Modelo CatBoost</a></span></li><li><span><a href=\"#Modelo-XGboost\" data-toc-modified-id=\"Modelo-XGboost-2.5\"><span class=\"toc-item-num\">2.5&nbsp;&nbsp;</span>Modelo XGboost</a></span></li></ul></li><li><span><a href=\"#Análisis-del-modelo\" data-toc-modified-id=\"Análisis-del-modelo-3\"><span class=\"toc-item-num\">3&nbsp;&nbsp;</span>Análisis del modelo</a></span></li></ul></div>"
   ]
  },
  {
   "cell_type": "markdown",
   "metadata": {},
   "source": [
    "## Preparación de datos"
   ]
  },
  {
   "cell_type": "code",
   "execution_count": 1,
   "metadata": {},
   "outputs": [],
   "source": [
    "#Importar librerias\n",
    "import pandas as pd\n",
    "import numpy as np\n",
    "import matplotlib.pyplot as plt\n",
    "import seaborn as sns\n",
    "from sklearn.preprocessing import StandardScaler \n",
    "from sklearn.metrics import mean_squared_error\n",
    "from sklearn.metrics import r2_score\n",
    "from sklearn.tree import DecisionTreeRegressor\n",
    "from sklearn.ensemble import RandomForestRegressor\n",
    "from sklearn.linear_model import LinearRegression\n",
    "from sklearn.model_selection import GridSearchCV\n",
    "from sklearn.model_selection import train_test_split\n",
    "from sklearn.ensemble import RandomForestClassifier\n",
    "from sklearn.linear_model import LogisticRegression\n",
    "from sklearn.tree import DecisionTreeClassifier\n",
    "from sklearn.metrics import accuracy_score\n",
    "from sklearn.model_selection import GridSearchCV\n",
    "from sklearn.preprocessing import OrdinalEncoder\n",
    "from sklearn.preprocessing import StandardScaler \n",
    "from sklearn.metrics import recall_score\n",
    "from sklearn.metrics import precision_score\n",
    "from sklearn.metrics import f1_score\n",
    "from sklearn.utils import shuffle\n",
    "from sklearn.metrics import roc_curve\n",
    "from sklearn.metrics import roc_auc_score\n",
    "from time import time\n",
    "import lightgbm as lgb\n",
    "from catboost import CatBoostRegressor\n",
    "\n",
    "import sklearn.datasets\n",
    "import sklearn.ensemble\n",
    "import sklearn.model_selection\n",
    "import sklearn.svm\n",
    "from xgboost import XGBRegressor"
   ]
  },
  {
   "cell_type": "code",
   "execution_count": 2,
   "metadata": {},
   "outputs": [],
   "source": [
    "#Cargar los datos\n",
    "try:\n",
    "    data = pd.read_csv(\"/datasets/car_data.csv\")\n",
    "except:\n",
    "    data = pd.read_csv(\"car_data.csv\")"
   ]
  },
  {
   "cell_type": "code",
   "execution_count": 3,
   "metadata": {
    "scrolled": false
   },
   "outputs": [
    {
     "name": "stdout",
     "output_type": "stream",
     "text": [
      "<class 'pandas.core.frame.DataFrame'>\n",
      "RangeIndex: 354369 entries, 0 to 354368\n",
      "Data columns (total 16 columns):\n",
      " #   Column             Non-Null Count   Dtype \n",
      "---  ------             --------------   ----- \n",
      " 0   DateCrawled        354369 non-null  object\n",
      " 1   Price              354369 non-null  int64 \n",
      " 2   VehicleType        316879 non-null  object\n",
      " 3   RegistrationYear   354369 non-null  int64 \n",
      " 4   Gearbox            334536 non-null  object\n",
      " 5   Power              354369 non-null  int64 \n",
      " 6   Model              334664 non-null  object\n",
      " 7   Mileage            354369 non-null  int64 \n",
      " 8   RegistrationMonth  354369 non-null  int64 \n",
      " 9   FuelType           321474 non-null  object\n",
      " 10  Brand              354369 non-null  object\n",
      " 11  NotRepaired        283215 non-null  object\n",
      " 12  DateCreated        354369 non-null  object\n",
      " 13  NumberOfPictures   354369 non-null  int64 \n",
      " 14  PostalCode         354369 non-null  int64 \n",
      " 15  LastSeen           354369 non-null  object\n",
      "dtypes: int64(7), object(9)\n",
      "memory usage: 43.3+ MB\n"
     ]
    }
   ],
   "source": [
    "data.info()"
   ]
  },
  {
   "cell_type": "code",
   "execution_count": 4,
   "metadata": {},
   "outputs": [
    {
     "data": {
      "text/html": [
       "<div>\n",
       "<style scoped>\n",
       "    .dataframe tbody tr th:only-of-type {\n",
       "        vertical-align: middle;\n",
       "    }\n",
       "\n",
       "    .dataframe tbody tr th {\n",
       "        vertical-align: top;\n",
       "    }\n",
       "\n",
       "    .dataframe thead th {\n",
       "        text-align: right;\n",
       "    }\n",
       "</style>\n",
       "<table border=\"1\" class=\"dataframe\">\n",
       "  <thead>\n",
       "    <tr style=\"text-align: right;\">\n",
       "      <th></th>\n",
       "      <th>DateCrawled</th>\n",
       "      <th>Price</th>\n",
       "      <th>VehicleType</th>\n",
       "      <th>RegistrationYear</th>\n",
       "      <th>Gearbox</th>\n",
       "      <th>Power</th>\n",
       "      <th>Model</th>\n",
       "      <th>Mileage</th>\n",
       "      <th>RegistrationMonth</th>\n",
       "      <th>FuelType</th>\n",
       "      <th>Brand</th>\n",
       "      <th>NotRepaired</th>\n",
       "      <th>DateCreated</th>\n",
       "      <th>NumberOfPictures</th>\n",
       "      <th>PostalCode</th>\n",
       "      <th>LastSeen</th>\n",
       "    </tr>\n",
       "  </thead>\n",
       "  <tbody>\n",
       "    <tr>\n",
       "      <th>0</th>\n",
       "      <td>24/03/2016 11:52</td>\n",
       "      <td>480</td>\n",
       "      <td>NaN</td>\n",
       "      <td>1993</td>\n",
       "      <td>manual</td>\n",
       "      <td>0</td>\n",
       "      <td>golf</td>\n",
       "      <td>150000</td>\n",
       "      <td>0</td>\n",
       "      <td>petrol</td>\n",
       "      <td>volkswagen</td>\n",
       "      <td>NaN</td>\n",
       "      <td>24/03/2016 00:00</td>\n",
       "      <td>0</td>\n",
       "      <td>70435</td>\n",
       "      <td>07/04/2016 03:16</td>\n",
       "    </tr>\n",
       "    <tr>\n",
       "      <th>1</th>\n",
       "      <td>24/03/2016 10:58</td>\n",
       "      <td>18300</td>\n",
       "      <td>coupe</td>\n",
       "      <td>2011</td>\n",
       "      <td>manual</td>\n",
       "      <td>190</td>\n",
       "      <td>NaN</td>\n",
       "      <td>125000</td>\n",
       "      <td>5</td>\n",
       "      <td>gasoline</td>\n",
       "      <td>audi</td>\n",
       "      <td>yes</td>\n",
       "      <td>24/03/2016 00:00</td>\n",
       "      <td>0</td>\n",
       "      <td>66954</td>\n",
       "      <td>07/04/2016 01:46</td>\n",
       "    </tr>\n",
       "    <tr>\n",
       "      <th>2</th>\n",
       "      <td>14/03/2016 12:52</td>\n",
       "      <td>9800</td>\n",
       "      <td>suv</td>\n",
       "      <td>2004</td>\n",
       "      <td>auto</td>\n",
       "      <td>163</td>\n",
       "      <td>grand</td>\n",
       "      <td>125000</td>\n",
       "      <td>8</td>\n",
       "      <td>gasoline</td>\n",
       "      <td>jeep</td>\n",
       "      <td>NaN</td>\n",
       "      <td>14/03/2016 00:00</td>\n",
       "      <td>0</td>\n",
       "      <td>90480</td>\n",
       "      <td>05/04/2016 12:47</td>\n",
       "    </tr>\n",
       "    <tr>\n",
       "      <th>3</th>\n",
       "      <td>17/03/2016 16:54</td>\n",
       "      <td>1500</td>\n",
       "      <td>small</td>\n",
       "      <td>2001</td>\n",
       "      <td>manual</td>\n",
       "      <td>75</td>\n",
       "      <td>golf</td>\n",
       "      <td>150000</td>\n",
       "      <td>6</td>\n",
       "      <td>petrol</td>\n",
       "      <td>volkswagen</td>\n",
       "      <td>no</td>\n",
       "      <td>17/03/2016 00:00</td>\n",
       "      <td>0</td>\n",
       "      <td>91074</td>\n",
       "      <td>17/03/2016 17:40</td>\n",
       "    </tr>\n",
       "    <tr>\n",
       "      <th>4</th>\n",
       "      <td>31/03/2016 17:25</td>\n",
       "      <td>3600</td>\n",
       "      <td>small</td>\n",
       "      <td>2008</td>\n",
       "      <td>manual</td>\n",
       "      <td>69</td>\n",
       "      <td>fabia</td>\n",
       "      <td>90000</td>\n",
       "      <td>7</td>\n",
       "      <td>gasoline</td>\n",
       "      <td>skoda</td>\n",
       "      <td>no</td>\n",
       "      <td>31/03/2016 00:00</td>\n",
       "      <td>0</td>\n",
       "      <td>60437</td>\n",
       "      <td>06/04/2016 10:17</td>\n",
       "    </tr>\n",
       "  </tbody>\n",
       "</table>\n",
       "</div>"
      ],
      "text/plain": [
       "        DateCrawled  Price VehicleType  RegistrationYear Gearbox  Power  \\\n",
       "0  24/03/2016 11:52    480         NaN              1993  manual      0   \n",
       "1  24/03/2016 10:58  18300       coupe              2011  manual    190   \n",
       "2  14/03/2016 12:52   9800         suv              2004    auto    163   \n",
       "3  17/03/2016 16:54   1500       small              2001  manual     75   \n",
       "4  31/03/2016 17:25   3600       small              2008  manual     69   \n",
       "\n",
       "   Model  Mileage  RegistrationMonth  FuelType       Brand NotRepaired  \\\n",
       "0   golf   150000                  0    petrol  volkswagen         NaN   \n",
       "1    NaN   125000                  5  gasoline        audi         yes   \n",
       "2  grand   125000                  8  gasoline        jeep         NaN   \n",
       "3   golf   150000                  6    petrol  volkswagen          no   \n",
       "4  fabia    90000                  7  gasoline       skoda          no   \n",
       "\n",
       "        DateCreated  NumberOfPictures  PostalCode          LastSeen  \n",
       "0  24/03/2016 00:00                 0       70435  07/04/2016 03:16  \n",
       "1  24/03/2016 00:00                 0       66954  07/04/2016 01:46  \n",
       "2  14/03/2016 00:00                 0       90480  05/04/2016 12:47  \n",
       "3  17/03/2016 00:00                 0       91074  17/03/2016 17:40  \n",
       "4  31/03/2016 00:00                 0       60437  06/04/2016 10:17  "
      ]
     },
     "execution_count": 4,
     "metadata": {},
     "output_type": "execute_result"
    }
   ],
   "source": [
    "data.head()"
   ]
  },
  {
   "cell_type": "markdown",
   "metadata": {},
   "source": [
    "Se puede visualizar que los nombres de las columnas alternan entre mayúsculas y minúsculas; se pondran en minúsculas todos los nombres para mejor manejo de la información.  \n",
    "\n",
    "Las columnas `DateCrawled`, `RegistrationMonth`, `DateCreated`, `PostalCode`, `Number_Of_Pictures` y `LastSeen`; son datos que para el proposito del proyecto no aportan datos relevantes para la creación del modelo. Por lo cual, se eliminarán las columnnas.\n",
    "\n",
    "Las columnas `VehicleType`, `GearBox`, `Model`, `FuelType` y `NotRepaired`; contienen valores ausentes. Se analizará la causa y de ser posible se complementarán.\n",
    "\n"
   ]
  },
  {
   "cell_type": "code",
   "execution_count": 5,
   "metadata": {
    "scrolled": true
   },
   "outputs": [
    {
     "data": {
      "text/plain": [
       "262"
      ]
     },
     "execution_count": 5,
     "metadata": {},
     "output_type": "execute_result"
    }
   ],
   "source": [
    "#buscar datos duplicados obvios\n",
    "data.duplicated().sum()"
   ]
  },
  {
   "cell_type": "markdown",
   "metadata": {},
   "source": [
    "Se eliminarán los duplicados obvios"
   ]
  },
  {
   "cell_type": "code",
   "execution_count": 6,
   "metadata": {},
   "outputs": [],
   "source": [
    "data = data.drop_duplicates().reset_index(drop=True)"
   ]
  },
  {
   "cell_type": "code",
   "execution_count": 7,
   "metadata": {
    "scrolled": true
   },
   "outputs": [
    {
     "data": {
      "text/plain": [
       "0"
      ]
     },
     "execution_count": 7,
     "metadata": {},
     "output_type": "execute_result"
    }
   ],
   "source": [
    "#Se comprueba eliminación de duplicados obvios\n",
    "data.duplicated().sum()"
   ]
  },
  {
   "cell_type": "code",
   "execution_count": 8,
   "metadata": {},
   "outputs": [],
   "source": [
    "#Se eliminan columnas\n",
    "data = data.drop([\"DateCrawled\", \"RegistrationMonth\", \"DateCreated\", \"PostalCode\", \"LastSeen\", \"NumberOfPictures\"], axis=1)"
   ]
  },
  {
   "cell_type": "code",
   "execution_count": 9,
   "metadata": {},
   "outputs": [],
   "source": [
    "#Función para corregir columnas a formato adecuado\n",
    "def replace_column(string):\n",
    "    n= [] #variable para almacenar lista de la posición de las mayusculas\n",
    "    count = 0 #variable para correr espacios al agregar el caracter \"_\"\n",
    "\n",
    "    for s in range(len(string)): #se buscan las posiciones de las mayusculas en el string\n",
    "        if (string[s].isupper()) & (s != 0):\n",
    "            n.append(s)\n",
    "        \n",
    "    c_list= list(string) #se covierte el string en una lista\n",
    "\n",
    "    for a in n: #se agrega el \"_\" al string\n",
    "        c_list.insert(a + count, \"_\")\n",
    "        count += 1 \n",
    "    string = \"\".join(c_list)\n",
    "    return string.lower() #se cambia todo a minusculas"
   ]
  },
  {
   "cell_type": "code",
   "execution_count": 10,
   "metadata": {},
   "outputs": [],
   "source": [
    "#Se corrgien todas las columnas\n",
    "c = data.columns \n",
    "new_columns = []\n",
    "for column in c:\n",
    "    new_columns.append(replace_column(column))\n",
    "data.columns = new_columns"
   ]
  },
  {
   "cell_type": "code",
   "execution_count": 11,
   "metadata": {},
   "outputs": [
    {
     "name": "stdout",
     "output_type": "stream",
     "text": [
      "<class 'pandas.core.frame.DataFrame'>\n",
      "RangeIndex: 354107 entries, 0 to 354106\n",
      "Data columns (total 10 columns):\n",
      " #   Column             Non-Null Count   Dtype \n",
      "---  ------             --------------   ----- \n",
      " 0   price              354107 non-null  int64 \n",
      " 1   vehicle_type       316623 non-null  object\n",
      " 2   registration_year  354107 non-null  int64 \n",
      " 3   gearbox            334277 non-null  object\n",
      " 4   power              354107 non-null  int64 \n",
      " 5   model              334406 non-null  object\n",
      " 6   mileage            354107 non-null  int64 \n",
      " 7   fuel_type          321218 non-null  object\n",
      " 8   brand              354107 non-null  object\n",
      " 9   not_repaired       282962 non-null  object\n",
      "dtypes: int64(4), object(6)\n",
      "memory usage: 27.0+ MB\n"
     ]
    }
   ],
   "source": [
    "#Se comprueba el cambio \n",
    "data.info()"
   ]
  },
  {
   "cell_type": "markdown",
   "metadata": {},
   "source": [
    "Se realizaron los cambios de manera correcta."
   ]
  },
  {
   "cell_type": "markdown",
   "metadata": {},
   "source": [
    "### Datos price"
   ]
  },
  {
   "cell_type": "code",
   "execution_count": 12,
   "metadata": {
    "scrolled": false
   },
   "outputs": [
    {
     "data": {
      "text/html": [
       "<div>\n",
       "<style scoped>\n",
       "    .dataframe tbody tr th:only-of-type {\n",
       "        vertical-align: middle;\n",
       "    }\n",
       "\n",
       "    .dataframe tbody tr th {\n",
       "        vertical-align: top;\n",
       "    }\n",
       "\n",
       "    .dataframe thead th {\n",
       "        text-align: right;\n",
       "    }\n",
       "</style>\n",
       "<table border=\"1\" class=\"dataframe\">\n",
       "  <thead>\n",
       "    <tr style=\"text-align: right;\">\n",
       "      <th></th>\n",
       "      <th>price</th>\n",
       "      <th>vehicle_type</th>\n",
       "      <th>registration_year</th>\n",
       "      <th>gearbox</th>\n",
       "      <th>power</th>\n",
       "      <th>model</th>\n",
       "      <th>mileage</th>\n",
       "      <th>fuel_type</th>\n",
       "      <th>brand</th>\n",
       "      <th>not_repaired</th>\n",
       "    </tr>\n",
       "  </thead>\n",
       "  <tbody>\n",
       "    <tr>\n",
       "      <th>7</th>\n",
       "      <td>0</td>\n",
       "      <td>sedan</td>\n",
       "      <td>1980</td>\n",
       "      <td>manual</td>\n",
       "      <td>50</td>\n",
       "      <td>other</td>\n",
       "      <td>40000</td>\n",
       "      <td>petrol</td>\n",
       "      <td>volkswagen</td>\n",
       "      <td>no</td>\n",
       "    </tr>\n",
       "    <tr>\n",
       "      <th>40</th>\n",
       "      <td>0</td>\n",
       "      <td>NaN</td>\n",
       "      <td>1990</td>\n",
       "      <td>NaN</td>\n",
       "      <td>0</td>\n",
       "      <td>corsa</td>\n",
       "      <td>150000</td>\n",
       "      <td>petrol</td>\n",
       "      <td>opel</td>\n",
       "      <td>NaN</td>\n",
       "    </tr>\n",
       "    <tr>\n",
       "      <th>59</th>\n",
       "      <td>1</td>\n",
       "      <td>suv</td>\n",
       "      <td>1994</td>\n",
       "      <td>manual</td>\n",
       "      <td>286</td>\n",
       "      <td>NaN</td>\n",
       "      <td>150000</td>\n",
       "      <td>NaN</td>\n",
       "      <td>sonstige_autos</td>\n",
       "      <td>NaN</td>\n",
       "    </tr>\n",
       "    <tr>\n",
       "      <th>89</th>\n",
       "      <td>1</td>\n",
       "      <td>sedan</td>\n",
       "      <td>1995</td>\n",
       "      <td>manual</td>\n",
       "      <td>113</td>\n",
       "      <td>e_klasse</td>\n",
       "      <td>150000</td>\n",
       "      <td>gasoline</td>\n",
       "      <td>mercedes_benz</td>\n",
       "      <td>no</td>\n",
       "    </tr>\n",
       "    <tr>\n",
       "      <th>111</th>\n",
       "      <td>0</td>\n",
       "      <td>NaN</td>\n",
       "      <td>2017</td>\n",
       "      <td>manual</td>\n",
       "      <td>0</td>\n",
       "      <td>golf</td>\n",
       "      <td>5000</td>\n",
       "      <td>petrol</td>\n",
       "      <td>volkswagen</td>\n",
       "      <td>NaN</td>\n",
       "    </tr>\n",
       "    <tr>\n",
       "      <th>...</th>\n",
       "      <td>...</td>\n",
       "      <td>...</td>\n",
       "      <td>...</td>\n",
       "      <td>...</td>\n",
       "      <td>...</td>\n",
       "      <td>...</td>\n",
       "      <td>...</td>\n",
       "      <td>...</td>\n",
       "      <td>...</td>\n",
       "      <td>...</td>\n",
       "    </tr>\n",
       "    <tr>\n",
       "      <th>353976</th>\n",
       "      <td>0</td>\n",
       "      <td>small</td>\n",
       "      <td>2002</td>\n",
       "      <td>manual</td>\n",
       "      <td>60</td>\n",
       "      <td>fiesta</td>\n",
       "      <td>150000</td>\n",
       "      <td>petrol</td>\n",
       "      <td>ford</td>\n",
       "      <td>NaN</td>\n",
       "    </tr>\n",
       "    <tr>\n",
       "      <th>353986</th>\n",
       "      <td>0</td>\n",
       "      <td>small</td>\n",
       "      <td>1999</td>\n",
       "      <td>manual</td>\n",
       "      <td>53</td>\n",
       "      <td>swift</td>\n",
       "      <td>150000</td>\n",
       "      <td>petrol</td>\n",
       "      <td>suzuki</td>\n",
       "      <td>NaN</td>\n",
       "    </tr>\n",
       "    <tr>\n",
       "      <th>354015</th>\n",
       "      <td>0</td>\n",
       "      <td>small</td>\n",
       "      <td>1999</td>\n",
       "      <td>manual</td>\n",
       "      <td>37</td>\n",
       "      <td>arosa</td>\n",
       "      <td>150000</td>\n",
       "      <td>petrol</td>\n",
       "      <td>seat</td>\n",
       "      <td>yes</td>\n",
       "    </tr>\n",
       "    <tr>\n",
       "      <th>354047</th>\n",
       "      <td>99</td>\n",
       "      <td>small</td>\n",
       "      <td>1999</td>\n",
       "      <td>manual</td>\n",
       "      <td>60</td>\n",
       "      <td>arosa</td>\n",
       "      <td>150000</td>\n",
       "      <td>petrol</td>\n",
       "      <td>seat</td>\n",
       "      <td>yes</td>\n",
       "    </tr>\n",
       "    <tr>\n",
       "      <th>354102</th>\n",
       "      <td>0</td>\n",
       "      <td>NaN</td>\n",
       "      <td>2005</td>\n",
       "      <td>manual</td>\n",
       "      <td>0</td>\n",
       "      <td>colt</td>\n",
       "      <td>150000</td>\n",
       "      <td>petrol</td>\n",
       "      <td>mitsubishi</td>\n",
       "      <td>yes</td>\n",
       "    </tr>\n",
       "  </tbody>\n",
       "</table>\n",
       "<p>14342 rows × 10 columns</p>\n",
       "</div>"
      ],
      "text/plain": [
       "        price vehicle_type  registration_year gearbox  power     model  \\\n",
       "7           0        sedan               1980  manual     50     other   \n",
       "40          0          NaN               1990     NaN      0     corsa   \n",
       "59          1          suv               1994  manual    286       NaN   \n",
       "89          1        sedan               1995  manual    113  e_klasse   \n",
       "111         0          NaN               2017  manual      0      golf   \n",
       "...       ...          ...                ...     ...    ...       ...   \n",
       "353976      0        small               2002  manual     60    fiesta   \n",
       "353986      0        small               1999  manual     53     swift   \n",
       "354015      0        small               1999  manual     37     arosa   \n",
       "354047     99        small               1999  manual     60     arosa   \n",
       "354102      0          NaN               2005  manual      0      colt   \n",
       "\n",
       "        mileage fuel_type           brand not_repaired  \n",
       "7         40000    petrol      volkswagen           no  \n",
       "40       150000    petrol            opel          NaN  \n",
       "59       150000       NaN  sonstige_autos          NaN  \n",
       "89       150000  gasoline   mercedes_benz           no  \n",
       "111        5000    petrol      volkswagen          NaN  \n",
       "...         ...       ...             ...          ...  \n",
       "353976   150000    petrol            ford          NaN  \n",
       "353986   150000    petrol          suzuki          NaN  \n",
       "354015   150000    petrol            seat          yes  \n",
       "354047   150000    petrol            seat          yes  \n",
       "354102   150000    petrol      mitsubishi          yes  \n",
       "\n",
       "[14342 rows x 10 columns]"
      ]
     },
     "execution_count": 12,
     "metadata": {},
     "output_type": "execute_result"
    }
   ],
   "source": [
    "#Se filtran datos\n",
    "data[data[\"price\"] <= 100]"
   ]
  },
  {
   "cell_type": "markdown",
   "metadata": {},
   "source": [
    "Se encuentran muchos valores iguales a 0"
   ]
  },
  {
   "cell_type": "code",
   "execution_count": 13,
   "metadata": {
    "scrolled": true
   },
   "outputs": [
    {
     "data": {
      "image/png": "[encoded data removed]",
      "text/plain": [
       "<Figure size 720x360 with 1 Axes>"
      ]
     },
     "metadata": {
      "needs_background": "light"
     },
     "output_type": "display_data"
    }
   ],
   "source": [
    "fig, ax = plt.subplots(figsize = (10, 5))\n",
    "sns.histplot(data, x=\"price\", bins=50, ax = ax)\n",
    "ax.set_title( \"Precio vehiculos\" , size = 24 )\n",
    "ax.set_xlabel( \"Precios\" , size = 12 )\n",
    "ax.set_ylabel( \"Frecuencia\" , size = 12 )\n",
    "plt.show()"
   ]
  },
  {
   "cell_type": "markdown",
   "metadata": {},
   "source": [
    "Se encuentra una acumulación de valores por debajo de los 2,500."
   ]
  },
  {
   "cell_type": "code",
   "execution_count": 14,
   "metadata": {
    "scrolled": true
   },
   "outputs": [
    {
     "data": {
      "image/png": "[encoded data removed]",
      "text/plain": [
       "<Figure size 720x360 with 1 Axes>"
      ]
     },
     "metadata": {
      "needs_background": "light"
     },
     "output_type": "display_data"
    }
   ],
   "source": [
    "fig, ax = plt.subplots(figsize = (10, 5))\n",
    "sns.histplot(data.query('price < 2500'), x=\"price\", bins=50, ax = ax)\n",
    "ax.set_title( \"Precio vehiculos\" , size = 24 )\n",
    "ax.set_xlabel( \"Precios\" , size = 12 )\n",
    "ax.set_ylabel( \"Frecuencia\" , size = 12 )\n",
    "plt.show()"
   ]
  },
  {
   "cell_type": "markdown",
   "metadata": {},
   "source": [
    "Se eliminarán los precios menores a 500. Son precios muy bajos para un vehiculo.No se pueden complementar los datos, porque el ejercicio es crear un modelo que prediga el precio. Estos precios probablemente fueron capturados mal por los vendedores."
   ]
  },
  {
   "cell_type": "code",
   "execution_count": 15,
   "metadata": {
    "scrolled": true
   },
   "outputs": [
    {
     "name": "stdout",
     "output_type": "stream",
     "text": [
      "Porcentaje de información filtrada 10.0\n"
     ]
    }
   ],
   "source": [
    "print(\"Porcentaje de información filtrada\", \n",
    "     round(len(data.query('price < 500')) / len(data), 2) * 100)"
   ]
  },
  {
   "cell_type": "markdown",
   "metadata": {},
   "source": [
    "Se aprecia que casi el 10% de la información será filtrada"
   ]
  },
  {
   "cell_type": "code",
   "execution_count": 16,
   "metadata": {},
   "outputs": [],
   "source": [
    "#Se filtran datos\n",
    "data = data.query('price > 500')"
   ]
  },
  {
   "cell_type": "markdown",
   "metadata": {},
   "source": [
    "### Datos vehicle_type"
   ]
  },
  {
   "cell_type": "code",
   "execution_count": 17,
   "metadata": {},
   "outputs": [
    {
     "data": {
      "text/plain": [
       "array(['coupe', 'suv', 'small', 'sedan', 'convertible', 'bus', 'wagon',\n",
       "       nan, 'other'], dtype=object)"
      ]
     },
     "execution_count": 17,
     "metadata": {},
     "output_type": "execute_result"
    }
   ],
   "source": [
    "data[\"vehicle_type\"].unique()"
   ]
  },
  {
   "cell_type": "markdown",
   "metadata": {},
   "source": [
    "No parece haber datos atípicos. A continuación se revisarán los valores ausentes."
   ]
  },
  {
   "cell_type": "code",
   "execution_count": 18,
   "metadata": {
    "scrolled": false
   },
   "outputs": [
    {
     "data": {
      "text/html": [
       "<div>\n",
       "<style scoped>\n",
       "    .dataframe tbody tr th:only-of-type {\n",
       "        vertical-align: middle;\n",
       "    }\n",
       "\n",
       "    .dataframe tbody tr th {\n",
       "        vertical-align: top;\n",
       "    }\n",
       "\n",
       "    .dataframe thead th {\n",
       "        text-align: right;\n",
       "    }\n",
       "</style>\n",
       "<table border=\"1\" class=\"dataframe\">\n",
       "  <thead>\n",
       "    <tr style=\"text-align: right;\">\n",
       "      <th></th>\n",
       "      <th>price</th>\n",
       "      <th>vehicle_type</th>\n",
       "      <th>registration_year</th>\n",
       "      <th>gearbox</th>\n",
       "      <th>power</th>\n",
       "      <th>model</th>\n",
       "      <th>mileage</th>\n",
       "      <th>fuel_type</th>\n",
       "      <th>brand</th>\n",
       "      <th>not_repaired</th>\n",
       "    </tr>\n",
       "  </thead>\n",
       "  <tbody>\n",
       "    <tr>\n",
       "      <th>22</th>\n",
       "      <td>2900</td>\n",
       "      <td>NaN</td>\n",
       "      <td>2018</td>\n",
       "      <td>manual</td>\n",
       "      <td>90</td>\n",
       "      <td>meriva</td>\n",
       "      <td>150000</td>\n",
       "      <td>petrol</td>\n",
       "      <td>opel</td>\n",
       "      <td>no</td>\n",
       "    </tr>\n",
       "    <tr>\n",
       "      <th>26</th>\n",
       "      <td>5555</td>\n",
       "      <td>NaN</td>\n",
       "      <td>2017</td>\n",
       "      <td>manual</td>\n",
       "      <td>125</td>\n",
       "      <td>c4</td>\n",
       "      <td>125000</td>\n",
       "      <td>NaN</td>\n",
       "      <td>citroen</td>\n",
       "      <td>no</td>\n",
       "    </tr>\n",
       "    <tr>\n",
       "      <th>31</th>\n",
       "      <td>899</td>\n",
       "      <td>NaN</td>\n",
       "      <td>2016</td>\n",
       "      <td>manual</td>\n",
       "      <td>60</td>\n",
       "      <td>clio</td>\n",
       "      <td>150000</td>\n",
       "      <td>petrol</td>\n",
       "      <td>renault</td>\n",
       "      <td>NaN</td>\n",
       "    </tr>\n",
       "    <tr>\n",
       "      <th>37</th>\n",
       "      <td>1500</td>\n",
       "      <td>NaN</td>\n",
       "      <td>2016</td>\n",
       "      <td>NaN</td>\n",
       "      <td>0</td>\n",
       "      <td>kangoo</td>\n",
       "      <td>150000</td>\n",
       "      <td>gasoline</td>\n",
       "      <td>renault</td>\n",
       "      <td>no</td>\n",
       "    </tr>\n",
       "    <tr>\n",
       "      <th>48</th>\n",
       "      <td>7750</td>\n",
       "      <td>NaN</td>\n",
       "      <td>2017</td>\n",
       "      <td>manual</td>\n",
       "      <td>80</td>\n",
       "      <td>golf</td>\n",
       "      <td>100000</td>\n",
       "      <td>petrol</td>\n",
       "      <td>volkswagen</td>\n",
       "      <td>NaN</td>\n",
       "    </tr>\n",
       "    <tr>\n",
       "      <th>...</th>\n",
       "      <td>...</td>\n",
       "      <td>...</td>\n",
       "      <td>...</td>\n",
       "      <td>...</td>\n",
       "      <td>...</td>\n",
       "      <td>...</td>\n",
       "      <td>...</td>\n",
       "      <td>...</td>\n",
       "      <td>...</td>\n",
       "      <td>...</td>\n",
       "    </tr>\n",
       "    <tr>\n",
       "      <th>354027</th>\n",
       "      <td>5000</td>\n",
       "      <td>NaN</td>\n",
       "      <td>2017</td>\n",
       "      <td>manual</td>\n",
       "      <td>120</td>\n",
       "      <td>other</td>\n",
       "      <td>150000</td>\n",
       "      <td>NaN</td>\n",
       "      <td>citroen</td>\n",
       "      <td>yes</td>\n",
       "    </tr>\n",
       "    <tr>\n",
       "      <th>354043</th>\n",
       "      <td>3500</td>\n",
       "      <td>NaN</td>\n",
       "      <td>1995</td>\n",
       "      <td>NaN</td>\n",
       "      <td>0</td>\n",
       "      <td>polo</td>\n",
       "      <td>150000</td>\n",
       "      <td>NaN</td>\n",
       "      <td>volkswagen</td>\n",
       "      <td>NaN</td>\n",
       "    </tr>\n",
       "    <tr>\n",
       "      <th>354074</th>\n",
       "      <td>3299</td>\n",
       "      <td>NaN</td>\n",
       "      <td>2005</td>\n",
       "      <td>auto</td>\n",
       "      <td>0</td>\n",
       "      <td>outlander</td>\n",
       "      <td>150000</td>\n",
       "      <td>petrol</td>\n",
       "      <td>mitsubishi</td>\n",
       "      <td>NaN</td>\n",
       "    </tr>\n",
       "    <tr>\n",
       "      <th>354084</th>\n",
       "      <td>2600</td>\n",
       "      <td>NaN</td>\n",
       "      <td>2005</td>\n",
       "      <td>auto</td>\n",
       "      <td>0</td>\n",
       "      <td>c_klasse</td>\n",
       "      <td>150000</td>\n",
       "      <td>NaN</td>\n",
       "      <td>mercedes_benz</td>\n",
       "      <td>NaN</td>\n",
       "    </tr>\n",
       "    <tr>\n",
       "      <th>354099</th>\n",
       "      <td>5250</td>\n",
       "      <td>NaN</td>\n",
       "      <td>2016</td>\n",
       "      <td>auto</td>\n",
       "      <td>150</td>\n",
       "      <td>159</td>\n",
       "      <td>150000</td>\n",
       "      <td>NaN</td>\n",
       "      <td>alfa_romeo</td>\n",
       "      <td>no</td>\n",
       "    </tr>\n",
       "  </tbody>\n",
       "</table>\n",
       "<p>22094 rows × 10 columns</p>\n",
       "</div>"
      ],
      "text/plain": [
       "        price vehicle_type  registration_year gearbox  power      model  \\\n",
       "22       2900          NaN               2018  manual     90     meriva   \n",
       "26       5555          NaN               2017  manual    125         c4   \n",
       "31        899          NaN               2016  manual     60       clio   \n",
       "37       1500          NaN               2016     NaN      0     kangoo   \n",
       "48       7750          NaN               2017  manual     80       golf   \n",
       "...       ...          ...                ...     ...    ...        ...   \n",
       "354027   5000          NaN               2017  manual    120      other   \n",
       "354043   3500          NaN               1995     NaN      0       polo   \n",
       "354074   3299          NaN               2005    auto      0  outlander   \n",
       "354084   2600          NaN               2005    auto      0   c_klasse   \n",
       "354099   5250          NaN               2016    auto    150        159   \n",
       "\n",
       "        mileage fuel_type          brand not_repaired  \n",
       "22       150000    petrol           opel           no  \n",
       "26       125000       NaN        citroen           no  \n",
       "31       150000    petrol        renault          NaN  \n",
       "37       150000  gasoline        renault           no  \n",
       "48       100000    petrol     volkswagen          NaN  \n",
       "...         ...       ...            ...          ...  \n",
       "354027   150000       NaN        citroen          yes  \n",
       "354043   150000       NaN     volkswagen          NaN  \n",
       "354074   150000    petrol     mitsubishi          NaN  \n",
       "354084   150000       NaN  mercedes_benz          NaN  \n",
       "354099   150000       NaN     alfa_romeo           no  \n",
       "\n",
       "[22094 rows x 10 columns]"
      ]
     },
     "execution_count": 18,
     "metadata": {},
     "output_type": "execute_result"
    }
   ],
   "source": [
    "data_masked = data.query('vehicle_type.isna() and (model.isna()==False)')\n",
    "data_masked"
   ]
  },
  {
   "cell_type": "markdown",
   "metadata": {},
   "source": [
    "Se encuentran varios valores ausentes, se intentará complementar la información buscando patrones. En caso de no encontrar resultados se rellenarán con la categoria `other`"
   ]
  },
  {
   "cell_type": "code",
   "execution_count": 19,
   "metadata": {},
   "outputs": [
    {
     "data": {
      "text/plain": [
       "vehicle_type\n",
       "sedan          13778\n",
       "wagon           2965\n",
       "small           2922\n",
       "convertible     1825\n",
       "bus              756\n",
       "coupe            378\n",
       "other            139\n",
       "suv               22\n",
       "dtype: int64"
      ]
     },
     "execution_count": 19,
     "metadata": {},
     "output_type": "execute_result"
    }
   ],
   "source": [
    "#Se cuentan los valores del modelo especifico\n",
    "data.query('model == \"golf\"').value_counts(\"vehicle_type\")"
   ]
  },
  {
   "cell_type": "markdown",
   "metadata": {},
   "source": [
    "Se puede apreciar que el modelo golf, tiene casi todas las categorías, es probable que el vendedor cometiera un error al momento de seleccionar el tipo de vehiculo."
   ]
  },
  {
   "cell_type": "code",
   "execution_count": 20,
   "metadata": {
    "scrolled": true
   },
   "outputs": [
    {
     "data": {
      "text/plain": [
       "vehicle_type\n",
       "small          2425\n",
       "sedan           151\n",
       "wagon            77\n",
       "coupe            16\n",
       "other             4\n",
       "convertible       2\n",
       "dtype: int64"
      ]
     },
     "execution_count": 20,
     "metadata": {},
     "output_type": "execute_result"
    }
   ],
   "source": [
    "#Se cuentan los valores del modelo especifico\n",
    "data.query('model == \"clio\"').value_counts(\"vehicle_type\")"
   ]
  },
  {
   "cell_type": "code",
   "execution_count": 21,
   "metadata": {},
   "outputs": [
    {
     "data": {
      "text/plain": [
       "vehicle_type\n",
       "sedan    161\n",
       "bus      142\n",
       "coupe     77\n",
       "wagon     15\n",
       "small      8\n",
       "other      6\n",
       "suv        5\n",
       "dtype: int64"
      ]
     },
     "execution_count": 21,
     "metadata": {},
     "output_type": "execute_result"
    }
   ],
   "source": [
    "data.query('model == \"c4\"').value_counts(\"vehicle_type\")"
   ]
  },
  {
   "cell_type": "markdown",
   "metadata": {},
   "source": [
    "Se puede distinguir que hay una tipo de vehiculo que prevalece, dependiendo del modelo. Por consiguiente, se rellenarán los valores ausentes de la columna `vehicle_type`, basandose en los modelos."
   ]
  },
  {
   "cell_type": "code",
   "execution_count": 22,
   "metadata": {
    "scrolled": true
   },
   "outputs": [],
   "source": [
    "#Se guarda lista de valores de modelo\n",
    "model = list(data_masked[\"model\"].unique())"
   ]
  },
  {
   "cell_type": "code",
   "execution_count": 23,
   "metadata": {},
   "outputs": [],
   "source": [
    "#Se van a buscar los modelos con la mayor cantidad de tipo de vehiculo \n",
    "#y se agregara a una lista\n",
    "list_vehicle_type = []\n",
    "\n",
    "for i in model:\n",
    "    list_vehicle_type.append(\n",
    "        data.query('model == @i').value_counts(\"vehicle_type\").index[0]\n",
    "    )"
   ]
  },
  {
   "cell_type": "code",
   "execution_count": 24,
   "metadata": {},
   "outputs": [],
   "source": [
    "#Se crea DF unido los modelos con su respectivo tipo de vehiculo\n",
    "fill = pd.DataFrame(list(zip(model, list_vehicle_type)), columns=[\"model\", \"vehicle_type\"])\n",
    "fill.index = fill[\"model\"]"
   ]
  },
  {
   "cell_type": "code",
   "execution_count": 25,
   "metadata": {
    "scrolled": false
   },
   "outputs": [],
   "source": [
    "#Se crea una lista del tipo de vehiculo con respecto al modelo\n",
    "fill_list = []\n",
    "for i in data_masked[\"model\"]:\n",
    "    for a in fill[\"model\"]:\n",
    "        if i == a:\n",
    "            fill_list.append(fill.loc[a, \"vehicle_type\"])"
   ]
  },
  {
   "cell_type": "code",
   "execution_count": 26,
   "metadata": {},
   "outputs": [],
   "source": [
    "#Se asignan los valores ausentes \n",
    "data[\"vehicle_type\"][data_masked.index] = fill_list"
   ]
  },
  {
   "cell_type": "markdown",
   "metadata": {},
   "source": [
    "Todavia restan valores ausentes, no se puedieron llenar porque tienen valores ausentes en la columna `model`. Por consiguiente, se llenará el campo con other"
   ]
  },
  {
   "cell_type": "code",
   "execution_count": 27,
   "metadata": {},
   "outputs": [],
   "source": [
    "#Se llenan los valores vacios con el valor other\n",
    "data[\"vehicle_type\"] = data[\"vehicle_type\"].fillna(\"other\")"
   ]
  },
  {
   "cell_type": "code",
   "execution_count": 28,
   "metadata": {
    "scrolled": true
   },
   "outputs": [
    {
     "data": {
      "text/plain": [
       "0"
      ]
     },
     "execution_count": 28,
     "metadata": {},
     "output_type": "execute_result"
    }
   ],
   "source": [
    "data[\"vehicle_type\"].isna().sum()"
   ]
  },
  {
   "cell_type": "markdown",
   "metadata": {},
   "source": [
    "Se llenaron los valores ausentes de la columna `vehicle_type` de manera correcta."
   ]
  },
  {
   "cell_type": "markdown",
   "metadata": {},
   "source": [
    "### Datos registration_year"
   ]
  },
  {
   "cell_type": "code",
   "execution_count": 29,
   "metadata": {
    "scrolled": false
   },
   "outputs": [
    {
     "data": {
      "text/plain": [
       "array([2011, 2004, 2001, 2008, 1995, 2014, 1998, 2005, 2007, 2009, 2002,\n",
       "       2018, 2017, 1981, 2003, 2016, 1991, 1984, 2006, 1999, 2012, 2010,\n",
       "       2000, 1992, 1993, 1997, 2013, 1994, 1996, 1990, 1989, 2015, 1985,\n",
       "       1982, 1976, 1983, 1973, 1969, 1971, 1987, 1988, 1980, 1970, 1986,\n",
       "       1965, 1945, 1925, 1974, 1979, 1955, 1978, 1972, 1968, 1977, 1961,\n",
       "       1966, 1975, 1910, 1963, 1964, 1958, 1967, 1956, 3200, 1960, 1941,\n",
       "       9999, 8888, 1500, 4100, 1962, 1929, 1957, 1940, 2066, 1949, 2019,\n",
       "       1937, 1951, 1959, 1953, 1954, 1234, 5300, 9000, 2900, 6000, 5911,\n",
       "       1400, 5000, 4000, 1948, 1000, 1952, 8500, 1932, 1950, 3700, 1942,\n",
       "       7000, 1935, 1933, 1936, 1923, 2290, 1930, 1001, 9450, 1944, 2500,\n",
       "       1943, 1938, 1934, 1928, 5555, 1600, 1800, 1039, 3000, 2800, 1931,\n",
       "       4500, 7800, 1947, 1927, 7100, 1946])"
      ]
     },
     "execution_count": 29,
     "metadata": {},
     "output_type": "execute_result"
    }
   ],
   "source": [
    "#Valores únicos de año\n",
    "data[\"registration_year\"].unique()"
   ]
  },
  {
   "cell_type": "markdown",
   "metadata": {},
   "source": [
    "Se aprecian valores atípicos, se realizará un diagrama de caja para visualizarlo mejor"
   ]
  },
  {
   "cell_type": "code",
   "execution_count": 30,
   "metadata": {
    "scrolled": true
   },
   "outputs": [
    {
     "data": {
      "image/png": "[encoded data removed]",
      "text/plain": [
       "<Figure size 720x360 with 1 Axes>"
      ]
     },
     "metadata": {
      "needs_background": "light"
     },
     "output_type": "display_data"
    }
   ],
   "source": [
    "fig, ax = plt.subplots(figsize = (10, 5))\n",
    "sns.histplot(data.query('registration_year>1950 and registration_year<2025'), \n",
    "             x=\"registration_year\",\n",
    "             bins=50, ax = ax)\n",
    "ax.set_title( \"año de registro de vehiculos\" , size = 24 )\n",
    "ax.set_xlabel( \"Años\" , size = 12 )\n",
    "ax.set_ylabel( \"Frecuencia\" , size = 12 )\n",
    "plt.show()"
   ]
  },
  {
   "cell_type": "markdown",
   "metadata": {},
   "source": [
    "Se puede apreciar que hay valores entre 1950 y 2019"
   ]
  },
  {
   "cell_type": "code",
   "execution_count": 31,
   "metadata": {
    "scrolled": false
   },
   "outputs": [
    {
     "name": "stderr",
     "output_type": "stream",
     "text": [
      "/opt/conda/lib/python3.9/site-packages/seaborn/_decorators.py:36: FutureWarning: Pass the following variable as a keyword arg: x. From version 0.12, the only valid positional argument will be `data`, and passing other arguments without an explicit keyword will result in an error or misinterpretation.\n",
      "  warnings.warn(\n"
     ]
    },
    {
     "data": {
      "image/png": "[encoded data removed]",
      "text/plain": [
       "<Figure size 720x360 with 1 Axes>"
      ]
     },
     "metadata": {
      "needs_background": "light"
     },
     "output_type": "display_data"
    }
   ],
   "source": [
    "fig, ax = plt.subplots(figsize = (10, 5)) \n",
    "sns.boxplot(data[\"registration_year\"])\n",
    "ax.set_xlim(1950, 2050)\n",
    "ax.set_title( \"Diagrama de caja de registration_year\" , size = 24 )\n",
    "ax.set_xlabel( \"Años\" , size = 12 )\n",
    "ax.set_ylabel( \"Registation_year\" , size = 12 )\n",
    "plt.show()"
   ]
  },
  {
   "cell_type": "code",
   "execution_count": 32,
   "metadata": {},
   "outputs": [
    {
     "data": {
      "text/plain": [
       "count    312394.000000\n",
       "mean       2004.225846\n",
       "std          64.381779\n",
       "min        1000.000000\n",
       "25%        2000.000000\n",
       "50%        2004.000000\n",
       "75%        2008.000000\n",
       "max        9999.000000\n",
       "Name: registration_year, dtype: float64"
      ]
     },
     "execution_count": 32,
     "metadata": {},
     "output_type": "execute_result"
    }
   ],
   "source": [
    "data[\"registration_year\"].describe()"
   ]
  },
  {
   "cell_type": "markdown",
   "metadata": {},
   "source": [
    "Se puede apreciar que todos la mayoria de los valores se concentran entre 1990 y 2020. Pero se tienen valores minimos de 1000 y máximo de hasta 9999. Se sabe que esto no es posible, por consiguiente se delimitarán los limites intercuatilicos teoricos para filtrar los datos."
   ]
  },
  {
   "cell_type": "code",
   "execution_count": 33,
   "metadata": {
    "scrolled": true
   },
   "outputs": [
    {
     "name": "stdout",
     "output_type": "stream",
     "text": [
      "Valor mínimo para registration_year: 1988.0\n",
      "Valor maximo para registration_year: 2012.0\n"
     ]
    }
   ],
   "source": [
    "q1 = data[\"registration_year\"].quantile(0.25)\n",
    "q3 = data[\"registration_year\"].quantile(0.75)\n",
    "iqr = q3 - q1\n",
    "lim_inf = q1 - 1.5 * iqr \n",
    "lim_sup = q1 + 1.5 * iqr \n",
    "print(\"Valor mínimo para registration_year:\", lim_inf)\n",
    "print(\"Valor maximo para registration_year:\", lim_sup)"
   ]
  },
  {
   "cell_type": "markdown",
   "metadata": {},
   "source": [
    "Debido a que hay valores muy bajos y muy altos, el limite intecuartilico teorico tiene una rango corto. Para proposito de este proyecto se ampliara el rango a años congruentes, se propone el rango de 1960 hasta 2020"
   ]
  },
  {
   "cell_type": "code",
   "execution_count": 34,
   "metadata": {
    "scrolled": true
   },
   "outputs": [
    {
     "name": "stdout",
     "output_type": "stream",
     "text": [
      "Porcentaje de datos filtrados: 0.13\n"
     ]
    }
   ],
   "source": [
    "print(\"Porcentaje de datos filtrados:\",\n",
    "round(1 - len(data.query('registration_year>1960 and registration_year<2020')) / len(data), 4) * 100 \n",
    ")"
   ]
  },
  {
   "cell_type": "code",
   "execution_count": 35,
   "metadata": {},
   "outputs": [],
   "source": [
    "#Se filtran datos\n",
    "data = data.query('registration_year > 1960 and registration_year < 2020')"
   ]
  },
  {
   "cell_type": "markdown",
   "metadata": {},
   "source": [
    "Solo si filtro menos del 1% de los datos. Se logró conservar la mayoria."
   ]
  },
  {
   "cell_type": "markdown",
   "metadata": {},
   "source": [
    "### Datos gear_box"
   ]
  },
  {
   "cell_type": "code",
   "execution_count": 36,
   "metadata": {},
   "outputs": [
    {
     "data": {
      "text/plain": [
       "array(['manual', 'auto', nan], dtype=object)"
      ]
     },
     "execution_count": 36,
     "metadata": {},
     "output_type": "execute_result"
    }
   ],
   "source": [
    "#Se muestran los valores que tiene la columna\n",
    "data[\"gearbox\"].unique()"
   ]
  },
  {
   "cell_type": "code",
   "execution_count": 37,
   "metadata": {},
   "outputs": [
    {
     "data": {
      "text/plain": [
       "12734"
      ]
     },
     "execution_count": 37,
     "metadata": {},
     "output_type": "execute_result"
    }
   ],
   "source": [
    "#Se cuentan la cantidad de valores ausentes\n",
    "data[\"gearbox\"].isna().sum()"
   ]
  },
  {
   "cell_type": "markdown",
   "metadata": {},
   "source": [
    "Se encuentran varios valores ausentes. Debido a que no se puede determinar que tipo de caja de cambios tiene se designara el valor \"manual/auto\" para los valores ausentes. Con motivo de rescatar la mayor cantidad de datos posible."
   ]
  },
  {
   "cell_type": "code",
   "execution_count": 38,
   "metadata": {},
   "outputs": [],
   "source": [
    "#Se llenan los valores ausentes\n",
    "data[\"gearbox\"] = data[\"gearbox\"].fillna(\"manual/auto\")"
   ]
  },
  {
   "cell_type": "code",
   "execution_count": 39,
   "metadata": {},
   "outputs": [
    {
     "data": {
      "text/plain": [
       "0"
      ]
     },
     "execution_count": 39,
     "metadata": {},
     "output_type": "execute_result"
    }
   ],
   "source": [
    "data[\"gearbox\"].isna().sum()"
   ]
  },
  {
   "cell_type": "markdown",
   "metadata": {},
   "source": [
    "Se comprueba que no haya valores ausentes"
   ]
  },
  {
   "cell_type": "markdown",
   "metadata": {},
   "source": [
    "### Datos power"
   ]
  },
  {
   "cell_type": "code",
   "execution_count": 40,
   "metadata": {
    "scrolled": true
   },
   "outputs": [
    {
     "data": {
      "text/plain": [
       "array([  190,   163,    75,    69,   102,   109,   125,   101,   105,\n",
       "         140,   115,   131,   136,   160,   231,    90,   193,    99,\n",
       "          50,    60,   113,   218,   122,     0,   129,    70,   306,\n",
       "          95,    61,   177,    80,   170,    55,   143,    64,   232,\n",
       "         150,   156,    82,   185,    87,   180,    86,    84,   224,\n",
       "         235,   200,   178,   265,    77,   110,   120,    54,   286,\n",
       "         116,   184,   126,   204,    88,   194,   305,   197,   179,\n",
       "         250,    45,   313,    41,   165,    98,   130,   114,   211,\n",
       "         118,   201,   213,   107,    83,   174,   100,   220,    85,\n",
       "          73,   192,    68,    66,   299,    74,    58,    52,   147,\n",
       "         310,    71,    97,    65,   239,   203,     5,   144,   300,\n",
       "         103,   258,   320,    63,    81,   148,    44,   145,   280,\n",
       "         260,   104,   333,   186,   117,   141,   132,   155,   234,\n",
       "         158,    92,    51,   135,    59,   230,   209,    43,   146,\n",
       "          67,   106,   166,   276,   344,    72,   249,   237,   245,\n",
       "          56,   111,   326,   279,    23,   138,   175,    96,   226,\n",
       "          26,    37,   301,   334,   128,   133,   124,    33,   219,\n",
       "         241,   167,    94,   182,   196,   238,  1398,   228,   112,\n",
       "          48,   272,   139,    40,    79,   256,   360,   243,   252,\n",
       "         396,   340,   108,   121,   345,   187,   289,   222,   198,\n",
       "         284,   450,   233,   387,   347,   172,    57,   137,   212,\n",
       "         476,   314,     7,    47,   173,   290,   188,   207,   205,\n",
       "         171,    78,    91,    89,   349,   325,    76,   151,   350,\n",
       "         953,    93,   142,   343,   199,   164,    39,    16,   264,\n",
       "         367,   240,   208,   210,    46,   435,   225,   127,   176,\n",
       "         161,   603,   152,   307,   354,    35,   206,   771,   355,\n",
       "         273,   223,   255,    30,   123,   154,   149,  7515,  1400,\n",
       "         268,   169,   400,   275,    34,     2,   242,  1779,   285,\n",
       "         162,   328,  1753,   329,   134,   420,   247,   168,   215,\n",
       "          18,   330,   283,   500,    10,   183,   254,    15,   321,\n",
       "         322,   315,   952,   600,   181,   119,   426,   599,   379,\n",
       "          62,    22,   157,    42,   195,    53,     4,   309,   507,\n",
       "         381,   271,   440,   189,   401,  2729,   236,  1240,  1704,\n",
       "         521,     1,  1900,   270,    24,   159,   292,   808,   303,\n",
       "          29,    38,  1993,   216,   504,    49,   267,   331,   363,\n",
       "         261,   385,  1011,   253,   696, 10520,   376,   227,   311,\n",
       "          27,   217,    20,    11,  1056,    25,   394,    12,   298,\n",
       "         296,   515,  1659,   294,  6920,   246,    17,   390,   221,\n",
       "        1367,   259,   327,  2017,  1597,   266,   374,   392,     9,\n",
       "         405,    13,    14,   262,   430,   295,     8,   411,   900,\n",
       "        7512,   382, 10218,  7544,   287,    19,   214,   751,   297,\n",
       "        1090,   457,   282,  1001,   602,   388,     6,  5411,   335,\n",
       "        1360,   202,   805,  1062,  1024, 11530,   364,  1796,   269,\n",
       "         460,   288,  1780, 12012, 17932,   316,  2005,  1800,  1399,\n",
       "         191,   278,  1300,   380,   257,   449,   153,  1653,   520,\n",
       "         560,   281, 12510,     3,  1500,   386,  1202,  2016,  1436,\n",
       "        1405,   671,   274,  1288,  1055, 10912,  6226,  1115,   277,\n",
       "        1105,   341,  1223,  2340,  8404,  1968,   338,   445,  1920,\n",
       "         370,   517,  4400, 10710, 10522,  9010,   431,  1164, 11509,\n",
       "         371,  1501,   428, 11635,   304,    21,   348,  1995,   579,\n",
       "       10000,  1005,   358,   408,  1403,   489, 19211,   585,   365,\n",
       "         353,   490,   352,  1801,  1000,   346,   550,  3199,   800,\n",
       "        7508,   357,  1937,   950,  1600,  3454, 19208,   251,   850,\n",
       "         337,   700,  2331,  2789,   487,   519,  2461,   606,  6006,\n",
       "        3500,  6018,  1781,  1503,   612,  1596,   229,    31,  1506,\n",
       "        5809, 15020,  5867,  2172,  1598, 17410,  1363,  1054,  1339,\n",
       "         318,   510,   525,    28,  1151,   685,  6011,   317,   703,\n",
       "        1771, 15001,   514,   362,   332,   324,  6045,   425,   308,\n",
       "        6010,   475,   903,   640,  2000,   248,   651,  2799,   368,\n",
       "       17011,   505,  1521,   601,   351, 16051,    36,   398,   750,\n",
       "        9000,  1998, 10311,   620,   409, 17019,  8259,  1895,   901,\n",
       "        1317,   871,   909,  1595,   776, 17700, 11011,  1199,  1162,\n",
       "       15033,  1896,   339,   361,  6512,   454,   650,   604,   999,\n",
       "         607, 16312,  1082,   336, 20000,   416,   678,  6012,  1401,\n",
       "        1021,  1870,   375, 13636,  1250,   323,  2009,  6062,  1275,\n",
       "         572,   244,   399,  1016,   743,  1221,  2402, 16011,  1362,\n",
       "         544,   645,   907,   702,  1986,  1003,  1432,  9013,  9011,\n",
       "         442,  1017,  1394, 15017, 10910,  1992,   540,  2018, 11025,\n",
       "        1433,  1701,  2792,  1502,  1390, 14009,  1160,  1351,  1783,\n",
       "        9007,   923,  1149,   402,  2004,  5420,  1793,   356, 12512,\n",
       "        7511,  1299,   293, 19312,  1079,  1689,  1100,  9012,  1933,\n",
       "         508, 16311,   551,   682,  1252,  1922,  7529,   732,  2389,\n",
       "        1707,  1416,  1700,  8500,  1012, 10110,   421,  1631,  7518,\n",
       "         377,  2007,  2598,  1548])"
      ]
     },
     "execution_count": 40,
     "metadata": {},
     "output_type": "execute_result"
    }
   ],
   "source": [
    "data[\"power\"].unique()"
   ]
  },
  {
   "cell_type": "code",
   "execution_count": 41,
   "metadata": {
    "scrolled": true
   },
   "outputs": [
    {
     "data": {
      "image/png": "[encoded data removed]",
      "text/plain": [
       "<Figure size 720x360 with 1 Axes>"
      ]
     },
     "metadata": {
      "needs_background": "light"
     },
     "output_type": "display_data"
    }
   ],
   "source": [
    "fig, ax = plt.subplots(figsize = (10, 5))\n",
    "sns.histplot(data.query('power>0 and power<2000'), \n",
    "             x=\"power\",\n",
    "             bins=50, ax = ax)\n",
    "ax.set_title( \"Potencia de vehiculos\" , size = 24 )\n",
    "ax.set_xlabel( \"Potencia\" , size = 12 )\n",
    "ax.set_ylabel( \"Frecuencia\" , size = 12 )\n",
    "plt.show()"
   ]
  },
  {
   "cell_type": "markdown",
   "metadata": {},
   "source": [
    "Se puede apreciar que los datos se agrupan entre 0 y 500 CV de potencia"
   ]
  },
  {
   "cell_type": "code",
   "execution_count": 42,
   "metadata": {
    "scrolled": false
   },
   "outputs": [
    {
     "name": "stderr",
     "output_type": "stream",
     "text": [
      "/opt/conda/lib/python3.9/site-packages/seaborn/_decorators.py:36: FutureWarning: Pass the following variable as a keyword arg: x. From version 0.12, the only valid positional argument will be `data`, and passing other arguments without an explicit keyword will result in an error or misinterpretation.\n",
      "  warnings.warn(\n"
     ]
    },
    {
     "data": {
      "image/png": "[encoded data removed]",
      "text/plain": [
       "<Figure size 720x360 with 1 Axes>"
      ]
     },
     "metadata": {
      "needs_background": "light"
     },
     "output_type": "display_data"
    }
   ],
   "source": [
    "fig, ax = plt.subplots(figsize = (10, 5)) \n",
    "sns.boxplot(data[\"power\"])\n",
    "ax.set_xlim(-10, 2050)\n",
    "ax.set_title( \"Diagrama de caja de registration_year\" , size = 24 )\n",
    "ax.set_xlabel( \"Años\" , size = 12 )\n",
    "ax.set_ylabel( \"Registation_year\" , size = 12 )\n",
    "plt.show()"
   ]
  },
  {
   "cell_type": "markdown",
   "metadata": {},
   "source": [
    "De acuerdo al diagrama de caja, toma los valores atipicos a partir de 250 en adelante."
   ]
  },
  {
   "cell_type": "code",
   "execution_count": 43,
   "metadata": {
    "scrolled": true
   },
   "outputs": [
    {
     "data": {
      "text/plain": [
       "count    311991.000000\n",
       "mean        115.722848\n",
       "std         189.021123\n",
       "min           0.000000\n",
       "25%          75.000000\n",
       "50%         109.000000\n",
       "75%         147.000000\n",
       "max       20000.000000\n",
       "Name: power, dtype: float64"
      ]
     },
     "execution_count": 43,
     "metadata": {},
     "output_type": "execute_result"
    }
   ],
   "source": [
    "data[\"power\"].describe()"
   ]
  },
  {
   "cell_type": "markdown",
   "metadata": {},
   "source": [
    "Parece que hay valores de la columna `power` en más de 2,000. Esto no es posible porque no existen vehiculos con tal potencia. Esto pudo haber ocurrido por un error de captura en los datos. Por consiguiente, se tomarán en cuenta los vehiculos con potencia de 0 a 2,000, debido a que no se puede determinar la potencia."
   ]
  },
  {
   "cell_type": "code",
   "execution_count": 44,
   "metadata": {},
   "outputs": [
    {
     "name": "stdout",
     "output_type": "stream",
     "text": [
      "Porcentaje de datos filtrados: 0.03\n"
     ]
    }
   ],
   "source": [
    "print(\"Porcentaje de datos filtrados:\",\n",
    "round(1 - len(data.query('power >= 0 and power <= 2000')) / len(data), 4) * 100 \n",
    ")"
   ]
  },
  {
   "cell_type": "code",
   "execution_count": 45,
   "metadata": {},
   "outputs": [],
   "source": [
    "#Se filtan datos\n",
    "data = data.query('power >= 0 and power <= 2000')"
   ]
  },
  {
   "cell_type": "markdown",
   "metadata": {},
   "source": [
    "Se puede observar, que se filtraron solo una pequeña cantidad de datos."
   ]
  },
  {
   "cell_type": "markdown",
   "metadata": {},
   "source": [
    "### Datos model"
   ]
  },
  {
   "cell_type": "code",
   "execution_count": 46,
   "metadata": {},
   "outputs": [
    {
     "data": {
      "text/plain": [
       "array([nan, 'grand', 'golf', 'fabia', '3er', '2_reihe', 'c_max',\n",
       "       '3_reihe', 'passat', 'navara', 'twingo', 'a_klasse', 'scirocco',\n",
       "       '5er', 'meriva', 'c4', 'civic', 'transporter', 'punto', 'e_klasse',\n",
       "       'clio', 'kadett', 'kangoo', 'other', 'one', 'fortwo', '1er',\n",
       "       'b_klasse', 'signum', 'astra', 'a8', 'jetta', 'polo', 'fiesta',\n",
       "       'c_klasse', 'micra', 'vito', 'sprinter', 'escort', 'forester',\n",
       "       'xc_reihe', 'scenic', 'a4', 'a1', 'insignia', 'combo', 'focus',\n",
       "       'tt', 'a6', 'jazz', 'slk', '7er', '80', '147', 'z_reihe',\n",
       "       'sportage', 'sorento', 'ibiza', 'mustang', 'eos', 'touran', 'getz',\n",
       "       'a3', 'ka', 'almera', 'megane', 'lupo', 'zafira', 'caddy', 'corsa',\n",
       "       'mondeo', 'cordoba', 'colt', 'impreza', 'vectra', 'berlingo',\n",
       "       'tiguan', 'i_reihe', 'espace', 'sharan', '6_reihe', 'panda', 'up',\n",
       "       'seicento', 'ceed', '5_reihe', 'yeti', 'octavia', 'mii',\n",
       "       'rx_reihe', '6er', 'modus', 'fox', 'matiz', 'beetle', 'c1', 'rio',\n",
       "       'touareg', 'logan', 'spider', 'omega', 'cuore', 's_max', 'a2',\n",
       "       'galaxy', 'c3', 'viano', 's_klasse', '1_reihe', 'avensis',\n",
       "       'roomster', 'sl', 'kaefer', 'santa', 'cooper', 'leon', '4_reihe',\n",
       "       'a5', '500', 'laguna', 'ptcruiser', 'clk', 'primera', 'x_reihe',\n",
       "       'exeo', '159', 'transit', 'juke', 'qashqai', 'v40', 'carisma',\n",
       "       'accord', 'corolla', 'lanos', 'phaeton', 'verso', 'swift', 'rav',\n",
       "       'picanto', 'boxster', 'kalos', 'superb', 'stilo', 'alhambra',\n",
       "       'roadster', 'galant', '90', 'crossfire', 'agila', 'duster',\n",
       "       'cr_reihe', 'v50', 'mx_reihe', 'c_reihe', 'v_klasse', 'm_klasse',\n",
       "       'yaris', 'c5', 'aygo', 'cc', 'carnival', '911', 'bora', 'forfour',\n",
       "       'cl', 'tigra', '156', '300c', '100', 'spark', 'kuga', 'x_type',\n",
       "       'ducato', 's_type', 'x_trail', 'toledo', 'altea', 'arosa',\n",
       "       'voyager', 'v70', 'antara', 'tucson', 'citigo', 'jimny', 'cayenne',\n",
       "       'wrangler', 'lybra', 'q7', 'lancer', 'captiva', 'fusion', 'c2',\n",
       "       'discovery', 'freelander', 'sandero', 'note', 'sirion', '900',\n",
       "       'cherokee', 'clubman', 'defender', '601', 'cx_reihe', 'legacy',\n",
       "       'pajero', 'auris', 'niva', 's60', 'm_reihe', 'nubira', 'vivaro',\n",
       "       'g_klasse', 'ypsilon', 'justy', 'lodgy', 'range_rover', '850',\n",
       "       'q3', 'serie_2', 'calibra', 'glk', 'charade', 'croma', 'bravo',\n",
       "       'outlander', 'doblo', 'musa', '9000', 'v60', 'aveo', 'r19', '200',\n",
       "       '145', 'b_max', 'range_rover_sport', 'terios', 'move',\n",
       "       'rangerover', 'q5', 'range_rover_evoque', 'materia', 'gl',\n",
       "       'kalina', 'amarok', 'elefantino', 'delta', 'i3', 'samara', 'kappa',\n",
       "       'serie_3', 'serie_1'], dtype=object)"
      ]
     },
     "execution_count": 46,
     "metadata": {},
     "output_type": "execute_result"
    }
   ],
   "source": [
    "data[\"model\"].unique()"
   ]
  },
  {
   "cell_type": "code",
   "execution_count": 47,
   "metadata": {
    "scrolled": false
   },
   "outputs": [
    {
     "data": {
      "text/html": [
       "<div>\n",
       "<style scoped>\n",
       "    .dataframe tbody tr th:only-of-type {\n",
       "        vertical-align: middle;\n",
       "    }\n",
       "\n",
       "    .dataframe tbody tr th {\n",
       "        vertical-align: top;\n",
       "    }\n",
       "\n",
       "    .dataframe thead th {\n",
       "        text-align: right;\n",
       "    }\n",
       "</style>\n",
       "<table border=\"1\" class=\"dataframe\">\n",
       "  <thead>\n",
       "    <tr style=\"text-align: right;\">\n",
       "      <th></th>\n",
       "      <th>price</th>\n",
       "      <th>vehicle_type</th>\n",
       "      <th>registration_year</th>\n",
       "      <th>gearbox</th>\n",
       "      <th>power</th>\n",
       "      <th>model</th>\n",
       "      <th>mileage</th>\n",
       "      <th>fuel_type</th>\n",
       "      <th>brand</th>\n",
       "      <th>not_repaired</th>\n",
       "    </tr>\n",
       "  </thead>\n",
       "  <tbody>\n",
       "    <tr>\n",
       "      <th>1</th>\n",
       "      <td>18300</td>\n",
       "      <td>coupe</td>\n",
       "      <td>2011</td>\n",
       "      <td>manual</td>\n",
       "      <td>190</td>\n",
       "      <td>NaN</td>\n",
       "      <td>125000</td>\n",
       "      <td>gasoline</td>\n",
       "      <td>audi</td>\n",
       "      <td>yes</td>\n",
       "    </tr>\n",
       "    <tr>\n",
       "      <th>135</th>\n",
       "      <td>1450</td>\n",
       "      <td>sedan</td>\n",
       "      <td>1992</td>\n",
       "      <td>manual</td>\n",
       "      <td>136</td>\n",
       "      <td>NaN</td>\n",
       "      <td>150000</td>\n",
       "      <td>NaN</td>\n",
       "      <td>audi</td>\n",
       "      <td>no</td>\n",
       "    </tr>\n",
       "    <tr>\n",
       "      <th>151</th>\n",
       "      <td>6799</td>\n",
       "      <td>small</td>\n",
       "      <td>2009</td>\n",
       "      <td>manual/auto</td>\n",
       "      <td>60</td>\n",
       "      <td>NaN</td>\n",
       "      <td>20000</td>\n",
       "      <td>petrol</td>\n",
       "      <td>volkswagen</td>\n",
       "      <td>no</td>\n",
       "    </tr>\n",
       "    <tr>\n",
       "      <th>161</th>\n",
       "      <td>1495</td>\n",
       "      <td>wagon</td>\n",
       "      <td>2001</td>\n",
       "      <td>manual/auto</td>\n",
       "      <td>64</td>\n",
       "      <td>NaN</td>\n",
       "      <td>150000</td>\n",
       "      <td>gasoline</td>\n",
       "      <td>volkswagen</td>\n",
       "      <td>NaN</td>\n",
       "    </tr>\n",
       "    <tr>\n",
       "      <th>186</th>\n",
       "      <td>14000</td>\n",
       "      <td>sedan</td>\n",
       "      <td>2008</td>\n",
       "      <td>manual/auto</td>\n",
       "      <td>235</td>\n",
       "      <td>NaN</td>\n",
       "      <td>150000</td>\n",
       "      <td>NaN</td>\n",
       "      <td>bmw</td>\n",
       "      <td>no</td>\n",
       "    </tr>\n",
       "    <tr>\n",
       "      <th>...</th>\n",
       "      <td>...</td>\n",
       "      <td>...</td>\n",
       "      <td>...</td>\n",
       "      <td>...</td>\n",
       "      <td>...</td>\n",
       "      <td>...</td>\n",
       "      <td>...</td>\n",
       "      <td>...</td>\n",
       "      <td>...</td>\n",
       "      <td>...</td>\n",
       "    </tr>\n",
       "    <tr>\n",
       "      <th>353972</th>\n",
       "      <td>5000</td>\n",
       "      <td>sedan</td>\n",
       "      <td>2002</td>\n",
       "      <td>auto</td>\n",
       "      <td>170</td>\n",
       "      <td>NaN</td>\n",
       "      <td>150000</td>\n",
       "      <td>petrol</td>\n",
       "      <td>audi</td>\n",
       "      <td>no</td>\n",
       "    </tr>\n",
       "    <tr>\n",
       "      <th>353983</th>\n",
       "      <td>560</td>\n",
       "      <td>small</td>\n",
       "      <td>2001</td>\n",
       "      <td>auto</td>\n",
       "      <td>170</td>\n",
       "      <td>NaN</td>\n",
       "      <td>90000</td>\n",
       "      <td>petrol</td>\n",
       "      <td>fiat</td>\n",
       "      <td>yes</td>\n",
       "    </tr>\n",
       "    <tr>\n",
       "      <th>354059</th>\n",
       "      <td>9400</td>\n",
       "      <td>wagon</td>\n",
       "      <td>2007</td>\n",
       "      <td>manual</td>\n",
       "      <td>200</td>\n",
       "      <td>NaN</td>\n",
       "      <td>150000</td>\n",
       "      <td>gasoline</td>\n",
       "      <td>sonstige_autos</td>\n",
       "      <td>yes</td>\n",
       "    </tr>\n",
       "    <tr>\n",
       "      <th>354089</th>\n",
       "      <td>1900</td>\n",
       "      <td>other</td>\n",
       "      <td>2000</td>\n",
       "      <td>manual</td>\n",
       "      <td>110</td>\n",
       "      <td>NaN</td>\n",
       "      <td>150000</td>\n",
       "      <td>NaN</td>\n",
       "      <td>volkswagen</td>\n",
       "      <td>no</td>\n",
       "    </tr>\n",
       "    <tr>\n",
       "      <th>354103</th>\n",
       "      <td>2200</td>\n",
       "      <td>other</td>\n",
       "      <td>2005</td>\n",
       "      <td>manual/auto</td>\n",
       "      <td>0</td>\n",
       "      <td>NaN</td>\n",
       "      <td>20000</td>\n",
       "      <td>NaN</td>\n",
       "      <td>sonstige_autos</td>\n",
       "      <td>NaN</td>\n",
       "    </tr>\n",
       "  </tbody>\n",
       "</table>\n",
       "<p>14048 rows × 10 columns</p>\n",
       "</div>"
      ],
      "text/plain": [
       "        price vehicle_type  registration_year      gearbox  power model  \\\n",
       "1       18300        coupe               2011       manual    190   NaN   \n",
       "135      1450        sedan               1992       manual    136   NaN   \n",
       "151      6799        small               2009  manual/auto     60   NaN   \n",
       "161      1495        wagon               2001  manual/auto     64   NaN   \n",
       "186     14000        sedan               2008  manual/auto    235   NaN   \n",
       "...       ...          ...                ...          ...    ...   ...   \n",
       "353972   5000        sedan               2002         auto    170   NaN   \n",
       "353983    560        small               2001         auto    170   NaN   \n",
       "354059   9400        wagon               2007       manual    200   NaN   \n",
       "354089   1900        other               2000       manual    110   NaN   \n",
       "354103   2200        other               2005  manual/auto      0   NaN   \n",
       "\n",
       "        mileage fuel_type           brand not_repaired  \n",
       "1        125000  gasoline            audi          yes  \n",
       "135      150000       NaN            audi           no  \n",
       "151       20000    petrol      volkswagen           no  \n",
       "161      150000  gasoline      volkswagen          NaN  \n",
       "186      150000       NaN             bmw           no  \n",
       "...         ...       ...             ...          ...  \n",
       "353972   150000    petrol            audi           no  \n",
       "353983    90000    petrol            fiat          yes  \n",
       "354059   150000  gasoline  sonstige_autos          yes  \n",
       "354089   150000       NaN      volkswagen           no  \n",
       "354103    20000       NaN  sonstige_autos          NaN  \n",
       "\n",
       "[14048 rows x 10 columns]"
      ]
     },
     "execution_count": 47,
     "metadata": {},
     "output_type": "execute_result"
    }
   ],
   "source": [
    "data.query('model.isna()')"
   ]
  },
  {
   "cell_type": "markdown",
   "metadata": {},
   "source": [
    "Se buscarán patrones en los datos para averiguar con que valor se puede llenar."
   ]
  },
  {
   "cell_type": "code",
   "execution_count": 48,
   "metadata": {
    "scrolled": true
   },
   "outputs": [
    {
     "data": {
      "text/plain": [
       "model\n",
       "a4       9230\n",
       "a3       5884\n",
       "a6       5278\n",
       "80       1172\n",
       "tt       1055\n",
       "other    1001\n",
       "a1        587\n",
       "a5        529\n",
       "a8        511\n",
       "a2        364\n",
       "100       329\n",
       "q7        200\n",
       "q5         95\n",
       "90         79\n",
       "200        17\n",
       "q3         12\n",
       "dtype: int64"
      ]
     },
     "execution_count": 48,
     "metadata": {},
     "output_type": "execute_result"
    }
   ],
   "source": [
    "data.query('brand == \"audi\"').value_counts(\"model\")"
   ]
  },
  {
   "cell_type": "code",
   "execution_count": 49,
   "metadata": {},
   "outputs": [
    {
     "data": {
      "text/plain": [
       "model\n",
       "golf           25673\n",
       "polo           10224\n",
       "passat          9323\n",
       "transporter     4591\n",
       "touran          3414\n",
       "lupo            2318\n",
       "caddy           1504\n",
       "sharan          1437\n",
       "bora             848\n",
       "beetle           805\n",
       "fox              730\n",
       "other            656\n",
       "tiguan           651\n",
       "scirocco         582\n",
       "touareg          572\n",
       "eos              510\n",
       "kaefer           371\n",
       "up               340\n",
       "jetta            323\n",
       "phaeton          210\n",
       "cc               131\n",
       "amarok            12\n",
       "dtype: int64"
      ]
     },
     "execution_count": 49,
     "metadata": {},
     "output_type": "execute_result"
    }
   ],
   "source": [
    "data.query('brand == \"volkswagen\"').value_counts(\"model\")"
   ]
  },
  {
   "cell_type": "markdown",
   "metadata": {},
   "source": [
    "Se puede apreciar que se maneja la categoría other para modelo, que probablemente no se conozca su modelo. Por consiguiente se llenará los valores ausentes de la columna `model` con \"other\""
   ]
  },
  {
   "cell_type": "code",
   "execution_count": 50,
   "metadata": {},
   "outputs": [],
   "source": [
    "#Se llenan los valores ausentes de la columna\n",
    "data[\"model\"] = data[\"model\"].fillna(\"other\")"
   ]
  },
  {
   "cell_type": "code",
   "execution_count": 51,
   "metadata": {
    "scrolled": true
   },
   "outputs": [
    {
     "data": {
      "text/plain": [
       "0"
      ]
     },
     "execution_count": 51,
     "metadata": {},
     "output_type": "execute_result"
    }
   ],
   "source": [
    "data[\"model\"].isna().sum()"
   ]
  },
  {
   "cell_type": "markdown",
   "metadata": {},
   "source": [
    "Los valores ausentes se llenaron correctamente."
   ]
  },
  {
   "cell_type": "markdown",
   "metadata": {},
   "source": [
    "### Datos mileage"
   ]
  },
  {
   "cell_type": "code",
   "execution_count": 52,
   "metadata": {},
   "outputs": [
    {
     "data": {
      "text/plain": [
       "array([125000, 150000,  90000,  30000,  70000, 100000,  60000,   5000,\n",
       "        20000,  80000,  50000,  40000,  10000])"
      ]
     },
     "execution_count": 52,
     "metadata": {},
     "output_type": "execute_result"
    }
   ],
   "source": [
    "data[\"mileage\"].unique()"
   ]
  },
  {
   "cell_type": "code",
   "execution_count": 53,
   "metadata": {},
   "outputs": [
    {
     "data": {
      "text/plain": [
       "0"
      ]
     },
     "execution_count": 53,
     "metadata": {},
     "output_type": "execute_result"
    }
   ],
   "source": [
    "data[\"mileage\"].isna().sum()"
   ]
  },
  {
   "cell_type": "markdown",
   "metadata": {},
   "source": [
    "No se encuentran valores atípicos ni ausentes en la columna `mileage`"
   ]
  },
  {
   "cell_type": "markdown",
   "metadata": {},
   "source": [
    "### Datos fuel_type"
   ]
  },
  {
   "cell_type": "code",
   "execution_count": 54,
   "metadata": {},
   "outputs": [
    {
     "data": {
      "text/plain": [
       "array(['gasoline', 'petrol', nan, 'lpg', 'other', 'hybrid', 'cng',\n",
       "       'electric'], dtype=object)"
      ]
     },
     "execution_count": 54,
     "metadata": {},
     "output_type": "execute_result"
    }
   ],
   "source": [
    "data[\"fuel_type\"].unique()"
   ]
  },
  {
   "cell_type": "code",
   "execution_count": 55,
   "metadata": {},
   "outputs": [
    {
     "data": {
      "text/plain": [
       "22372"
      ]
     },
     "execution_count": 55,
     "metadata": {},
     "output_type": "execute_result"
    }
   ],
   "source": [
    "data[\"fuel_type\"].isna().sum()"
   ]
  },
  {
   "cell_type": "markdown",
   "metadata": {},
   "source": [
    "Se encuentra mucho valores ausentes en la columna `fuel_type`. Se requiere rellenar esos valores. Se rellenarán con el valor de la categoria \"other\""
   ]
  },
  {
   "cell_type": "code",
   "execution_count": 56,
   "metadata": {},
   "outputs": [],
   "source": [
    "#Se llenan los valores ausentes de la columna\n",
    "data[\"fuel_type\"] = data[\"fuel_type\"].fillna(\"other\")"
   ]
  },
  {
   "cell_type": "code",
   "execution_count": 57,
   "metadata": {
    "scrolled": true
   },
   "outputs": [
    {
     "data": {
      "text/plain": [
       "0"
      ]
     },
     "execution_count": 57,
     "metadata": {},
     "output_type": "execute_result"
    }
   ],
   "source": [
    "data[\"fuel_type\"].isna().sum()"
   ]
  },
  {
   "cell_type": "markdown",
   "metadata": {},
   "source": [
    "Los valores ausente se llenaron correctamente."
   ]
  },
  {
   "cell_type": "markdown",
   "metadata": {},
   "source": [
    "### Datos brand"
   ]
  },
  {
   "cell_type": "code",
   "execution_count": 58,
   "metadata": {},
   "outputs": [
    {
     "data": {
      "text/plain": [
       "array(['audi', 'jeep', 'volkswagen', 'skoda', 'bmw', 'peugeot', 'ford',\n",
       "       'mazda', 'nissan', 'renault', 'mercedes_benz', 'opel', 'citroen',\n",
       "       'honda', 'fiat', 'mini', 'smart', 'hyundai', 'seat', 'subaru',\n",
       "       'volvo', 'mitsubishi', 'alfa_romeo', 'kia', 'suzuki', 'lancia',\n",
       "       'toyota', 'chevrolet', 'dacia', 'sonstige_autos', 'daihatsu',\n",
       "       'chrysler', 'jaguar', 'daewoo', 'rover', 'porsche', 'saab',\n",
       "       'trabant', 'land_rover', 'lada'], dtype=object)"
      ]
     },
     "execution_count": 58,
     "metadata": {},
     "output_type": "execute_result"
    }
   ],
   "source": [
    "data[\"brand\"].unique()"
   ]
  },
  {
   "cell_type": "code",
   "execution_count": 59,
   "metadata": {},
   "outputs": [
    {
     "data": {
      "text/plain": [
       "0"
      ]
     },
     "execution_count": 59,
     "metadata": {},
     "output_type": "execute_result"
    }
   ],
   "source": [
    "data[\"brand\"].isna().sum()"
   ]
  },
  {
   "cell_type": "markdown",
   "metadata": {},
   "source": [
    "No se encuentra valores atípicos o ausentes en la columna `brand`"
   ]
  },
  {
   "cell_type": "markdown",
   "metadata": {},
   "source": [
    "### Datos not_repaired"
   ]
  },
  {
   "cell_type": "code",
   "execution_count": 60,
   "metadata": {},
   "outputs": [
    {
     "data": {
      "text/plain": [
       "array(['yes', nan, 'no'], dtype=object)"
      ]
     },
     "execution_count": 60,
     "metadata": {},
     "output_type": "execute_result"
    }
   ],
   "source": [
    "data[\"not_repaired\"].unique()"
   ]
  },
  {
   "cell_type": "code",
   "execution_count": 61,
   "metadata": {},
   "outputs": [
    {
     "data": {
      "text/plain": [
       "52775"
      ]
     },
     "execution_count": 61,
     "metadata": {},
     "output_type": "execute_result"
    }
   ],
   "source": [
    "data[\"not_repaired\"].isna().sum()"
   ]
  },
  {
   "cell_type": "code",
   "execution_count": 62,
   "metadata": {
    "scrolled": false
   },
   "outputs": [
    {
     "name": "stdout",
     "output_type": "stream",
     "text": [
      "Porcentaje de datos que se eliminarían: 17.0\n"
     ]
    }
   ],
   "source": [
    "print(\"Porcentaje de datos que se eliminarían:\",\n",
    "round(len(data.query('not_repaired.isna()')) / len(data), 2) * 100 \n",
    ")"
   ]
  },
  {
   "cell_type": "markdown",
   "metadata": {},
   "source": [
    "Se eliminarían el 17% de los datos de no poderse rellenar los valores ausentes. Debido a que no podemos determinar si el vehiculos ha sido reparado. Se rellenaran los datos con el valor \"undetermined\""
   ]
  },
  {
   "cell_type": "code",
   "execution_count": 63,
   "metadata": {},
   "outputs": [],
   "source": [
    "#Se llenan los valores ausentes de la columna\n",
    "data[\"not_repaired\"] = data[\"not_repaired\"].fillna(\"undetermined\")"
   ]
  },
  {
   "cell_type": "code",
   "execution_count": 64,
   "metadata": {
    "scrolled": true
   },
   "outputs": [
    {
     "data": {
      "text/plain": [
       "0"
      ]
     },
     "execution_count": 64,
     "metadata": {},
     "output_type": "execute_result"
    }
   ],
   "source": [
    "data[\"not_repaired\"].isna().sum()"
   ]
  },
  {
   "cell_type": "markdown",
   "metadata": {},
   "source": [
    "Los valores ausente se llenaron correctamente."
   ]
  },
  {
   "cell_type": "markdown",
   "metadata": {},
   "source": [
    "### Creación de las variables features y target"
   ]
  },
  {
   "cell_type": "code",
   "execution_count": 65,
   "metadata": {},
   "outputs": [],
   "source": [
    "#Se guarda en la variable todas las columnas execpto exited\n",
    "features = data.drop(\"price\", axis=1)"
   ]
  },
  {
   "cell_type": "code",
   "execution_count": 66,
   "metadata": {},
   "outputs": [],
   "source": [
    "#Solo se guarda en la variable la columna \n",
    "target = data[\"price\"]"
   ]
  },
  {
   "cell_type": "markdown",
   "metadata": {},
   "source": [
    "### Adecuación de OHE"
   ]
  },
  {
   "cell_type": "code",
   "execution_count": 67,
   "metadata": {},
   "outputs": [],
   "source": [
    "#creación de variables dummies\n",
    "data_ohe = pd.get_dummies(data, drop_first=True)"
   ]
  },
  {
   "cell_type": "code",
   "execution_count": 68,
   "metadata": {},
   "outputs": [],
   "source": [
    "#Se guarda en la variable todas las columnas execpto exited\n",
    "features_ohe = data_ohe.drop(\"price\", axis=1)"
   ]
  },
  {
   "cell_type": "code",
   "execution_count": 69,
   "metadata": {},
   "outputs": [],
   "source": [
    "#Solo se guarda en la variable la columna \n",
    "target_ohe = data[\"price\"]"
   ]
  },
  {
   "cell_type": "markdown",
   "metadata": {},
   "source": [
    "### Adecuación Codificicación de etiquetas"
   ]
  },
  {
   "cell_type": "code",
   "execution_count": 70,
   "metadata": {},
   "outputs": [],
   "source": [
    "#creación de codificador de etiquetas\n",
    "encoder = OrdinalEncoder()\n",
    "data_ordinal = pd.DataFrame(encoder.fit_transform(data), columns=data.columns)"
   ]
  },
  {
   "cell_type": "code",
   "execution_count": 71,
   "metadata": {},
   "outputs": [],
   "source": [
    "features_cod = data_ordinal.drop(\"price\", axis=1)"
   ]
  },
  {
   "cell_type": "code",
   "execution_count": 72,
   "metadata": {},
   "outputs": [],
   "source": [
    "target_cod = data_ordinal[\"price\"]"
   ]
  },
  {
   "cell_type": "markdown",
   "metadata": {},
   "source": [
    "### Segmentación de los conjuntos de entrenamiento y validación"
   ]
  },
  {
   "cell_type": "code",
   "execution_count": 73,
   "metadata": {},
   "outputs": [],
   "source": [
    "# Segmentos \n",
    "(features_train, features_valid, \n",
    " target_train, target_valid) = train_test_split(features, target, \n",
    "                                              test_size=0.30, random_state= 931106)\n",
    "(features_valid, features_test,\n",
    "target_valid, target_test) = train_test_split(features_valid, target_valid, \n",
    "                                              test_size=0.50, random_state= 931106)"
   ]
  },
  {
   "cell_type": "code",
   "execution_count": 74,
   "metadata": {},
   "outputs": [
    {
     "name": "stdout",
     "output_type": "stream",
     "text": [
      "Número de filas del conjunto de datos features_train:  218323\n",
      "Número de filas del conjunto de datos features_valid:  46784\n",
      "Número de filas del conjunto de datos features_test:  46784\n"
     ]
    }
   ],
   "source": [
    "print(f\"Número de filas del conjunto de datos features_train: \"\n",
    "      ,features_train.shape[0])\n",
    "print(f\"Número de filas del conjunto de datos features_valid: \"\n",
    "      ,features_valid.shape[0])\n",
    "print(f\"Número de filas del conjunto de datos features_test: \"\n",
    "      ,features_test.shape[0])"
   ]
  },
  {
   "cell_type": "code",
   "execution_count": 75,
   "metadata": {},
   "outputs": [],
   "source": [
    "# Segmentos para OHE\n",
    "(features_train_ohe, features_valid_ohe, \n",
    " target_train_ohe, target_valid_ohe) = train_test_split(features_ohe, target_ohe, \n",
    "                                              test_size=0.30, random_state= 931106)\n",
    "(features_valid_ohe, features_test_ohe,\n",
    "target_valid_ohe, target_test_ohe) = train_test_split(features_valid_ohe, target_valid_ohe, \n",
    "                                              test_size=0.50, random_state= 931106)"
   ]
  },
  {
   "cell_type": "code",
   "execution_count": 76,
   "metadata": {},
   "outputs": [
    {
     "name": "stdout",
     "output_type": "stream",
     "text": [
      "Número de filas del conjunto de datos features_train:  218323\n",
      "Número de filas del conjunto de datos features_valid:  46784\n",
      "Número de filas del conjunto de datos features_test:  46784\n"
     ]
    }
   ],
   "source": [
    "print(f\"Número de filas del conjunto de datos features_train: \"\n",
    "      ,features_train_ohe.shape[0])\n",
    "print(f\"Número de filas del conjunto de datos features_valid: \"\n",
    "      ,features_valid_ohe.shape[0])\n",
    "print(f\"Número de filas del conjunto de datos features_test: \"\n",
    "      ,features_test_ohe.shape[0])"
   ]
  },
  {
   "cell_type": "code",
   "execution_count": 77,
   "metadata": {},
   "outputs": [],
   "source": [
    "# Segmentos para cod\n",
    "(features_train_cod, features_valid_cod, \n",
    " target_train_cod, target_valid_cod) = train_test_split(features_cod, target_cod, \n",
    "                                              test_size=0.30, random_state= 931106)\n",
    "(features_valid_cod, features_test_cod,\n",
    "target_valid_cod, target_test_cod) = train_test_split(features_valid_cod, target_valid_cod, \n",
    "                                              test_size=0.50, random_state= 931106)"
   ]
  },
  {
   "cell_type": "code",
   "execution_count": 78,
   "metadata": {},
   "outputs": [
    {
     "name": "stdout",
     "output_type": "stream",
     "text": [
      "Número de filas del conjunto de datos features_train:  218323\n",
      "Número de filas del conjunto de datos features_valid:  46784\n",
      "Número de filas del conjunto de datos features_test:  46784\n"
     ]
    }
   ],
   "source": [
    "print(f\"Número de filas del conjunto de datos features_train: \"\n",
    "      ,features_train_cod.shape[0])\n",
    "print(f\"Número de filas del conjunto de datos features_valid: \"\n",
    "      ,features_valid_cod.shape[0])\n",
    "print(f\"Número de filas del conjunto de datos features_test: \"\n",
    "      ,features_test_cod.shape[0])"
   ]
  },
  {
   "cell_type": "markdown",
   "metadata": {},
   "source": [
    "### Escalado de características"
   ]
  },
  {
   "cell_type": "code",
   "execution_count": 79,
   "metadata": {},
   "outputs": [
    {
     "data": {
      "text/plain": [
       "StandardScaler()"
      ]
     },
     "execution_count": 79,
     "metadata": {},
     "output_type": "execute_result"
    }
   ],
   "source": [
    "#Se establecen las columnas numericas que sera escaladas para OHE\n",
    "numeric = ['registration_year', 'power', 'mileage']\n",
    "\n",
    "scaler = StandardScaler()\n",
    "scaler.fit(features_train_ohe[numeric])"
   ]
  },
  {
   "cell_type": "code",
   "execution_count": 80,
   "metadata": {},
   "outputs": [
    {
     "name": "stderr",
     "output_type": "stream",
     "text": [
      "/tmp/ipykernel_118/123155250.py:2: SettingWithCopyWarning: \n",
      "A value is trying to be set on a copy of a slice from a DataFrame.\n",
      "Try using .loc[row_indexer,col_indexer] = value instead\n",
      "\n",
      "See the caveats in the documentation: https://pandas.pydata.org/pandas-docs/stable/user_guide/indexing.html#returning-a-view-versus-a-copy\n",
      "  features_train_ohe[numeric]= scaler.transform(features_train_ohe[numeric])\n",
      "/opt/conda/lib/python3.9/site-packages/pandas/core/indexing.py:1738: SettingWithCopyWarning: \n",
      "A value is trying to be set on a copy of a slice from a DataFrame.\n",
      "Try using .loc[row_indexer,col_indexer] = value instead\n",
      "\n",
      "See the caveats in the documentation: https://pandas.pydata.org/pandas-docs/stable/user_guide/indexing.html#returning-a-view-versus-a-copy\n",
      "  self._setitem_single_column(loc, value[:, i].tolist(), pi)\n"
     ]
    }
   ],
   "source": [
    "#Escalado para OHE\n",
    "features_train_ohe[numeric]= scaler.transform(features_train_ohe[numeric])\n",
    "features_valid_ohe[numeric] = scaler.transform(features_valid_ohe[numeric])\n",
    "features_test_ohe[numeric] = scaler.transform(features_test_ohe[numeric])"
   ]
  },
  {
   "cell_type": "code",
   "execution_count": 81,
   "metadata": {},
   "outputs": [
    {
     "data": {
      "text/plain": [
       "StandardScaler()"
      ]
     },
     "execution_count": 81,
     "metadata": {},
     "output_type": "execute_result"
    }
   ],
   "source": [
    "#Se establecen las columnas numericas que sera escaladas para cod\n",
    "numeric = ['registration_year', 'power', 'mileage']\n",
    "\n",
    "scaler = StandardScaler()\n",
    "scaler.fit(features_train_cod[numeric])"
   ]
  },
  {
   "cell_type": "code",
   "execution_count": 82,
   "metadata": {
    "scrolled": true
   },
   "outputs": [
    {
     "name": "stderr",
     "output_type": "stream",
     "text": [
      "/tmp/ipykernel_118/658102002.py:2: SettingWithCopyWarning: \n",
      "A value is trying to be set on a copy of a slice from a DataFrame.\n",
      "Try using .loc[row_indexer,col_indexer] = value instead\n",
      "\n",
      "See the caveats in the documentation: https://pandas.pydata.org/pandas-docs/stable/user_guide/indexing.html#returning-a-view-versus-a-copy\n",
      "  features_train_cod[numeric]= scaler.transform(features_train_ohe[numeric])\n",
      "/opt/conda/lib/python3.9/site-packages/pandas/core/indexing.py:1637: SettingWithCopyWarning: \n",
      "A value is trying to be set on a copy of a slice from a DataFrame\n",
      "\n",
      "See the caveats in the documentation: https://pandas.pydata.org/pandas-docs/stable/user_guide/indexing.html#returning-a-view-versus-a-copy\n",
      "  self._setitem_single_block(indexer, value, name)\n",
      "/opt/conda/lib/python3.9/site-packages/pandas/core/indexing.py:692: SettingWithCopyWarning: \n",
      "A value is trying to be set on a copy of a slice from a DataFrame\n",
      "\n",
      "See the caveats in the documentation: https://pandas.pydata.org/pandas-docs/stable/user_guide/indexing.html#returning-a-view-versus-a-copy\n",
      "  iloc._setitem_with_indexer(indexer, value, self.name)\n"
     ]
    }
   ],
   "source": [
    "#Escalado para cod\n",
    "features_train_cod[numeric]= scaler.transform(features_train_ohe[numeric])\n",
    "features_valid_cod[numeric] = scaler.transform(features_valid_ohe[numeric])\n",
    "features_test_cod[numeric] = scaler.transform(features_test_ohe[numeric])"
   ]
  },
  {
   "cell_type": "markdown",
   "metadata": {},
   "source": [
    "## Entrenamiento del modelo "
   ]
  },
  {
   "cell_type": "markdown",
   "metadata": {},
   "source": [
    "### Modelo de Regresión Lineal"
   ]
  },
  {
   "cell_type": "code",
   "execution_count": 83,
   "metadata": {
    "scrolled": true
   },
   "outputs": [
    {
     "name": "stdout",
     "output_type": "stream",
     "text": [
      "Raiz cuadrada del error cuadrático medio del conjunto de test: 2850.67\n",
      "Valor R2 del conjunto de test: 0.61\n",
      "Tiempo de ejecución 16.8\n"
     ]
    }
   ],
   "source": [
    "model = LinearRegression()  \n",
    "start = time()\n",
    "model.fit(features_train_ohe, target_train_ohe) \n",
    "end = time()\n",
    "predicted_valid = model.predict(features_test_ohe) \n",
    "\n",
    "recm_rl = mean_squared_error(target_test, predicted_valid) ** 0.5 #Se eleva a potencia 0.5 para obtener RECM\n",
    "r2_rl = r2_score(target_test, predicted_valid)\n",
    "time_rl = round(end - start, 2)\n",
    "\n",
    "print(\"Raiz cuadrada del error cuadrático medio del conjunto de test:\", \n",
    "      round(recm_rl, 2))\n",
    "print(\"Valor R2 del conjunto de test:\", \n",
    "      round(r2_rl, 2))\n",
    "print(\"Tiempo de ejecución\", time_rl)"
   ]
  },
  {
   "cell_type": "markdown",
   "metadata": {},
   "source": [
    "Se puede apreciar que se obtuvo un modelo con predicciones de calidad media con un RMSE 2,850.67 del precio del vehiculo y un R2 del 61%. Esto quiere decir que nuestra predicciones son acertadas en un nivel aceptable. El tiempo de ejecución aproximado de 17.85 segundos."
   ]
  },
  {
   "cell_type": "markdown",
   "metadata": {},
   "source": [
    "### Modelo Random Forest Regressor"
   ]
  },
  {
   "cell_type": "code",
   "execution_count": 84,
   "metadata": {
    "scrolled": true
   },
   "outputs": [
    {
     "name": "stdout",
     "output_type": "stream",
     "text": [
      "{'max_depth': 16, 'max_features': 3, 'n_estimators': 9}\n",
      "0.8369513045117797\n",
      "Tiempo de ejecución 48.3\n"
     ]
    }
   ],
   "source": [
    "start = time()\n",
    "model = RandomForestRegressor(random_state=931106)\n",
    "params = {\n",
    "          'n_estimators': list(range(1, 10)),\n",
    "          'max_depth': [4, 8, 12, 16],\n",
    "          'max_features': [2, 3]\n",
    "         }\n",
    "         \n",
    "clf = GridSearchCV(model, params, cv = 5, scoring='r2')\n",
    "clf.fit(features_valid_cod, target_valid_cod)\n",
    "end = time()\n",
    "print(clf.best_params_)\n",
    "print(clf.best_score_)\n",
    "print(\"Tiempo de ejecución\", round(end - start, 2))"
   ]
  },
  {
   "cell_type": "code",
   "execution_count": 85,
   "metadata": {
    "scrolled": true
   },
   "outputs": [
    {
     "name": "stdout",
     "output_type": "stream",
     "text": [
      "Raiz cuadrada del error cuadrático medio del conjunto de test: 344.43\n",
      "Valor R2 del conjuntos de test: 0.86\n",
      "Tiempo de ejecución 2.36\n"
     ]
    }
   ],
   "source": [
    "model = RandomForestRegressor(\n",
    "                                random_state=931106, \n",
    "                                n_estimators= 9,\n",
    "                                max_features=3,\n",
    "                                max_depth= 16\n",
    "                            ) \n",
    "start = time()\n",
    "model.fit(features_train_cod, target_train_cod) \n",
    "end = time()\n",
    "predicted_valid = model.predict(features_test_cod) \n",
    "\n",
    "recm_rf = mean_squared_error(target_test_cod, predicted_valid) ** 0.5 #Se eleva a potencia 0.5 para obtener RECM\n",
    "r2_rf = r2_score(target_test_cod, predicted_valid)\n",
    "time_rf = round(end - start, 2)\n",
    "\n",
    "print(\"Raiz cuadrada del error cuadrático medio del conjunto de test:\", \n",
    "      round(recm_rf, 2))\n",
    "print(\"Valor R2 del conjuntos de test:\", \n",
    "      round(r2_rf, 2))\n",
    "print(\"Tiempo de ejecución\", time_rf)"
   ]
  },
  {
   "cell_type": "markdown",
   "metadata": {},
   "source": [
    "Se puede apreciar que se obtuvo un modelo con predicciones de calidad alta con un RMSE 344.43 del precio del vehiculo y un R2 del 86%. Esto quiere decir que nuestra predicciones son acertadas en un nivel aceptable. El tiempo de ejecución aproximado de 3.61 segundos."
   ]
  },
  {
   "cell_type": "markdown",
   "metadata": {},
   "source": [
    "### Modelo LightGBM"
   ]
  },
  {
   "cell_type": "markdown",
   "metadata": {},
   "source": [
    "Se realizarán dos modelo, uno sin hiperparámetros y otro utilizando hiperaparámetros."
   ]
  },
  {
   "cell_type": "code",
   "execution_count": 86,
   "metadata": {
    "scrolled": true
   },
   "outputs": [
    {
     "name": "stdout",
     "output_type": "stream",
     "text": [
      "Raiz cuadrada del error cuadrático medio del conjunto de test: 352.44\n",
      "Valor R2 del conjuntos de test: 0.85\n",
      "Tiempo de ejecución 3.92\n"
     ]
    }
   ],
   "source": [
    "model = lgb.LGBMRegressor(random_state=931106)\n",
    "start = time()\n",
    "model.fit(features_train_cod, target_train_cod) \n",
    "end = time()\n",
    "predicted_valid = model.predict(features_test_cod) \n",
    "\n",
    "recm_lgb = mean_squared_error(target_test_cod, predicted_valid) ** 0.5 #Se eleva a potencia 0.5 para obtener RECM\n",
    "r2_lgb = r2_score(target_test_cod, predicted_valid)\n",
    "time_lgb = round(end - start, 2)\n",
    "\n",
    "print(\"Raiz cuadrada del error cuadrático medio del conjunto de test:\", \n",
    "      round(recm_lgb, 2))\n",
    "print(\"Valor R2 del conjuntos de test:\", \n",
    "      round(r2_lgb, 2))\n",
    "print(\"Tiempo de ejecución\", time_lgb)"
   ]
  },
  {
   "cell_type": "markdown",
   "metadata": {},
   "source": [
    "Se puede apreciar que se obtuvo un modelo con predicciones de calidad alta con un RMSE 352.44 del precio del vehiculo y un R2 del 85%. Esto quiere decir que nuestra predicciones son acertadas en un nivel aceptable. El tiempo de ejecución aproximado de 5 segundos."
   ]
  },
  {
   "cell_type": "code",
   "execution_count": 87,
   "metadata": {},
   "outputs": [
    {
     "name": "stdout",
     "output_type": "stream",
     "text": [
      "{'max_depth': 12}\n",
      "0.8477272644111723\n",
      "Tiempo de ejecución 14.18\n"
     ]
    }
   ],
   "source": [
    "start = time()\n",
    "model = lgb.LGBMRegressor(random_state=931106)\n",
    "params = [\n",
    "            {'max_depth': [4, 8, 12]}\n",
    "         ]\n",
    "clf = GridSearchCV(model, params, cv = 5, scoring='r2')\n",
    "clf.fit(features_test_cod, target_test_cod)\n",
    "end = time()\n",
    "print(clf.best_params_)\n",
    "print(clf.best_score_)\n",
    "print(\"Tiempo de ejecución\", round(end - start, 2))"
   ]
  },
  {
   "cell_type": "markdown",
   "metadata": {},
   "source": [
    "Se encontró la mejor estimación en `max_depth` en 12. La librería LightGBM recomienda que el mejor número de hojas se calculas $2^{maxdepth}$, en este caso quedaría $2^{12}$. De igual manera, para hacer más rapido el entranamiento se ajusta `num_threads` al número de nucleos del PC, en este caso se ajusta a 2."
   ]
  },
  {
   "cell_type": "code",
   "execution_count": 88,
   "metadata": {},
   "outputs": [
    {
     "name": "stdout",
     "output_type": "stream",
     "text": [
      "Raiz cuadrada del error cuadrático medio del conjunto de test: 352.44\n",
      "Valor R2 del conjuntos de test: 0.85\n",
      "Tiempo de ejecución 11.64\n"
     ]
    }
   ],
   "source": [
    "model = lgb.LGBMRegressor(\n",
    "                        max_depth= 12, \n",
    "                        num_leaves=2**12, \n",
    "                        num_threads=2, \n",
    "                        random_state=931106\n",
    "                        )\n",
    "start = time()\n",
    "model.fit(features_train_cod, target_train_cod) \n",
    "end = time()\n",
    "predicted_valid = model.predict(features_test_cod) \n",
    "\n",
    "recm_lgb_hip = mean_squared_error(target_test_cod, predicted_valid) ** 0.5 #Se eleva a potencia 0.5 para obtener RECM\n",
    "r2_lgb_hip = r2_score(target_test_cod, predicted_valid)\n",
    "time_lgb_hip = round(end - start, 2)\n",
    "\n",
    "print(\"Raiz cuadrada del error cuadrático medio del conjunto de test:\", \n",
    "      round(recm_lgb, 2))\n",
    "print(\"Valor R2 del conjuntos de test:\", \n",
    "      round(r2_lgb, 2))\n",
    "print(\"Tiempo de ejecución\", time_lgb_hip)"
   ]
  },
  {
   "cell_type": "markdown",
   "metadata": {},
   "source": [
    "Se puede apreciar que se obtuvo un modelo con predicciones de calidad alta con un RMSE 352.44 del precio del vehiculo y un R2 del 85%. Esto quiere decir que nuestra predicciones son acertadas en un nivel aceptable. El tiempo de ejecución aproximado de 11.72 segundos."
   ]
  },
  {
   "cell_type": "markdown",
   "metadata": {},
   "source": [
    "Se puede apreciar que ambos modelos funcionan muy bien, ya sea con o sin hiperparámetros. La diferencia entre los modelos con respecto al R2 es solo del 3%. La mayor distinción es el tiempo de ejecución del código sin hiperparametros tarda aprox 3 segundos y con hiperparaámetros tarda aproximados 12 segundos."
   ]
  },
  {
   "cell_type": "markdown",
   "metadata": {},
   "source": [
    "### Modelo CatBoost"
   ]
  },
  {
   "cell_type": "code",
   "execution_count": 89,
   "metadata": {
    "scrolled": true
   },
   "outputs": [
    {
     "name": "stdout",
     "output_type": "stream",
     "text": [
      "Raiz cuadrada del error cuadrático medio del conjunto de test: 339.3\n",
      "Valor R2 del conjuntos de test: 0.86\n",
      "Tiempo de ejecución 9.14\n"
     ]
    }
   ],
   "source": [
    "model = CatBoostRegressor(random_state=931106, \n",
    "                          loss_function=\"RMSE\", \n",
    "                          silent=True, \n",
    "                          iterations=200\n",
    "                         )\n",
    "start = time()\n",
    "model.fit(features_train_cod, target_train_cod) \n",
    "end = time()\n",
    "predicted_valid = model.predict(features_test_cod) \n",
    "\n",
    "recm_cb = mean_squared_error(target_test_cod, predicted_valid) ** 0.5 #Se eleva a potencia 0.5 para obtener RECM\n",
    "r2_cb = r2_score(target_test_cod, predicted_valid)\n",
    "time_cb = round(end - start, 2)\n",
    "\n",
    "print(\"Raiz cuadrada del error cuadrático medio del conjunto de test:\", \n",
    "      round(recm_cb, 2))\n",
    "print(\"Valor R2 del conjuntos de test:\", \n",
    "      round(r2_cb, 2))\n",
    "print(\"Tiempo de ejecución\", time_cb)"
   ]
  },
  {
   "cell_type": "markdown",
   "metadata": {},
   "source": [
    "Se puede apreciar que se obtuvo un modelo con predicciones de calidad alta con un RMSE 339.3 del precio del vehiculo y un R2 del 86%. Esto quiere decir que nuestra predicciones son acertadas en un nivel aceptable. El tiempo de ejecución aproximado de 10 segundos."
   ]
  },
  {
   "cell_type": "markdown",
   "metadata": {},
   "source": [
    "### Modelo XGboost"
   ]
  },
  {
   "cell_type": "code",
   "execution_count": 90,
   "metadata": {
    "scrolled": true
   },
   "outputs": [
    {
     "name": "stdout",
     "output_type": "stream",
     "text": [
      "Raiz cuadrada del error cuadrático medio del conjunto de test: 2015.78\n",
      "Valor R2 del conjuntos de test: 0.8\n",
      "Tiempo de ejecución 46.21\n"
     ]
    }
   ],
   "source": [
    "model = XGBRegressor(n_estimators = 10, random_state=931106)\n",
    "start = time()\n",
    "model.fit(features_train_ohe, target_train_ohe) \n",
    "end = time()\n",
    "predicted_valid = model.predict(features_test_ohe) \n",
    "\n",
    "recm_xgb = mean_squared_error(target_test_ohe, predicted_valid) ** 0.5 #Se eleva a potencia 0.5 para obtener RECM\n",
    "r2_xgb = r2_score(target_test_ohe, predicted_valid)\n",
    "time_xgb = round(end - start, 2)\n",
    "\n",
    "print(\"Raiz cuadrada del error cuadrático medio del conjunto de test:\", \n",
    "      round(recm_xgb, 2))\n",
    "print(\"Valor R2 del conjuntos de test:\", \n",
    "      round(r2_xgb, 2))\n",
    "print(\"Tiempo de ejecución\", time_xgb)"
   ]
  },
  {
   "cell_type": "markdown",
   "metadata": {},
   "source": [
    "Se puede apreciar que se obtuvo un modelo con predicciones de calidad medio con un RMSE 2,015.78 del precio del vehiculo y un R2 del 80%. Esto quiere decir que nuestra predicciones son acertadas en un nivel bajo debido a que el RMSE es muy alto. El tiempo de ejecución aproximado de 49.98 segundos."
   ]
  },
  {
   "cell_type": "markdown",
   "metadata": {},
   "source": [
    "## Análisis del modelo"
   ]
  },
  {
   "cell_type": "code",
   "execution_count": 91,
   "metadata": {},
   "outputs": [],
   "source": [
    "#Datos modelos\n",
    "rl = [\"Regresión lineal\", recm_rl, r2_rl, time_rl]\n",
    "rf = [\"Random Forest\", recm_rf, r2_rf, time_rf]\n",
    "lgb = [\"LightGBM\", recm_lgb, r2_lgb, time_lgb]\n",
    "lgb_hip = [\"LightGBM con hiperparámetros\", recm_lgb_hip, r2_lgb_hip, time_lgb_hip]\n",
    "cb = [\"CatBoost\", recm_cb, r2_cb, time_cb]\n",
    "xgb = [\"XGboost\", recm_xgb, r2_xgb, time_xgb]"
   ]
  },
  {
   "cell_type": "code",
   "execution_count": 92,
   "metadata": {},
   "outputs": [],
   "source": [
    "#Lista\n",
    "list_model = [rl, rf, lgb, lgb_hip, cb, xgb]"
   ]
  },
  {
   "cell_type": "code",
   "execution_count": 93,
   "metadata": {},
   "outputs": [],
   "source": [
    "#Se crea tabla con valores obtenidos\n",
    "resume = pd.DataFrame(list_model,\n",
    "                      columns = [\"Nombre\", \"RECM\", \"R2\", \"Tiempo de ejecucion\"])"
   ]
  },
  {
   "cell_type": "code",
   "execution_count": 94,
   "metadata": {
    "scrolled": false
   },
   "outputs": [
    {
     "data": {
      "image/png": "[encoded data removed]",
      "text/plain": [
       "<Figure size 720x360 with 1 Axes>"
      ]
     },
     "metadata": {
      "needs_background": "light"
     },
     "output_type": "display_data"
    }
   ],
   "source": [
    "fig, ax = plt.subplots(figsize = (10, 5)) \n",
    "sns.barplot(data=resume.sort_values(\"Tiempo de ejecucion\"),\n",
    "            x=\"RECM\", y=\"Nombre\", hue=\"Tiempo de ejecucion\")\n",
    "ax.set_title( \"RECM vs tiempo de ejecución\" , size = 24 )\n",
    "ax.set_xlabel( \"RECM\" , size = 12 )\n",
    "ax.set_ylabel( \"Modelos\" , size = 12 )\n",
    "plt.show()"
   ]
  },
  {
   "cell_type": "code",
   "execution_count": 95,
   "metadata": {},
   "outputs": [
    {
     "data": {
      "text/html": [
       "<div>\n",
       "<style scoped>\n",
       "    .dataframe tbody tr th:only-of-type {\n",
       "        vertical-align: middle;\n",
       "    }\n",
       "\n",
       "    .dataframe tbody tr th {\n",
       "        vertical-align: top;\n",
       "    }\n",
       "\n",
       "    .dataframe thead th {\n",
       "        text-align: right;\n",
       "    }\n",
       "</style>\n",
       "<table border=\"1\" class=\"dataframe\">\n",
       "  <thead>\n",
       "    <tr style=\"text-align: right;\">\n",
       "      <th></th>\n",
       "      <th>Nombre</th>\n",
       "      <th>RECM</th>\n",
       "      <th>R2</th>\n",
       "      <th>Tiempo de ejecucion</th>\n",
       "    </tr>\n",
       "  </thead>\n",
       "  <tbody>\n",
       "    <tr>\n",
       "      <th>1</th>\n",
       "      <td>Random Forest</td>\n",
       "      <td>344.433855</td>\n",
       "      <td>0.858884</td>\n",
       "      <td>2.36</td>\n",
       "    </tr>\n",
       "    <tr>\n",
       "      <th>2</th>\n",
       "      <td>LightGBM</td>\n",
       "      <td>352.437480</td>\n",
       "      <td>0.852250</td>\n",
       "      <td>3.92</td>\n",
       "    </tr>\n",
       "    <tr>\n",
       "      <th>4</th>\n",
       "      <td>CatBoost</td>\n",
       "      <td>339.297286</td>\n",
       "      <td>0.863062</td>\n",
       "      <td>9.14</td>\n",
       "    </tr>\n",
       "    <tr>\n",
       "      <th>3</th>\n",
       "      <td>LightGBM con hiperparámetros</td>\n",
       "      <td>322.679820</td>\n",
       "      <td>0.876146</td>\n",
       "      <td>11.64</td>\n",
       "    </tr>\n",
       "    <tr>\n",
       "      <th>0</th>\n",
       "      <td>Regresión lineal</td>\n",
       "      <td>2850.674395</td>\n",
       "      <td>0.607371</td>\n",
       "      <td>16.80</td>\n",
       "    </tr>\n",
       "    <tr>\n",
       "      <th>5</th>\n",
       "      <td>XGboost</td>\n",
       "      <td>2015.783322</td>\n",
       "      <td>0.803676</td>\n",
       "      <td>46.21</td>\n",
       "    </tr>\n",
       "  </tbody>\n",
       "</table>\n",
       "</div>"
      ],
      "text/plain": [
       "                         Nombre         RECM        R2  Tiempo de ejecucion\n",
       "1                 Random Forest   344.433855  0.858884                 2.36\n",
       "2                      LightGBM   352.437480  0.852250                 3.92\n",
       "4                      CatBoost   339.297286  0.863062                 9.14\n",
       "3  LightGBM con hiperparámetros   322.679820  0.876146                11.64\n",
       "0              Regresión lineal  2850.674395  0.607371                16.80\n",
       "5                       XGboost  2015.783322  0.803676                46.21"
      ]
     },
     "execution_count": 95,
     "metadata": {},
     "output_type": "execute_result"
    }
   ],
   "source": [
    "resume.sort_values(\"Tiempo de ejecucion\")"
   ]
  },
  {
   "cell_type": "markdown",
   "metadata": {},
   "source": [
    "En este gráfico se pueden apreciar los modelos más rapidos y con menor RECM. Se puede apreciar que Random Forest de la librería Scikit Learn es el modelo más rápido y tiene un RECM bajo; luego LigthGBM y Catboost. En cambio, los modelo que fueron más tardados y con un desempeño medio fueron Regresion Lineal de la librería ScikiLearn y XGboost; estos modelos no solo fueron tardados, sino que tambien su RECM fue bastante alto.\n",
    "\n",
    "En general LightGBM con modificación de hiperaparametros y CatBoost, tuvieron los mejores desempeños de RECM."
   ]
  }
 ],
 "metadata": {
  "kernelspec": {
   "display_name": "Python 3 (ipykernel)",
   "language": "python",
   "name": "python3"
  },
  "language_info": {
   "codemirror_mode": {
    "name": "ipython",
    "version": 3
   },
   "file_extension": ".py",
   "mimetype": "text/x-python",
   "name": "python",
   "nbconvert_exporter": "python",
   "pygments_lexer": "ipython3",
   "version": "3.9.19"
  },
  "toc": {
   "base_numbering": 1,
   "nav_menu": {},
   "number_sections": true,
   "sideBar": true,
   "skip_h1_title": true,
   "title_cell": "Contenido",
   "title_sidebar": "Contents",
   "toc_cell": true,
   "toc_position": {},
   "toc_section_display": true,
   "toc_window_display": true
  }
 },
 "nbformat": 4,
 "nbformat_minor": 2
}
